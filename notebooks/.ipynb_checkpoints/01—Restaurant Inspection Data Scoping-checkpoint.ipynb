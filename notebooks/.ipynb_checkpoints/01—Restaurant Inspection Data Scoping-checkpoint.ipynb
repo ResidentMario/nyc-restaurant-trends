{
 "cells": [
  {
   "cell_type": "markdown",
   "metadata": {},
   "source": [
    "We are interested in looking at trends in restaurant openings and closings by neighborhood in New York City.\n",
    "\n",
    "## Introduction\n",
    "\n",
    "### Restaurant Inspections\n",
    "\n",
    "Occassional restaurant inspections are common practice in government, but the Bloomberg administration gave them greatly hightened visibility when it started to mandate that restaurants that get inspected post a highly visible poster, somewhere on the front of their building, indicating their inspection score.\n",
    "\n",
    "Lots of words can be said about the benefits and downsides of this system. I personally think that it's useful because it's helped clean up food processing in the city, even though the actual ratings system is kind of bunk&mdash;the things you can get points for are rather arbitrary, and some food establishments are just harder to keep clean, under these rules, than others.\n",
    "\n",
    "Restaurant inspection scores are posted publically on the open data portal as the `DOHMH Restaurant Inspection Data` dataset. This includes information on inspection time, location, total pointage, grade, and cuisine type. The dataset goes back to 10/01/2012, so we can reasonably expect that all restaurants in New York City which were open at that time have since been inspected (most multiple times) and scored (inspections occur at least once a year).\n",
    "\n",
    "That means that this dataset also happens to be an easily accessible public record of every restaraunt in New York City! Within certain parameters, of course.\n",
    "\n",
    "For reference purposes, a copy of the description file (`About_NYC_Restaurant_Inspection_Data_on_NYC_OpenData_082014.docx`) and data dictionary (`Copy of Restaurant_Inspection_Open_Data_Dictionary_082214.xlsx`) attached to this dataset (as of 9/24/2016) are saved in the `figures` subfolder."
   ]
  },
  {
   "cell_type": "code",
   "execution_count": 1,
   "metadata": {
    "collapsed": true
   },
   "outputs": [],
   "source": [
    "import pandas as pd"
   ]
  },
  {
   "cell_type": "code",
   "execution_count": 2,
   "metadata": {
    "collapsed": true
   },
   "outputs": [],
   "source": [
    "inspections = pd.read_csv(\"https://data.cityofnewyork.us/api/views/43nn-pn8j/rows.csv?accessType=DOWNLOAD\")"
   ]
  },
  {
   "cell_type": "code",
   "execution_count": 6,
   "metadata": {
    "collapsed": false
   },
   "outputs": [
    {
     "data": {
      "text/html": [
       "<div>\n",
       "<table border=\"1\" class=\"dataframe\">\n",
       "  <thead>\n",
       "    <tr style=\"text-align: right;\">\n",
       "      <th></th>\n",
       "      <th>CAMIS</th>\n",
       "      <th>DBA</th>\n",
       "      <th>BORO</th>\n",
       "      <th>BUILDING</th>\n",
       "      <th>STREET</th>\n",
       "      <th>ZIPCODE</th>\n",
       "      <th>PHONE</th>\n",
       "      <th>CUISINE DESCRIPTION</th>\n",
       "      <th>INSPECTION DATE</th>\n",
       "      <th>ACTION</th>\n",
       "      <th>VIOLATION CODE</th>\n",
       "      <th>VIOLATION DESCRIPTION</th>\n",
       "      <th>CRITICAL FLAG</th>\n",
       "      <th>SCORE</th>\n",
       "      <th>GRADE</th>\n",
       "      <th>GRADE DATE</th>\n",
       "      <th>RECORD DATE</th>\n",
       "      <th>INSPECTION TYPE</th>\n",
       "    </tr>\n",
       "  </thead>\n",
       "  <tbody>\n",
       "    <tr>\n",
       "      <th>0</th>\n",
       "      <td>40647906</td>\n",
       "      <td>TERRACE ON THE PARK</td>\n",
       "      <td>QUEENS</td>\n",
       "      <td>5211</td>\n",
       "      <td>111 STREET</td>\n",
       "      <td>11368</td>\n",
       "      <td>7185925000</td>\n",
       "      <td>American</td>\n",
       "      <td>04/07/2016</td>\n",
       "      <td>Violations were cited in the following area(s).</td>\n",
       "      <td>10B</td>\n",
       "      <td>Plumbing not properly installed or maintained;...</td>\n",
       "      <td>Not Critical</td>\n",
       "      <td>25.0</td>\n",
       "      <td>NaN</td>\n",
       "      <td>NaN</td>\n",
       "      <td>09/24/2016</td>\n",
       "      <td>Cycle Inspection / Initial Inspection</td>\n",
       "    </tr>\n",
       "    <tr>\n",
       "      <th>1</th>\n",
       "      <td>41396241</td>\n",
       "      <td>KITCHEN PROVANCE</td>\n",
       "      <td>MANHATTAN</td>\n",
       "      <td>55</td>\n",
       "      <td>WEST   38 STREET</td>\n",
       "      <td>10018</td>\n",
       "      <td>2128692561</td>\n",
       "      <td>American</td>\n",
       "      <td>05/24/2013</td>\n",
       "      <td>Violations were cited in the following area(s).</td>\n",
       "      <td>10H</td>\n",
       "      <td>Proper sanitization not provided for utensil w...</td>\n",
       "      <td>Not Critical</td>\n",
       "      <td>26.0</td>\n",
       "      <td>NaN</td>\n",
       "      <td>NaN</td>\n",
       "      <td>09/24/2016</td>\n",
       "      <td>Cycle Inspection / Initial Inspection</td>\n",
       "    </tr>\n",
       "    <tr>\n",
       "      <th>2</th>\n",
       "      <td>50009921</td>\n",
       "      <td>HESTIA MARKETPLACE</td>\n",
       "      <td>MANHATTAN</td>\n",
       "      <td>513</td>\n",
       "      <td>FASHION AVE</td>\n",
       "      <td>10018</td>\n",
       "      <td>2127683838</td>\n",
       "      <td>American</td>\n",
       "      <td>06/03/2016</td>\n",
       "      <td>Violations were cited in the following area(s).</td>\n",
       "      <td>10B</td>\n",
       "      <td>Plumbing not properly installed or maintained;...</td>\n",
       "      <td>Not Critical</td>\n",
       "      <td>24.0</td>\n",
       "      <td>NaN</td>\n",
       "      <td>NaN</td>\n",
       "      <td>09/24/2016</td>\n",
       "      <td>Cycle Inspection / Initial Inspection</td>\n",
       "    </tr>\n",
       "  </tbody>\n",
       "</table>\n",
       "</div>"
      ],
      "text/plain": [
       "      CAMIS                  DBA       BORO BUILDING            STREET  \\\n",
       "0  40647906  TERRACE ON THE PARK     QUEENS     5211        111 STREET   \n",
       "1  41396241     KITCHEN PROVANCE  MANHATTAN       55  WEST   38 STREET   \n",
       "2  50009921   HESTIA MARKETPLACE  MANHATTAN      513       FASHION AVE   \n",
       "\n",
       "   ZIPCODE       PHONE CUISINE DESCRIPTION INSPECTION DATE  \\\n",
       "0    11368  7185925000            American      04/07/2016   \n",
       "1    10018  2128692561            American      05/24/2013   \n",
       "2    10018  2127683838            American      06/03/2016   \n",
       "\n",
       "                                            ACTION VIOLATION CODE  \\\n",
       "0  Violations were cited in the following area(s).            10B   \n",
       "1  Violations were cited in the following area(s).            10H   \n",
       "2  Violations were cited in the following area(s).            10B   \n",
       "\n",
       "                               VIOLATION DESCRIPTION CRITICAL FLAG  SCORE  \\\n",
       "0  Plumbing not properly installed or maintained;...  Not Critical   25.0   \n",
       "1  Proper sanitization not provided for utensil w...  Not Critical   26.0   \n",
       "2  Plumbing not properly installed or maintained;...  Not Critical   24.0   \n",
       "\n",
       "  GRADE GRADE DATE RECORD DATE                        INSPECTION TYPE  \n",
       "0   NaN        NaN  09/24/2016  Cycle Inspection / Initial Inspection  \n",
       "1   NaN        NaN  09/24/2016  Cycle Inspection / Initial Inspection  \n",
       "2   NaN        NaN  09/24/2016  Cycle Inspection / Initial Inspection  "
      ]
     },
     "execution_count": 6,
     "metadata": {},
     "output_type": "execute_result"
    }
   ],
   "source": [
    "inspections.head(3)"
   ]
  },
  {
   "cell_type": "code",
   "execution_count": 7,
   "metadata": {
    "collapsed": false
   },
   "outputs": [
    {
     "data": {
      "text/plain": [
       "447235"
      ]
     },
     "execution_count": 7,
     "metadata": {},
     "output_type": "execute_result"
    }
   ],
   "source": [
    "len(inspections)"
   ]
  },
  {
   "cell_type": "markdown",
   "metadata": {},
   "source": [
    "CAMIS is a unique restaurant identifier. This tells us how many restaurants are included in the dataset."
   ]
  },
  {
   "cell_type": "code",
   "execution_count": 4,
   "metadata": {
    "collapsed": false,
    "scrolled": true
   },
   "outputs": [
    {
     "data": {
      "text/plain": [
       "26074"
      ]
     },
     "execution_count": 4,
     "metadata": {},
     "output_type": "execute_result"
    }
   ],
   "source": [
    "len(set(inspections['CAMIS']))"
   ]
  },
  {
   "cell_type": "markdown",
   "metadata": {},
   "source": [
    "Restaurants can get inspected multiple times. The average number of inspections, obtained by dividing total length by total unique IDs, is suspiciously high."
   ]
  },
  {
   "cell_type": "code",
   "execution_count": 8,
   "metadata": {
    "collapsed": false
   },
   "outputs": [
    {
     "data": {
      "text/plain": [
       "17.152527421952904"
      ]
     },
     "execution_count": 8,
     "metadata": {},
     "output_type": "execute_result"
    }
   ],
   "source": [
    "len(inspections) / len(set(inspections['CAMIS']))"
   ]
  },
  {
   "cell_type": "code",
   "execution_count": 18,
   "metadata": {
    "collapsed": false
   },
   "outputs": [
    {
     "data": {
      "text/plain": [
       "<matplotlib.axes._subplots.AxesSubplot at 0x19b2d7b8>"
      ]
     },
     "execution_count": 18,
     "metadata": {},
     "output_type": "execute_result"
    },
    {
     "data": {
      "image/png": "[encoded data removed]",
      "text/plain": [
       "<matplotlib.figure.Figure at 0x19e67358>"
      ]
     },
     "metadata": {},
     "output_type": "display_data"
    }
   ],
   "source": [
    "%matplotlib inline\n",
    "inspections.groupby('CAMIS')\\\n",
    "            .count()['BORO']\\\n",
    "            .sort_values(ascending=False)\\\n",
    "            .reset_index(drop=True)\\\n",
    "            .plot(kind='hist')"
   ]
  },
  {
   "cell_type": "code",
   "execution_count": 19,
   "metadata": {
    "collapsed": false
   },
   "outputs": [
    {
     "data": {
      "text/html": [
       "<div>\n",
       "<table border=\"1\" class=\"dataframe\">\n",
       "  <thead>\n",
       "    <tr style=\"text-align: right;\">\n",
       "      <th></th>\n",
       "      <th>CAMIS</th>\n",
       "      <th>DBA</th>\n",
       "      <th>BORO</th>\n",
       "      <th>BUILDING</th>\n",
       "      <th>STREET</th>\n",
       "      <th>ZIPCODE</th>\n",
       "      <th>PHONE</th>\n",
       "      <th>CUISINE DESCRIPTION</th>\n",
       "      <th>INSPECTION DATE</th>\n",
       "      <th>ACTION</th>\n",
       "      <th>VIOLATION CODE</th>\n",
       "      <th>VIOLATION DESCRIPTION</th>\n",
       "      <th>CRITICAL FLAG</th>\n",
       "      <th>SCORE</th>\n",
       "      <th>GRADE</th>\n",
       "      <th>GRADE DATE</th>\n",
       "      <th>RECORD DATE</th>\n",
       "      <th>INSPECTION TYPE</th>\n",
       "    </tr>\n",
       "  </thead>\n",
       "  <tbody>\n",
       "    <tr>\n",
       "      <th>0</th>\n",
       "      <td>40647906</td>\n",
       "      <td>TERRACE ON THE PARK</td>\n",
       "      <td>QUEENS</td>\n",
       "      <td>5211</td>\n",
       "      <td>111 STREET</td>\n",
       "      <td>11368</td>\n",
       "      <td>7185925000</td>\n",
       "      <td>American</td>\n",
       "      <td>04/07/2016</td>\n",
       "      <td>Violations were cited in the following area(s).</td>\n",
       "      <td>10B</td>\n",
       "      <td>Plumbing not properly installed or maintained;...</td>\n",
       "      <td>Not Critical</td>\n",
       "      <td>25.0</td>\n",
       "      <td>NaN</td>\n",
       "      <td>NaN</td>\n",
       "      <td>09/24/2016</td>\n",
       "      <td>Cycle Inspection / Initial Inspection</td>\n",
       "    </tr>\n",
       "    <tr>\n",
       "      <th>1</th>\n",
       "      <td>41396241</td>\n",
       "      <td>KITCHEN PROVANCE</td>\n",
       "      <td>MANHATTAN</td>\n",
       "      <td>55</td>\n",
       "      <td>WEST   38 STREET</td>\n",
       "      <td>10018</td>\n",
       "      <td>2128692561</td>\n",
       "      <td>American</td>\n",
       "      <td>05/24/2013</td>\n",
       "      <td>Violations were cited in the following area(s).</td>\n",
       "      <td>10H</td>\n",
       "      <td>Proper sanitization not provided for utensil w...</td>\n",
       "      <td>Not Critical</td>\n",
       "      <td>26.0</td>\n",
       "      <td>NaN</td>\n",
       "      <td>NaN</td>\n",
       "      <td>09/24/2016</td>\n",
       "      <td>Cycle Inspection / Initial Inspection</td>\n",
       "    </tr>\n",
       "    <tr>\n",
       "      <th>2</th>\n",
       "      <td>50009921</td>\n",
       "      <td>HESTIA MARKETPLACE</td>\n",
       "      <td>MANHATTAN</td>\n",
       "      <td>513</td>\n",
       "      <td>FASHION AVE</td>\n",
       "      <td>10018</td>\n",
       "      <td>2127683838</td>\n",
       "      <td>American</td>\n",
       "      <td>06/03/2016</td>\n",
       "      <td>Violations were cited in the following area(s).</td>\n",
       "      <td>10B</td>\n",
       "      <td>Plumbing not properly installed or maintained;...</td>\n",
       "      <td>Not Critical</td>\n",
       "      <td>24.0</td>\n",
       "      <td>NaN</td>\n",
       "      <td>NaN</td>\n",
       "      <td>09/24/2016</td>\n",
       "      <td>Cycle Inspection / Initial Inspection</td>\n",
       "    </tr>\n",
       "    <tr>\n",
       "      <th>3</th>\n",
       "      <td>41580873</td>\n",
       "      <td>JOLIE CANTINA</td>\n",
       "      <td>BROOKLYN</td>\n",
       "      <td>241</td>\n",
       "      <td>SMITH STREET</td>\n",
       "      <td>11231</td>\n",
       "      <td>7184880777</td>\n",
       "      <td>French</td>\n",
       "      <td>05/03/2014</td>\n",
       "      <td>Violations were cited in the following area(s).</td>\n",
       "      <td>06C</td>\n",
       "      <td>Food not protected from potential source of co...</td>\n",
       "      <td>Critical</td>\n",
       "      <td>21.0</td>\n",
       "      <td>NaN</td>\n",
       "      <td>NaN</td>\n",
       "      <td>09/24/2016</td>\n",
       "      <td>Cycle Inspection / Initial Inspection</td>\n",
       "    </tr>\n",
       "    <tr>\n",
       "      <th>4</th>\n",
       "      <td>40386425</td>\n",
       "      <td>Tasty's</td>\n",
       "      <td>QUEENS</td>\n",
       "      <td>5802</td>\n",
       "      <td>MYRTLE AVENUE</td>\n",
       "      <td>11385</td>\n",
       "      <td>7184560954</td>\n",
       "      <td>American</td>\n",
       "      <td>06/06/2013</td>\n",
       "      <td>Violations were cited in the following area(s).</td>\n",
       "      <td>04N</td>\n",
       "      <td>Filth flies or food/refuse/sewage-associated (...</td>\n",
       "      <td>Critical</td>\n",
       "      <td>16.0</td>\n",
       "      <td>B</td>\n",
       "      <td>06/06/2013</td>\n",
       "      <td>09/24/2016</td>\n",
       "      <td>Cycle Inspection / Re-inspection</td>\n",
       "    </tr>\n",
       "  </tbody>\n",
       "</table>\n",
       "</div>"
      ],
      "text/plain": [
       "      CAMIS                  DBA       BORO BUILDING            STREET  \\\n",
       "0  40647906  TERRACE ON THE PARK     QUEENS     5211        111 STREET   \n",
       "1  41396241     KITCHEN PROVANCE  MANHATTAN       55  WEST   38 STREET   \n",
       "2  50009921   HESTIA MARKETPLACE  MANHATTAN      513       FASHION AVE   \n",
       "3  41580873        JOLIE CANTINA   BROOKLYN      241      SMITH STREET   \n",
       "4  40386425              Tasty's     QUEENS     5802     MYRTLE AVENUE   \n",
       "\n",
       "   ZIPCODE       PHONE CUISINE DESCRIPTION INSPECTION DATE  \\\n",
       "0    11368  7185925000            American      04/07/2016   \n",
       "1    10018  2128692561            American      05/24/2013   \n",
       "2    10018  2127683838            American      06/03/2016   \n",
       "3    11231  7184880777              French      05/03/2014   \n",
       "4    11385  7184560954            American      06/06/2013   \n",
       "\n",
       "                                            ACTION VIOLATION CODE  \\\n",
       "0  Violations were cited in the following area(s).            10B   \n",
       "1  Violations were cited in the following area(s).            10H   \n",
       "2  Violations were cited in the following area(s).            10B   \n",
       "3  Violations were cited in the following area(s).            06C   \n",
       "4  Violations were cited in the following area(s).            04N   \n",
       "\n",
       "                               VIOLATION DESCRIPTION CRITICAL FLAG  SCORE  \\\n",
       "0  Plumbing not properly installed or maintained;...  Not Critical   25.0   \n",
       "1  Proper sanitization not provided for utensil w...  Not Critical   26.0   \n",
       "2  Plumbing not properly installed or maintained;...  Not Critical   24.0   \n",
       "3  Food not protected from potential source of co...      Critical   21.0   \n",
       "4  Filth flies or food/refuse/sewage-associated (...      Critical   16.0   \n",
       "\n",
       "  GRADE  GRADE DATE RECORD DATE                        INSPECTION TYPE  \n",
       "0   NaN         NaN  09/24/2016  Cycle Inspection / Initial Inspection  \n",
       "1   NaN         NaN  09/24/2016  Cycle Inspection / Initial Inspection  \n",
       "2   NaN         NaN  09/24/2016  Cycle Inspection / Initial Inspection  \n",
       "3   NaN         NaN  09/24/2016  Cycle Inspection / Initial Inspection  \n",
       "4     B  06/06/2013  09/24/2016       Cycle Inspection / Re-inspection  "
      ]
     },
     "execution_count": 19,
     "metadata": {},
     "output_type": "execute_result"
    }
   ],
   "source": [
    "inspections.head(5)"
   ]
  },
  {
   "cell_type": "markdown",
   "metadata": {},
   "source": [
    "But they really do appear to get inspected and recieve inspection grades that often."
   ]
  },
  {
   "cell_type": "code",
   "execution_count": 39,
   "metadata": {
    "collapsed": false
   },
   "outputs": [
    {
     "data": {
      "text/plain": [
       "0         04/07/2016\n",
       "265       02/20/2014\n",
       "27319     10/01/2014\n",
       "28311     10/22/2014\n",
       "33476     11/21/2013\n",
       "51121     04/07/2016\n",
       "74217     05/17/2013\n",
       "79118     04/07/2016\n",
       "81600     02/20/2014\n",
       "101071    05/17/2013\n",
       "102863    05/25/2013\n",
       "104882    05/17/2013\n",
       "125832    05/17/2013\n",
       "133860    04/07/2016\n",
       "136064    10/01/2014\n",
       "137973    05/17/2013\n",
       "161478    05/25/2013\n",
       "166933    05/17/2013\n",
       "178399    05/17/2013\n",
       "184705    05/25/2013\n",
       "191738    10/01/2014\n",
       "194158    11/21/2013\n",
       "205633    10/22/2014\n",
       "208747    04/07/2016\n",
       "213968    04/07/2016\n",
       "224619    04/07/2016\n",
       "240500    05/04/2016\n",
       "252248    05/11/2013\n",
       "258670    05/04/2016\n",
       "273708    05/17/2013\n",
       "282268    10/01/2014\n",
       "289067    04/07/2016\n",
       "300975    11/21/2013\n",
       "300987    10/01/2014\n",
       "301581    11/21/2013\n",
       "303876    11/21/2013\n",
       "305965    03/31/2015\n",
       "333016    10/22/2014\n",
       "339046    05/04/2016\n",
       "369126    10/01/2014\n",
       "375896    05/04/2016\n",
       "389744    10/01/2014\n",
       "414311    11/21/2013\n",
       "432907    03/31/2015\n",
       "444440    03/31/2015\n",
       "Name: INSPECTION DATE, dtype: object"
      ]
     },
     "execution_count": 39,
     "metadata": {},
     "output_type": "execute_result"
    }
   ],
   "source": [
    "inspections[inspections['CAMIS'] == 40647906]['INSPECTION DATE']"
   ]
  },
  {
   "cell_type": "markdown",
   "metadata": {},
   "source": [
    "Many restaurants have inspection dates of `01/01/1900`, which corresponds with, according to the data dictionary, restaurants which have not yet recieved *any* inspection. Certainly useful to know! These restaurants must have opened within the last year (and almost certainly within the last three months)."
   ]
  },
  {
   "cell_type": "code",
   "execution_count": 43,
   "metadata": {
    "collapsed": false
   },
   "outputs": [
    {
     "data": {
      "text/plain": [
       "1094"
      ]
     },
     "execution_count": 43,
     "metadata": {},
     "output_type": "execute_result"
    }
   ],
   "source": [
    "len(inspections[inspections['INSPECTION DATE'] == '01/01/1900'])"
   ]
  },
  {
   "cell_type": "markdown",
   "metadata": {},
   "source": [
    "Another useful field is the `INSPECTION TYPE`. This is particularly valuable because it includes information on pre-permit inspections&mdash;a type of permit executed before a restaurant is opened (see the [starter guide](http://www.nyc.gov/html/nycbe/downloads/pdf/nycstarter_guide_restaurant.pdf) for further reference)."
   ]
  },
  {
   "cell_type": "code",
   "execution_count": 44,
   "metadata": {
    "collapsed": false
   },
   "outputs": [
    {
     "data": {
      "text/plain": [
       "Cycle Inspection / Initial Inspection                          251523\n",
       "Cycle Inspection / Re-inspection                               117690\n",
       "Pre-permit (Operational) / Initial Inspection                   24586\n",
       "Pre-permit (Operational) / Re-inspection                        11547\n",
       "Administrative Miscellaneous / Initial Inspection                9915\n",
       "Smoke-Free Air Act / Initial Inspection                          5024\n",
       "Pre-permit (Non-operational) / Initial Inspection                4382\n",
       "Trans Fat / Initial Inspection                                   3721\n",
       "Cycle Inspection / Reopening Inspection                          3459\n",
       "Administrative Miscellaneous / Re-inspection                     3269\n",
       "Smoke-Free Air Act / Re-inspection                               1993\n",
       "Cycle Inspection / Compliance Inspection                         1920\n",
       "Trans Fat / Re-inspection                                        1845\n",
       "Inter-Agency Task Force / Initial Inspection                     1243\n",
       "Pre-permit (Operational) / Compliance Inspection                  969\n",
       "Trans Fat / Compliance Inspection                                 793\n",
       "Pre-permit (Operational) / Reopening Inspection                   575\n",
       "Administrative Miscellaneous / Compliance Inspection              310\n",
       "Pre-permit (Non-operational) / Re-inspection                      300\n",
       "Trans Fat / Second Compliance Inspection                          256\n",
       "Calorie Posting / Initial Inspection                              234\n",
       "Smoke-Free Air Act / Compliance Inspection                        144\n",
       "Administrative Miscellaneous / Reopening Inspection                86\n",
       "Calorie Posting / Re-inspection                                    82\n",
       "Cycle Inspection / Second Compliance Inspection                    69\n",
       "Pre-permit (Operational) / Second Compliance Inspection            59\n",
       "Administrative Miscellaneous / Second Compliance Inspection        51\n",
       "Smoke-Free Air Act / Second Compliance Inspection                  32\n",
       "Calorie Posting / Compliance Inspection                            29\n",
       "Calorie Posting / Second Compliance Inspection                     17\n",
       "Pre-permit (Non-operational) / Compliance Inspection               10\n",
       "Smoke-Free Air Act / Limited Inspection                             5\n",
       "Inter-Agency Task Force / Re-inspection                             3\n",
       "Name: INSPECTION TYPE, dtype: int64"
      ]
     },
     "execution_count": 44,
     "metadata": {},
     "output_type": "execute_result"
    }
   ],
   "source": [
    "inspections['INSPECTION TYPE'].value_counts()"
   ]
  },
  {
   "cell_type": "markdown",
   "metadata": {},
   "source": [
    "This allows us to track approximate restaurant openings back four years, to 10/01/2012. But no further! Is four years enough time to establish a trend?\n",
    "\n",
    "For our purposes we're not specifically interested in any inspections that occur after the initial one, with the possible exception of the most recent one. So when we build our dataset, we'll pick up only information from those two rounds."
   ]
  },
  {
   "cell_type": "code",
   "execution_count": null,
   "metadata": {
    "collapsed": true
   },
   "outputs": [],
   "source": [
    "inspections.to_csv(\"../data/inspections.csv\", encoding='utf-8')"
   ]
  }
 ],
 "metadata": {
  "anaconda-cloud": {},
  "kernelspec": {
   "display_name": "Python [conda env:nyc-restaurant-trends]",
   "language": "python",
   "name": "conda-env-nyc-restaurant-trends-py"
  },
  "language_info": {
   "codemirror_mode": {
    "name": "ipython",
    "version": 3
   },
   "file_extension": ".py",
   "mimetype": "text/x-python",
   "name": "python",
   "nbconvert_exporter": "python",
   "pygments_lexer": "ipython3",
   "version": "3.5.2"
  }
 },
 "nbformat": 4,
 "nbformat_minor": 1
}
