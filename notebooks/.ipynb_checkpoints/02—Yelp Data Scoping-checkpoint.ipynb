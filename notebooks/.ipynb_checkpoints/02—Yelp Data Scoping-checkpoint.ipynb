{
 "cells": [
  {
   "cell_type": "markdown",
   "metadata": {},
   "source": [
    "We are interested in looking at trends in restaurant openings and closings by neighborhood in New York City.\n",
    "\n",
    "## Introduction\n",
    "\n",
    "### Yelp!\n",
    "\n",
    "Yelp! is an online aggregator of reviews of things. Restaraunts prefigure in their offerings. Yelp! has an extremely popular API for accessing their data, as well as a company-maintained Python driver thereof. You can see an example output [here](https://www.yelp.com/developers/documentation/v2/business).\n",
    "\n",
    "There's one important limitation to what they provide, however, which is that they will only give you a simple \"sample\" review in the API results. It remains to be seen whether or not this is the *first* review (which is useful to us, as it will track when the restaraunt opened, potentially *very* closely) or just *any* review (which is totally useless).\n",
    "\n",
    "At a minimum, Yelp! provides info on whether or not a business still remains open. This is very important to us."
   ]
  },
  {
   "cell_type": "code",
   "execution_count": 8,
   "metadata": {
    "collapsed": false
   },
   "outputs": [],
   "source": [
    "from yelp.client import Client\n",
    "from yelp.oauth1_authenticator import Oauth1Authenticator\n",
    "from yelp.errors import BusinessUnavailable\n",
    "import os\n",
    "import json\n",
    "\n",
    "def import_credentials(filename='../data/yelp_credentials.json'):\n",
    "    try:\n",
    "        data = json.load(open(filename))\n",
    "        return data\n",
    "    except:\n",
    "        raise IOError('This API requires Yelp credentials to work. Did you forget to define them?')\n",
    "\n",
    "credentials = import_credentials()\n",
    "\n",
    "auth = Oauth1Authenticator(\n",
    "    consumer_key=credentials['consumer_key'],\n",
    "    consumer_secret=credentials['consumer_secret'],\n",
    "    token=credentials['token'],\n",
    "    token_secret=credentials['token_secret']\n",
    ")\n",
    "\n",
    "client = Client(auth)"
   ]
  },
  {
   "cell_type": "markdown",
   "metadata": {},
   "source": [
    "There's no immediate way to match the CAMIS IDs to Yelp! IDs, since Yelp! has its own (restaurant-name-neighborhood) ID scheme. Surprisingly enough, the DBA (doing business as) isn't as much help as you would think, either, at least not from initial probing.\n",
    "\n",
    "However, a phone search appears to be accurate. Join-by-phone-number? Not something I expected going into this! But it does make sense; restaurants are loath to change their phone number after all, as that's a lot of customers that they'd lose contact with."
   ]
  },
  {
   "cell_type": "code",
   "execution_count": 40,
   "metadata": {
    "collapsed": false
   },
   "outputs": [
    {
     "data": {
      "text/plain": [
       "<yelp.obj.search_response.SearchResponse at 0x546cf98>"
      ]
     },
     "execution_count": 40,
     "metadata": {},
     "output_type": "execute_result"
    }
   ],
   "source": [
    "client.phone_search(\"7185925000\")"
   ]
  },
  {
   "cell_type": "code",
   "execution_count": 41,
   "metadata": {
    "collapsed": true
   },
   "outputs": [],
   "source": [
    "response = _"
   ]
  },
  {
   "cell_type": "code",
   "execution_count": 43,
   "metadata": {
    "collapsed": false
   },
   "outputs": [
    {
     "data": {
      "text/plain": [
       "'https://www.yelp.com/biz/terrace-on-the-park-corona?adjust_creative=dkJPGu_jtTyHwsEgZIZN6g&utm_campaign=yelp_api&utm_medium=api_v2_phone_search&utm_source=dkJPGu_jtTyHwsEgZIZN6g'"
      ]
     },
     "execution_count": 43,
     "metadata": {},
     "output_type": "execute_result"
    }
   ],
   "source": [
    "response.businesses[0].url"
   ]
  },
  {
   "cell_type": "markdown",
   "metadata": {},
   "source": [
    "Unfortunately the phone search result includes a `review_count` but not any review snippet. To get that we have to query the busienss API seperately."
   ]
  },
  {
   "cell_type": "code",
   "execution_count": 94,
   "metadata": {
    "collapsed": false
   },
   "outputs": [
    {
     "data": {
      "text/plain": [
       "<yelp.obj.search_response.SearchResponse at 0x6279fd0>"
      ]
     },
     "execution_count": 94,
     "metadata": {},
     "output_type": "execute_result"
    }
   ],
   "source": [
    "client.search(\"terrace-in-the-park-corona\")"
   ]
  },
  {
   "cell_type": "code",
   "execution_count": 95,
   "metadata": {
    "collapsed": true
   },
   "outputs": [],
   "source": [
    "reponse = _"
   ]
  },
  {
   "cell_type": "code",
   "execution_count": 96,
   "metadata": {
    "collapsed": false
   },
   "outputs": [],
   "source": [
    "business = response.businesses[0]"
   ]
  },
  {
   "cell_type": "code",
   "execution_count": 98,
   "metadata": {
    "collapsed": false
   },
   "outputs": [
    {
     "data": {
      "text/plain": [
       "'https://www.yelp.com/biz/yelps-12th-burstday-aboard-the-zephyr-new-york?adjust_creative=dkJPGu_jtTyHwsEgZIZN6g&utm_campaign=yelp_api&utm_medium=api_v2_search&utm_source=dkJPGu_jtTyHwsEgZIZN6g'"
      ]
     },
     "execution_count": 98,
     "metadata": {},
     "output_type": "execute_result"
    }
   ],
   "source": [
    "business.url"
   ]
  },
  {
   "cell_type": "code",
   "execution_count": 99,
   "metadata": {
    "collapsed": false
   },
   "outputs": [
    {
     "data": {
      "text/plain": [
       "False"
      ]
     },
     "execution_count": 99,
     "metadata": {},
     "output_type": "execute_result"
    }
   ],
   "source": [
    "business.is_closed"
   ]
  },
  {
   "cell_type": "code",
   "execution_count": 100,
   "metadata": {
    "collapsed": false
   },
   "outputs": [
    {
     "data": {
      "text/plain": [
       "\"Yelp's 12th Burstday Aboard THE ZEPHYR\""
      ]
     },
     "execution_count": 100,
     "metadata": {},
     "output_type": "execute_result"
    }
   ],
   "source": [
    "business.name"
   ]
  },
  {
   "cell_type": "code",
   "execution_count": 101,
   "metadata": {
    "collapsed": false
   },
   "outputs": [
    {
     "data": {
      "text/plain": [
       "69"
      ]
     },
     "execution_count": 101,
     "metadata": {},
     "output_type": "execute_result"
    }
   ],
   "source": [
    "business.review_count"
   ]
  },
  {
   "cell_type": "code",
   "execution_count": 102,
   "metadata": {
    "collapsed": true
   },
   "outputs": [],
   "source": [
    "business.menu_date_updated"
   ]
  },
  {
   "cell_type": "code",
   "execution_count": 103,
   "metadata": {
    "collapsed": true
   },
   "outputs": [],
   "source": [
    "business.reviews"
   ]
  },
  {
   "cell_type": "code",
   "execution_count": 104,
   "metadata": {
    "collapsed": false
   },
   "outputs": [
    {
     "data": {
      "text/plain": [
       "True"
      ]
     },
     "execution_count": 104,
     "metadata": {},
     "output_type": "execute_result"
    }
   ],
   "source": [
    "business.reviews == None"
   ]
  },
  {
   "cell_type": "markdown",
   "metadata": {},
   "source": [
    "No review response at all! Huh."
   ]
  },
  {
   "cell_type": "code",
   "execution_count": 66,
   "metadata": {
    "collapsed": false
   },
   "outputs": [
    {
     "data": {
      "text/plain": [
       "<yelp.obj.search_response.SearchResponse at 0x5496b00>"
      ]
     },
     "execution_count": 66,
     "metadata": {},
     "output_type": "execute_result"
    }
   ],
   "source": [
    "client.search(\"taqueria-tehuitzingo-new-york\")"
   ]
  },
  {
   "cell_type": "code",
   "execution_count": 67,
   "metadata": {
    "collapsed": true
   },
   "outputs": [],
   "source": [
    "response = _"
   ]
  },
  {
   "cell_type": "code",
   "execution_count": 70,
   "metadata": {
    "collapsed": false
   },
   "outputs": [
    {
     "data": {
      "text/plain": [
       "'https://www.yelp.com/biz/yelps-12th-burstday-aboard-the-zephyr-new-york?adjust_creative=dkJPGu_jtTyHwsEgZIZN6g&utm_campaign=yelp_api&utm_medium=api_v2_search&utm_source=dkJPGu_jtTyHwsEgZIZN6g'"
      ]
     },
     "execution_count": 70,
     "metadata": {},
     "output_type": "execute_result"
    }
   ],
   "source": [
    "response.businesses[0].url"
   ]
  },
  {
   "cell_type": "code",
   "execution_count": 71,
   "metadata": {
    "collapsed": true
   },
   "outputs": [],
   "source": [
    "response.businesses[0].reviews"
   ]
  },
  {
   "cell_type": "code",
   "execution_count": 72,
   "metadata": {
    "collapsed": false
   },
   "outputs": [
    {
     "data": {
      "text/plain": [
       "69"
      ]
     },
     "execution_count": 72,
     "metadata": {},
     "output_type": "execute_result"
    }
   ],
   "source": [
    "response.businesses[0].review_count"
   ]
  },
  {
   "cell_type": "markdown",
   "metadata": {},
   "source": [
    "Looks like at some point Yelp! API output included a sample review, but that was removed, and the docs haven't been updated to reflect this fact.\n",
    "\n",
    "Yelp! in general is very aggressive about monetizing their reviews. Even this barest of information isn't included in the API output because they probably decided it was already TMI.\n",
    "\n",
    "You can scrape this off of their website pretty easily by doing a `date_asc` search ([example](https://www.yelp.com/biz/terrace-on-the-park-corona?sort_by=date_asc)) and then grabbing the first review on the page.\n",
    "\n",
    "The following demos this."
   ]
  },
  {
   "cell_type": "code",
   "execution_count": 73,
   "metadata": {
    "collapsed": true
   },
   "outputs": [],
   "source": [
    "import requests"
   ]
  },
  {
   "cell_type": "code",
   "execution_count": 78,
   "metadata": {
    "collapsed": true
   },
   "outputs": [],
   "source": [
    "taq_r = requests.get(\"https://www.yelp.com/biz/taqueria-tehuitzingo-new-york?sort_by=date_asc\")"
   ]
  },
  {
   "cell_type": "code",
   "execution_count": 77,
   "metadata": {
    "collapsed": false
   },
   "outputs": [],
   "source": [
    "import bs4"
   ]
  },
  {
   "cell_type": "code",
   "execution_count": 80,
   "metadata": {
    "collapsed": false
   },
   "outputs": [],
   "source": [
    "taq = bs4.BeautifulSoup(taq_r.content, \"html.parser\")"
   ]
  },
  {
   "cell_type": "code",
   "execution_count": 86,
   "metadata": {
    "collapsed": false
   },
   "outputs": [
    {
     "data": {
      "text/plain": [
       "'2/10/2014'"
      ]
     },
     "execution_count": 86,
     "metadata": {},
     "output_type": "execute_result"
    }
   ],
   "source": [
    "taq.find_all(\"div\", {'class': \"review-content\"})[0]\\\n",
    "    .find(\"meta\", {'itemprop': 'datePublished'})\\\n",
    "    .text\\\n",
    "    .strip()"
   ]
  },
  {
   "cell_type": "markdown",
   "metadata": {},
   "source": [
    "There's talk online that lots of requests against the Yelp! API will get you IP banned (again, they defend this stuff really fiercly). We might test that."
   ]
  }
 ],
 "metadata": {
  "anaconda-cloud": {},
  "kernelspec": {
   "display_name": "Python [conda env:nyc-restaurant-trends]",
   "language": "python",
   "name": "conda-env-nyc-restaurant-trends-py"
  },
  "language_info": {
   "codemirror_mode": {
    "name": "ipython",
    "version": 3
   },
   "file_extension": ".py",
   "mimetype": "text/x-python",
   "name": "python",
   "nbconvert_exporter": "python",
   "pygments_lexer": "ipython3",
   "version": "3.5.2"
  }
 },
 "nbformat": 4,
 "nbformat_minor": 1
}
