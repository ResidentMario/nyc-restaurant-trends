{
 "cells": [
  {
   "cell_type": "markdown",
   "metadata": {},
   "source": [
    "The result of the previous attempt at solving this matching problem was ambiguous, and ultimately not helpful. Phone matching, while easy and convenient, fundamentally failed to work well enough, both for real-life reasons and for statistical reasons, for the resultant dataset to be particularly informative.\n",
    "\n",
    "This notebook begins a fresh attempt at this project. This time around we will try to use the Yelp! search API instead of the the Yelp phone API. In the previous iteration the search API proved to be not very good at matching location placenames against actual locations. Howevever, I realize now that this isn't a helpful match to attempt anyway, because:\n",
    "\n",
    "1. There are obviously multiple restaurants in New York City with names like `Burger King` or `Dunkin' Donuts`.\n",
    "2. There is no way to tell if a match failure occurs because of fuzzy matching issues or because the location no longer exists, within the time frame of Yelp! data.\n",
    "\n",
    "I am no longer using the restaurant inspection data, either; I've switched now to using the [DOHMH Food Permit](https://data.cityofnewyork.us/City-Government/DOHMH-Food-Permits/mphz-k8gq) dataset. This dataset contains every food permit issued by the DOHMH going some uncertain number of years back. Each food permit realiably indicates a single restaurant opening (more information on food permits [here](https://www1.nyc.gov/nycbusiness/description/food-service-establishment-permit); more information on restaurant start structuring [here](http://www.nyc.gov/html/nycbe/downloads/pdf/nycstarter_guide_restaurant.pdf)), and multiple food permits issued in the same location (address-wise) reliably indicates a history of start dates for restaurants opened at the location (but *only* of restaurants; intervening businesses are untracable).\n",
    "\n",
    "\n",
    "Yelp should also be much better at matching *addresses* than at doing any of the previous things I had tried to do."
   ]
  },
  {
   "cell_type": "code",
   "execution_count": 1,
   "metadata": {
    "collapsed": true
   },
   "outputs": [],
   "source": [
    "import pandas as pd"
   ]
  },
  {
   "cell_type": "code",
   "execution_count": 2,
   "metadata": {
    "collapsed": false
   },
   "outputs": [
    {
     "name": "stderr",
     "output_type": "stream",
     "text": [
      "/Users/Honors/anaconda/envs/nyc-restaurant-trends/lib/python3.5/site-packages/IPython/core/interactiveshell.py:2717: DtypeWarning: Columns (2,9,13,15,16,17,18,20,21) have mixed types. Specify dtype option on import or set low_memory=False.\n",
      "  interactivity=interactivity, compiler=compiler, result=result)\n"
     ]
    }
   ],
   "source": [
    "permits = pd.read_csv(\"https://data.cityofnewyork.us/api/views/mphz-k8gq/rows.csv?accessType=DOWNLOAD\")"
   ]
  },
  {
   "cell_type": "code",
   "execution_count": 3,
   "metadata": {
    "collapsed": false
   },
   "outputs": [
    {
     "data": {
      "text/plain": [
       "304387"
      ]
     },
     "execution_count": 3,
     "metadata": {},
     "output_type": "execute_result"
    }
   ],
   "source": [
    "len(permits)"
   ]
  },
  {
   "cell_type": "code",
   "execution_count": 4,
   "metadata": {
    "collapsed": false
   },
   "outputs": [
    {
     "data": {
      "text/html": [
       "<div>\n",
       "<table border=\"1\" class=\"dataframe\">\n",
       "  <thead>\n",
       "    <tr style=\"text-align: right;\">\n",
       "      <th></th>\n",
       "      <th>Source</th>\n",
       "      <th>License_Permit_Holder</th>\n",
       "      <th>Business_Description</th>\n",
       "      <th>License/Permit_Number</th>\n",
       "      <th>Permit_Type_Description</th>\n",
       "      <th>Permit_Subtype_Description</th>\n",
       "      <th>Permit_Issuance_Date</th>\n",
       "      <th>Permit_Expiration_Date</th>\n",
       "      <th>Permit_Status_Date</th>\n",
       "      <th>Permit_Status_Description</th>\n",
       "      <th>...</th>\n",
       "      <th>City</th>\n",
       "      <th>Zip_Code</th>\n",
       "      <th>Borough</th>\n",
       "      <th>Building_ID_No</th>\n",
       "      <th>Borough_Block_Lot</th>\n",
       "      <th>Latitude_WGS84</th>\n",
       "      <th>Longitude_WGS84</th>\n",
       "      <th>License/Permit_Holder_Name</th>\n",
       "      <th>DOB_Skilled_Trades_Lic_Num</th>\n",
       "      <th>DOB_Skilled_Trades_Lic_Type</th>\n",
       "    </tr>\n",
       "  </thead>\n",
       "  <tbody>\n",
       "    <tr>\n",
       "      <th>283792</th>\n",
       "      <td>DOHMH Permit</td>\n",
       "      <td>MVNBC CORP.</td>\n",
       "      <td>NaN</td>\n",
       "      <td>1341855.0</td>\n",
       "      <td>RETAIL FOOD PROCESS</td>\n",
       "      <td>FOOD SERVICE ESTABL WITH MFD MACHINE</td>\n",
       "      <td>10/24/2012 00:00:00</td>\n",
       "      <td>12/31/2014 00:00:00</td>\n",
       "      <td>01/17/2014 00:00:00</td>\n",
       "      <td>NaN</td>\n",
       "      <td>...</td>\n",
       "      <td>NEW YORK</td>\n",
       "      <td>10013</td>\n",
       "      <td>MANHATTAN</td>\n",
       "      <td>1002072</td>\n",
       "      <td>1001810013</td>\n",
       "      <td>40.719300</td>\n",
       "      <td>-74.010018</td>\n",
       "      <td>Unknown</td>\n",
       "      <td>NaN</td>\n",
       "      <td>NaN</td>\n",
       "    </tr>\n",
       "  </tbody>\n",
       "</table>\n",
       "<p>1 rows × 22 columns</p>\n",
       "</div>"
      ],
      "text/plain": [
       "              Source License_Permit_Holder Business_Description  \\\n",
       "283792  DOHMH Permit           MVNBC CORP.                  NaN   \n",
       "\n",
       "        License/Permit_Number Permit_Type_Description  \\\n",
       "283792              1341855.0     RETAIL FOOD PROCESS   \n",
       "\n",
       "                  Permit_Subtype_Description Permit_Issuance_Date  \\\n",
       "283792  FOOD SERVICE ESTABL WITH MFD MACHINE  10/24/2012 00:00:00   \n",
       "\n",
       "       Permit_Expiration_Date   Permit_Status_Date Permit_Status_Description  \\\n",
       "283792    12/31/2014 00:00:00  01/17/2014 00:00:00                       NaN   \n",
       "\n",
       "                   ...                  City Zip_Code    Borough  \\\n",
       "283792             ...              NEW YORK    10013  MANHATTAN   \n",
       "\n",
       "       Building_ID_No Borough_Block_Lot Latitude_WGS84 Longitude_WGS84  \\\n",
       "283792        1002072        1001810013      40.719300      -74.010018   \n",
       "\n",
       "       License/Permit_Holder_Name DOB_Skilled_Trades_Lic_Num  \\\n",
       "283792                    Unknown                        NaN   \n",
       "\n",
       "       DOB_Skilled_Trades_Lic_Type  \n",
       "283792                         NaN  \n",
       "\n",
       "[1 rows x 22 columns]"
      ]
     },
     "execution_count": 4,
     "metadata": {},
     "output_type": "execute_result"
    }
   ],
   "source": [
    "permits.sample(1)"
   ]
  },
  {
   "cell_type": "code",
   "execution_count": 5,
   "metadata": {
    "collapsed": true
   },
   "outputs": [],
   "source": [
    "import numpy as np"
   ]
  },
  {
   "cell_type": "markdown",
   "metadata": {},
   "source": [
    "The data appears to go *very* far back and are completely full, but not all in one date format and plenty of errors thrown into the mix."
   ]
  },
  {
   "cell_type": "code",
   "execution_count": 6,
   "metadata": {
    "collapsed": false
   },
   "outputs": [
    {
     "data": {
      "text/plain": [
       "array(['01/01/1900 00:00:00', '01/02/1992 00:00:00', '01/02/1996 00:00:00',\n",
       "       ..., '2013-05-29', '2013-05-30', '2013-06-06'], dtype=object)"
      ]
     },
     "execution_count": 6,
     "metadata": {},
     "output_type": "execute_result"
    }
   ],
   "source": [
    "np.unique(permits['Permit_Issuance_Date'])"
   ]
  },
  {
   "cell_type": "code",
   "execution_count": 7,
   "metadata": {
    "collapsed": false
   },
   "outputs": [
    {
     "data": {
      "text/plain": [
       "False"
      ]
     },
     "execution_count": 7,
     "metadata": {},
     "output_type": "execute_result"
    }
   ],
   "source": [
    "permits['Permit_Issuance_Date'].isnull().any()"
   ]
  },
  {
   "cell_type": "code",
   "execution_count": 8,
   "metadata": {
    "collapsed": false
   },
   "outputs": [
    {
     "data": {
      "text/plain": [
       "01/01/1900 00:00:00    62429\n",
       "1900-01-01             18642\n",
       "11/08/2012 00:00:00     1048\n",
       "05/21/2012 00:00:00      913\n",
       "06/09/1994 00:00:00      802\n",
       "07/01/1992 00:00:00      772\n",
       "05/11/1995 00:00:00      740\n",
       "07/15/1991 00:00:00      734\n",
       "07/02/2012 00:00:00      693\n",
       "06/04/2012 00:00:00      686\n",
       "03/19/2013 00:00:00      646\n",
       "09/04/2012 00:00:00      625\n",
       "07/17/2012 00:00:00      579\n",
       "07/30/2012 00:00:00      575\n",
       "1994-06-09               562\n",
       "07/31/2012 00:00:00      553\n",
       "12/26/2012 00:00:00      542\n",
       "03/12/2013 00:00:00      541\n",
       "08/27/2012 00:00:00      537\n",
       "04/12/2012 00:00:00      536\n",
       "10/01/2012 00:00:00      536\n",
       "1991-07-15               530\n",
       "07/19/2012 00:00:00      523\n",
       "10/22/2012 00:00:00      522\n",
       "04/30/2012 00:00:00      514\n",
       "07/05/2012 00:00:00      514\n",
       "02/05/2013 00:00:00      511\n",
       "10/30/1995 00:00:00      511\n",
       "09/10/2012 00:00:00      497\n",
       "09/24/2012 00:00:00      492\n",
       "                       ...  \n",
       "11/07/2002 00:00:00        1\n",
       "2004-01-29                 1\n",
       "2013-04-16                 1\n",
       "1993-01-13                 1\n",
       "06/15/2000 00:00:00        1\n",
       "1998-04-07                 1\n",
       "2001-06-27                 1\n",
       "07/10/2002 00:00:00        1\n",
       "2005-01-06                 1\n",
       "1999-09-21                 1\n",
       "08/05/1996 00:00:00        1\n",
       "05/29/1996 00:00:00        1\n",
       "1997-07-30                 1\n",
       "01/02/1992 00:00:00        1\n",
       "1996-09-05                 1\n",
       "1995-02-14                 1\n",
       "1992-06-17                 1\n",
       "2003-11-06                 1\n",
       "2011-06-21                 1\n",
       "07/29/1992 00:00:00        1\n",
       "12/07/1999 00:00:00        1\n",
       "2000-01-06                 1\n",
       "06/30/1994 00:00:00        1\n",
       "2007-05-17                 1\n",
       "01/21/1992 00:00:00        1\n",
       "1994-07-22                 1\n",
       "1993-04-12                 1\n",
       "1996-06-06                 1\n",
       "1993-03-10                 1\n",
       "1991-11-09                 1\n",
       "Name: Permit_Issuance_Date, dtype: int64"
      ]
     },
     "execution_count": 8,
     "metadata": {},
     "output_type": "execute_result"
    }
   ],
   "source": [
    "permits['Permit_Issuance_Date'].value_counts(dropna=False)"
   ]
  },
  {
   "cell_type": "markdown",
   "metadata": {},
   "source": [
    "Checking data nullity:"
   ]
  },
  {
   "cell_type": "code",
   "execution_count": 9,
   "metadata": {
    "collapsed": false
   },
   "outputs": [
    {
     "data": {
      "text/plain": [
       "Source                              0\n",
       "License_Permit_Holder           18427\n",
       "Business_Description           301452\n",
       "License/Permit_Number           42027\n",
       "Permit_Type_Description             0\n",
       "Permit_Subtype_Description          0\n",
       "Permit_Issuance_Date                0\n",
       "Permit_Expiration_Date              0\n",
       "Permit_Status_Date                  0\n",
       "Permit_Status_Description      299624\n",
       "Address                             0\n",
       "Street                              0\n",
       "City                                0\n",
       "Zip_Code                           27\n",
       "Borough                             0\n",
       "Building_ID_No                      0\n",
       "Borough_Block_Lot                   0\n",
       "Latitude_WGS84                    691\n",
       "Longitude_WGS84                   691\n",
       "License/Permit_Holder_Name        127\n",
       "DOB_Skilled_Trades_Lic_Num     304384\n",
       "DOB_Skilled_Trades_Lic_Type    304384\n",
       "dtype: int64"
      ]
     },
     "execution_count": 9,
     "metadata": {},
     "output_type": "execute_result"
    }
   ],
   "source": [
    "permits.apply(lambda col: col.isnull().astype(int).sum())"
   ]
  },
  {
   "cell_type": "code",
   "execution_count": 10,
   "metadata": {
    "collapsed": false
   },
   "outputs": [
    {
     "data": {
      "text/plain": [
       "Source                         0.000000\n",
       "License_Permit_Holder          0.060538\n",
       "Business_Description           0.990358\n",
       "License/Permit_Number          0.138071\n",
       "Permit_Type_Description        0.000000\n",
       "Permit_Subtype_Description     0.000000\n",
       "Permit_Issuance_Date           0.000000\n",
       "Permit_Expiration_Date         0.000000\n",
       "Permit_Status_Date             0.000000\n",
       "Permit_Status_Description      0.984352\n",
       "Address                        0.000000\n",
       "Street                         0.000000\n",
       "City                           0.000000\n",
       "Zip_Code                       0.000089\n",
       "Borough                        0.000000\n",
       "Building_ID_No                 0.000000\n",
       "Borough_Block_Lot              0.000000\n",
       "Latitude_WGS84                 0.002270\n",
       "Longitude_WGS84                0.002270\n",
       "License/Permit_Holder_Name     0.000417\n",
       "DOB_Skilled_Trades_Lic_Num     0.999990\n",
       "DOB_Skilled_Trades_Lic_Type    0.999990\n",
       "dtype: float64"
      ]
     },
     "execution_count": 10,
     "metadata": {},
     "output_type": "execute_result"
    }
   ],
   "source": [
    "permits.apply(lambda col: col.isnull().astype(int).sum()) / len(permits)"
   ]
  },
  {
   "cell_type": "markdown",
   "metadata": {},
   "source": [
    "We need to clean up these dates. First of all, what does the complete pile of options look like?"
   ]
  },
  {
   "cell_type": "code",
   "execution_count": 11,
   "metadata": {
    "collapsed": false
   },
   "outputs": [],
   "source": [
    "# print(list(np.unique(permits['Permit_Issuance_Date'])))"
   ]
  },
  {
   "cell_type": "markdown",
   "metadata": {},
   "source": [
    "It looks like, with the exception of a single error (`'05/30ription\":\"The date on which a legal agreement becomes effective, or is expected to become effective.'`), all of the dates are in one of two formats: `'2013-06-06'` or `'11/22/1999 00:00:00'`.\n",
    "\n",
    "**Note**: The text in the errenous line comes from the description attached to the permit issuance date field on the Socrata portal, and has nothing to do with the underlying data itself. This means that it is almost certainly an error with the Socrata portal software. Furthermore, I have seen this error or a very similar error crop up in a large number of the portal datasets I have worked with, indicating that this is some sort of recurrant defficiency within Socrata itself. Maybe this issue ought to be raised somewhere? It's an unneeded difficulty."
   ]
  },
  {
   "cell_type": "code",
   "execution_count": 12,
   "metadata": {
    "collapsed": false
   },
   "outputs": [
    {
     "data": {
      "text/html": [
       "<div>\n",
       "<table border=\"1\" class=\"dataframe\">\n",
       "  <thead>\n",
       "    <tr style=\"text-align: right;\">\n",
       "      <th></th>\n",
       "      <th>Source</th>\n",
       "      <th>License_Permit_Holder</th>\n",
       "      <th>Business_Description</th>\n",
       "      <th>License/Permit_Number</th>\n",
       "      <th>Permit_Type_Description</th>\n",
       "      <th>Permit_Subtype_Description</th>\n",
       "      <th>Permit_Issuance_Date</th>\n",
       "      <th>Permit_Expiration_Date</th>\n",
       "      <th>Permit_Status_Date</th>\n",
       "      <th>Permit_Status_Description</th>\n",
       "      <th>...</th>\n",
       "      <th>City</th>\n",
       "      <th>Zip_Code</th>\n",
       "      <th>Borough</th>\n",
       "      <th>Building_ID_No</th>\n",
       "      <th>Borough_Block_Lot</th>\n",
       "      <th>Latitude_WGS84</th>\n",
       "      <th>Longitude_WGS84</th>\n",
       "      <th>License/Permit_Holder_Name</th>\n",
       "      <th>DOB_Skilled_Trades_Lic_Num</th>\n",
       "      <th>DOB_Skilled_Trades_Lic_Type</th>\n",
       "    </tr>\n",
       "  </thead>\n",
       "  <tbody>\n",
       "    <tr>\n",
       "      <th>7528</th>\n",
       "      <td>DOHMH Permit</td>\n",
       "      <td>PADDA PIZZA &amp; RESTURANT INC</td>\n",
       "      <td>NaN</td>\n",
       "      <td>1040957.0</td>\n",
       "      <td>FOOD SERVICE EST.</td>\n",
       "      <td>FOOD SERVICE ESTABL.</td>\n",
       "      <td>05/30ription\":\"The date on which a legal agree...</td>\n",
       "      <td>fieldName\":\"effective_date_most_recent_</td>\n",
       "      <td>position\":28</td>\n",
       "      <td>tableColumnId\":1472092</td>\n",
       "      <td>...</td>\n",
       "      <td>align\":\"left\"}</td>\n",
       "      <td>metadata\":{}}</td>\n",
       "      <td>{\"id\":140605801</td>\n",
       "      <td>name\":\"Closed Date (Most Recent)</td>\n",
       "      <td>dataTypeName\":\"calendar_date</td>\n",
       "      <td>description\":\"The date specified in the legal ...</td>\n",
       "      <td>fieldName\":\"closed_date_most_recent_</td>\n",
       "      <td>position\":29</td>\n",
       "      <td>tableColumnId\":1472093</td>\n",
       "      <td>width\":203</td>\n",
       "    </tr>\n",
       "  </tbody>\n",
       "</table>\n",
       "<p>1 rows × 22 columns</p>\n",
       "</div>"
      ],
      "text/plain": [
       "            Source        License_Permit_Holder Business_Description  \\\n",
       "7528  DOHMH Permit  PADDA PIZZA & RESTURANT INC                  NaN   \n",
       "\n",
       "      License/Permit_Number Permit_Type_Description  \\\n",
       "7528              1040957.0       FOOD SERVICE EST.   \n",
       "\n",
       "     Permit_Subtype_Description  \\\n",
       "7528       FOOD SERVICE ESTABL.   \n",
       "\n",
       "                                   Permit_Issuance_Date  \\\n",
       "7528  05/30ription\":\"The date on which a legal agree...   \n",
       "\n",
       "                       Permit_Expiration_Date Permit_Status_Date  \\\n",
       "7528  fieldName\":\"effective_date_most_recent_       position\":28   \n",
       "\n",
       "     Permit_Status_Description             ...                        City  \\\n",
       "7528    tableColumnId\":1472092             ...              align\":\"left\"}   \n",
       "\n",
       "           Zip_Code          Borough                    Building_ID_No  \\\n",
       "7528  metadata\":{}}  {\"id\":140605801  name\":\"Closed Date (Most Recent)   \n",
       "\n",
       "                 Borough_Block_Lot  \\\n",
       "7528  dataTypeName\":\"calendar_date   \n",
       "\n",
       "                                         Latitude_WGS84  \\\n",
       "7528  description\":\"The date specified in the legal ...   \n",
       "\n",
       "                           Longitude_WGS84 License/Permit_Holder_Name  \\\n",
       "7528  fieldName\":\"closed_date_most_recent_               position\":29   \n",
       "\n",
       "     DOB_Skilled_Trades_Lic_Num DOB_Skilled_Trades_Lic_Type  \n",
       "7528     tableColumnId\":1472093                  width\":203  \n",
       "\n",
       "[1 rows x 22 columns]"
      ]
     },
     "execution_count": 12,
     "metadata": {},
     "output_type": "execute_result"
    }
   ],
   "source": [
    "permits[permits['Permit_Issuance_Date'] == \"\"\"05/30ription\":\"The date on which a legal agreement becomes effective, or is expected to become effective.\"\"\"]"
   ]
  },
  {
   "cell_type": "markdown",
   "metadata": {},
   "source": [
    "Looks like we'll just have to drop this entry, because it's unusable."
   ]
  },
  {
   "cell_type": "code",
   "execution_count": 13,
   "metadata": {
    "collapsed": false
   },
   "outputs": [],
   "source": [
    "permits = permits.drop(7528)"
   ]
  },
  {
   "cell_type": "code",
   "execution_count": 14,
   "metadata": {
    "collapsed": false
   },
   "outputs": [
    {
     "data": {
      "text/plain": [
       "304386"
      ]
     },
     "execution_count": 14,
     "metadata": {},
     "output_type": "execute_result"
    }
   ],
   "source": [
    "len(permits)"
   ]
  },
  {
   "cell_type": "markdown",
   "metadata": {},
   "source": [
    "The rest of the dates in this column ought to be handleable with `pd.to_datetime()`."
   ]
  },
  {
   "cell_type": "markdown",
   "metadata": {},
   "source": [
    "But it fails! How come?"
   ]
  },
  {
   "cell_type": "code",
   "execution_count": 15,
   "metadata": {
    "collapsed": false
   },
   "outputs": [
    {
     "name": "stdout",
     "output_type": "stream",
     "text": [
      "\n",
      "TqdmDeprecationWarning: Please use `tqdm.pandas(...)` instead of `tqdm_pandas(tqdm(...))`.\n"
     ]
    }
   ],
   "source": [
    "from tqdm import tqdm_notebook, tqdm_pandas\n",
    "tqdm_pandas(tqdm_notebook())"
   ]
  },
  {
   "cell_type": "code",
   "execution_count": 16,
   "metadata": {
    "collapsed": false
   },
   "outputs": [
    {
     "name": "stdout",
     "output_type": "stream",
     "text": [
      "\n"
     ]
    }
   ],
   "source": [
    "permits['Permit_Issuance_Date'] = permits['Permit_Issuance_Date'].progress_map(lambda date: pd.to_datetime(date))"
   ]
  },
  {
   "cell_type": "markdown",
   "metadata": {},
   "source": [
    "**Note**: Here I attempted to use a `tqdm_notebook` callback, something I've never done before. It works great! To help detect where in the loop the date failure occured, if one does, the loop iteration returned to me ought to be helpful as well. However, `tqdm` operates using occassional polling, so it doesn't *exactly* track the iteration a process is on when it fails (at least, in the case of fast functions, as here; in the case of slow ones with low variability, like e.g. API calls, the number ought be faithful). Good to know!"
   ]
  },
  {
   "cell_type": "markdown",
   "metadata": {},
   "source": [
    "It turns out that [food permits expire](http://www1.nyc.gov/nyc-resources/faq/425/how-do-i-renew-my-restaurant-permit) and require approximately yearly renewal! That's fantastic, and not something I knew going into this.\n",
    "\n",
    "Let's format our expiry dates."
   ]
  },
  {
   "cell_type": "code",
   "execution_count": 17,
   "metadata": {
    "collapsed": false
   },
   "outputs": [
    {
     "data": {
      "text/plain": [
       "False"
      ]
     },
     "execution_count": 17,
     "metadata": {},
     "output_type": "execute_result"
    }
   ],
   "source": [
    "permits['Permit_Expiration_Date'].isnull().any()"
   ]
  },
  {
   "cell_type": "markdown",
   "metadata": {},
   "source": [
    "At first I tried to run `np.datetime` as-is on this data, but this again failed near the end. The following list reveals the culprit:"
   ]
  },
  {
   "cell_type": "code",
   "execution_count": 18,
   "metadata": {
    "collapsed": false
   },
   "outputs": [],
   "source": [
    "# print(list(np.unique(permits['Permit_Expiration_Date'])))"
   ]
  },
  {
   "cell_type": "code",
   "execution_count": 19,
   "metadata": {
    "collapsed": false
   },
   "outputs": [
    {
     "data": {
      "text/html": [
       "<div>\n",
       "<table border=\"1\" class=\"dataframe\">\n",
       "  <thead>\n",
       "    <tr style=\"text-align: right;\">\n",
       "      <th></th>\n",
       "      <th>Source</th>\n",
       "      <th>License_Permit_Holder</th>\n",
       "      <th>Business_Description</th>\n",
       "      <th>License/Permit_Number</th>\n",
       "      <th>Permit_Type_Description</th>\n",
       "      <th>Permit_Subtype_Description</th>\n",
       "      <th>Permit_Issuance_Date</th>\n",
       "      <th>Permit_Expiration_Date</th>\n",
       "      <th>Permit_Status_Date</th>\n",
       "      <th>Permit_Status_Description</th>\n",
       "      <th>...</th>\n",
       "      <th>City</th>\n",
       "      <th>Zip_Code</th>\n",
       "      <th>Borough</th>\n",
       "      <th>Building_ID_No</th>\n",
       "      <th>Borough_Block_Lot</th>\n",
       "      <th>Latitude_WGS84</th>\n",
       "      <th>Longitude_WGS84</th>\n",
       "      <th>License/Permit_Holder_Name</th>\n",
       "      <th>DOB_Skilled_Trades_Lic_Num</th>\n",
       "      <th>DOB_Skilled_Trades_Lic_Type</th>\n",
       "    </tr>\n",
       "  </thead>\n",
       "  <tbody>\n",
       "    <tr>\n",
       "      <th>266169</th>\n",
       "      <td>DOHMH Permit</td>\n",
       "      <td>Abegale's Inc</td>\n",
       "      <td>NaN</td>\n",
       "      <td>NaN</td>\n",
       "      <td>RETAIL FOOD PROCESS</td>\n",
       "      <td>FOOD SERVICE ESTABL WITH MFD MACHINE</td>\n",
       "      <td>1900-01-01</td>\n",
       "      <td>11/30/2016 00:00:00cts from the five boroughs ...</td>\n",
       "      <td>Additional Resources\":{\"See Also    \":\"</td>\n",
       "      <td>See Also       \":\"</td>\n",
       "      <td>...</td>\n",
       "      <td>See Also   \":\"</td>\n",
       "      <td>See Also      \":\"</td>\n",
       "      <td>See Also  \":\"</td>\n",
       "      <td>See Also\":\"http://www.health.ny.gov/statistics...</td>\n",
       "      <td>See Also        \":\"</td>\n",
       "      <td>See Also         \":\"\"}</td>\n",
       "      <td>Dataset Information\":{\"Agency\":\"Health, Depart...</td>\n",
       "      <td>renderTypeConfig\":{\"visible\":{\"chart\":true</td>\n",
       "      <td>table\":true}}</td>\n",
       "      <td>availableDisplayTypes\":[\"chart</td>\n",
       "    </tr>\n",
       "  </tbody>\n",
       "</table>\n",
       "<p>1 rows × 22 columns</p>\n",
       "</div>"
      ],
      "text/plain": [
       "              Source License_Permit_Holder Business_Description  \\\n",
       "266169  DOHMH Permit         Abegale's Inc                  NaN   \n",
       "\n",
       "        License/Permit_Number Permit_Type_Description  \\\n",
       "266169                    NaN     RETAIL FOOD PROCESS   \n",
       "\n",
       "                  Permit_Subtype_Description Permit_Issuance_Date  \\\n",
       "266169  FOOD SERVICE ESTABL WITH MFD MACHINE           1900-01-01   \n",
       "\n",
       "                                   Permit_Expiration_Date  \\\n",
       "266169  11/30/2016 00:00:00cts from the five boroughs ...   \n",
       "\n",
       "                             Permit_Status_Date Permit_Status_Description  \\\n",
       "266169  Additional Resources\":{\"See Also    \":\"        See Also       \":\"   \n",
       "\n",
       "                     ...                          City           Zip_Code  \\\n",
       "266169               ...                See Also   \":\"  See Also      \":\"   \n",
       "\n",
       "              Borough                                     Building_ID_No  \\\n",
       "266169  See Also  \":\"  See Also\":\"http://www.health.ny.gov/statistics...   \n",
       "\n",
       "          Borough_Block_Lot          Latitude_WGS84  \\\n",
       "266169  See Also        \":\"  See Also         \":\"\"}   \n",
       "\n",
       "                                          Longitude_WGS84  \\\n",
       "266169  Dataset Information\":{\"Agency\":\"Health, Depart...   \n",
       "\n",
       "                        License/Permit_Holder_Name DOB_Skilled_Trades_Lic_Num  \\\n",
       "266169  renderTypeConfig\":{\"visible\":{\"chart\":true              table\":true}}   \n",
       "\n",
       "           DOB_Skilled_Trades_Lic_Type  \n",
       "266169  availableDisplayTypes\":[\"chart  \n",
       "\n",
       "[1 rows x 22 columns]"
      ]
     },
     "execution_count": 19,
     "metadata": {},
     "output_type": "execute_result"
    }
   ],
   "source": [
    "permits[permits['Permit_Expiration_Date'] == \"\"\"11/30/2016 00:00:00cts from the five boroughs of New York City (Brooklyn, Kings, New York, Queens, and Richmond). BOCES, special act schools (4201 designated schools), charter, and private schools are also excluded.\"}\"\"\"]"
   ]
  },
  {
   "cell_type": "code",
   "execution_count": 20,
   "metadata": {
    "collapsed": true
   },
   "outputs": [],
   "source": [
    "permits = permits.drop(266169)"
   ]
  },
  {
   "cell_type": "markdown",
   "metadata": {},
   "source": [
    "Not a fan of this crap, Socrata."
   ]
  },
  {
   "cell_type": "code",
   "execution_count": 21,
   "metadata": {
    "collapsed": false
   },
   "outputs": [
    {
     "name": "stdout",
     "output_type": "stream",
     "text": [
      "\n"
     ]
    }
   ],
   "source": [
    "permits['Permit_Expiration_Date'] = permits['Permit_Expiration_Date'].progress_map(lambda date: pd.to_datetime(date))"
   ]
  },
  {
   "cell_type": "markdown",
   "metadata": {},
   "source": [
    "That should be enough."
   ]
  },
  {
   "cell_type": "markdown",
   "metadata": {},
   "source": [
    "Source is as expected:"
   ]
  },
  {
   "cell_type": "code",
   "execution_count": 22,
   "metadata": {
    "collapsed": false
   },
   "outputs": [
    {
     "data": {
      "text/plain": [
       "DOHMH Permit    304385\n",
       "Name: Source, dtype: int64"
      ]
     },
     "execution_count": 22,
     "metadata": {},
     "output_type": "execute_result"
    }
   ],
   "source": [
    "permits['Source'].value_counts()"
   ]
  },
  {
   "cell_type": "markdown",
   "metadata": {},
   "source": [
    "`Business_Description` is mostly empty, and contains the following in the non-empty entries:"
   ]
  },
  {
   "cell_type": "code",
   "execution_count": 23,
   "metadata": {
    "collapsed": false
   },
   "outputs": [
    {
     "data": {
      "text/plain": [
       "DOH-TRIBUNAL-ENTITY           979\n",
       "DOH-MULITPLE DWELLING         867\n",
       "DOH PRIVATE DWELLING          541\n",
       "DOH-VACANT LOT -ENTITY        209\n",
       "MUTIPLE DWELLING COMERCIAL    167\n",
       "MISC FOOD STORE                61\n",
       "COMMERCIAL BUILDING -DOH       40\n",
       "DELICATESSEN                   19\n",
       "GROCERY-RETAIL                 13\n",
       "DRUG STORE-RETAIL               6\n",
       "CONSUMER SVC-RETAIL             6\n",
       "DOH-OFFICE BUILDING             6\n",
       "MISC NON-FOOD RETAIL            5\n",
       "GAS STATION-RETAIL              5\n",
       "BAKERY-RETAIL                   5\n",
       "TOBACCO PRODUCT SALES           3\n",
       "SUPERMARKET                     2\n",
       "MISC FOOD WHLSALE               1\n",
       "Name: Business_Description, dtype: int64"
      ]
     },
     "execution_count": 23,
     "metadata": {},
     "output_type": "execute_result"
    }
   ],
   "source": [
    "permits[permits['Business_Description'].notnull()]['Business_Description'].value_counts()"
   ]
  },
  {
   "cell_type": "code",
   "execution_count": 24,
   "metadata": {
    "collapsed": false
   },
   "outputs": [
    {
     "data": {
      "text/plain": [
       "FOOD SERVICE EST.       204464\n",
       "TEMP FOOD SERV ESTAB     33497\n",
       "RETAIL FOOD PROCESS      24909\n",
       "FOOD VENDOR LICENSE      16199\n",
       "FOOD SERVICE ESTAB       15585\n",
       "MOBILE FOOD UNIT          5144\n",
       "NONRETAIL FOOD ESTAB      1757\n",
       "FOOD SVC ESTAB. NON       1707\n",
       "FOOD SERVICE ESTAB.       1074\n",
       "FOOD SERVICE ESTABL.        31\n",
       "MOBILE FOOD PERMIT          17\n",
       "NYS FACILITY FOODSVC         1\n",
       "Name: Permit_Type_Description, dtype: int64"
      ]
     },
     "execution_count": 24,
     "metadata": {},
     "output_type": "execute_result"
    }
   ],
   "source": [
    "permits['Permit_Type_Description'].value_counts()"
   ]
  },
  {
   "cell_type": "markdown",
   "metadata": {},
   "source": [
    "What's the one NYS FACLITY FOODSVC?"
   ]
  },
  {
   "cell_type": "code",
   "execution_count": 25,
   "metadata": {
    "collapsed": false
   },
   "outputs": [
    {
     "data": {
      "text/html": [
       "<div>\n",
       "<table border=\"1\" class=\"dataframe\">\n",
       "  <thead>\n",
       "    <tr style=\"text-align: right;\">\n",
       "      <th></th>\n",
       "      <th>Source</th>\n",
       "      <th>License_Permit_Holder</th>\n",
       "      <th>Business_Description</th>\n",
       "      <th>License/Permit_Number</th>\n",
       "      <th>Permit_Type_Description</th>\n",
       "      <th>Permit_Subtype_Description</th>\n",
       "      <th>Permit_Issuance_Date</th>\n",
       "      <th>Permit_Expiration_Date</th>\n",
       "      <th>Permit_Status_Date</th>\n",
       "      <th>Permit_Status_Description</th>\n",
       "      <th>...</th>\n",
       "      <th>City</th>\n",
       "      <th>Zip_Code</th>\n",
       "      <th>Borough</th>\n",
       "      <th>Building_ID_No</th>\n",
       "      <th>Borough_Block_Lot</th>\n",
       "      <th>Latitude_WGS84</th>\n",
       "      <th>Longitude_WGS84</th>\n",
       "      <th>License/Permit_Holder_Name</th>\n",
       "      <th>DOB_Skilled_Trades_Lic_Num</th>\n",
       "      <th>DOB_Skilled_Trades_Lic_Type</th>\n",
       "    </tr>\n",
       "  </thead>\n",
       "  <tbody>\n",
       "    <tr>\n",
       "      <th>177958</th>\n",
       "      <td>DOHMH Permit</td>\n",
       "      <td>Rivera Sales Enterprises INC</td>\n",
       "      <td>NaN</td>\n",
       "      <td>NaN</td>\n",
       "      <td>NYS FACILITY FOODSVC</td>\n",
       "      <td>NYS FACILITY WITH   FOOD SERVICE</td>\n",
       "      <td>1900-01-01</td>\n",
       "      <td>2015-06-30</td>\n",
       "      <td>04/30/2014 00:00:00</td>\n",
       "      <td>NaN</td>\n",
       "      <td>...</td>\n",
       "      <td>BRONX</td>\n",
       "      <td>10456</td>\n",
       "      <td>BRONX</td>\n",
       "      <td>2004358</td>\n",
       "      <td>2026190010</td>\n",
       "      <td>40.8221</td>\n",
       "      <td>-73.9094</td>\n",
       "      <td>Unknown</td>\n",
       "      <td>NaN</td>\n",
       "      <td>NaN</td>\n",
       "    </tr>\n",
       "  </tbody>\n",
       "</table>\n",
       "<p>1 rows × 22 columns</p>\n",
       "</div>"
      ],
      "text/plain": [
       "              Source         License_Permit_Holder Business_Description  \\\n",
       "177958  DOHMH Permit  Rivera Sales Enterprises INC                  NaN   \n",
       "\n",
       "        License/Permit_Number Permit_Type_Description  \\\n",
       "177958                    NaN    NYS FACILITY FOODSVC   \n",
       "\n",
       "              Permit_Subtype_Description Permit_Issuance_Date  \\\n",
       "177958  NYS FACILITY WITH   FOOD SERVICE           1900-01-01   \n",
       "\n",
       "       Permit_Expiration_Date   Permit_Status_Date Permit_Status_Description  \\\n",
       "177958             2015-06-30  04/30/2014 00:00:00                       NaN   \n",
       "\n",
       "                   ...               City Zip_Code Borough Building_ID_No  \\\n",
       "177958             ...              BRONX    10456   BRONX        2004358   \n",
       "\n",
       "       Borough_Block_Lot Latitude_WGS84 Longitude_WGS84  \\\n",
       "177958        2026190010        40.8221        -73.9094   \n",
       "\n",
       "       License/Permit_Holder_Name DOB_Skilled_Trades_Lic_Num  \\\n",
       "177958                    Unknown                        NaN   \n",
       "\n",
       "       DOB_Skilled_Trades_Lic_Type  \n",
       "177958                         NaN  \n",
       "\n",
       "[1 rows x 22 columns]"
      ]
     },
     "execution_count": 25,
     "metadata": {},
     "output_type": "execute_result"
    }
   ],
   "source": [
    "permits[permits['Permit_Type_Description'] == 'NYS FACILITY FOODSVC']"
   ]
  },
  {
   "cell_type": "markdown",
   "metadata": {},
   "source": [
    "Nothing interesting.\n",
    "\n",
    "We are interested in permanent restaurant establishments. So let's subselect our data to match that expectation."
   ]
  },
  {
   "cell_type": "code",
   "execution_count": 26,
   "metadata": {
    "collapsed": false
   },
   "outputs": [],
   "source": [
    "restaurant_permits = permits[permits['Permit_Type_Description'].isin(['FOOD SERVICE EST.', 'FOOD SERVICE ESTAB.', 'FOOD SERVICE ESTABL.'])]"
   ]
  },
  {
   "cell_type": "code",
   "execution_count": 27,
   "metadata": {
    "collapsed": false
   },
   "outputs": [
    {
     "data": {
      "text/plain": [
       "205569"
      ]
     },
     "execution_count": 27,
     "metadata": {},
     "output_type": "execute_result"
    }
   ],
   "source": [
    "len(restaurant_permits)"
   ]
  },
  {
   "cell_type": "markdown",
   "metadata": {},
   "source": [
    "`Permit_Subtype_Description` provides some additional context."
   ]
  },
  {
   "cell_type": "code",
   "execution_count": 28,
   "metadata": {
    "collapsed": false
   },
   "outputs": [
    {
     "data": {
      "text/plain": [
       "FOOD SERVICE ESTABL.                        204464\n",
       "TEMP FOOD SERV ESTABSTREET FAIR NONPROC      30570\n",
       "FOOD SERVICE ESTABL WITH MFD MACHINE         24909\n",
       "FOOD SERVICE        ESTABLISHMENT            14420\n",
       "FOOD VENDOR LICENSE SEASONAL RENEWAL         11230\n",
       "SEASONAL MFV PERMIT NONPROCESSING             5144\n",
       "FOOD VENDOR LICENSE FULL TERM RNW FEE-EX      4307\n",
       "TEMP FOOD SERV ESTAB STREET FAIR              2801\n",
       "FOOD SVC ESTAB. NON PUBLIC SCHL/FRAT ORG      1140\n",
       "FOOD SERVICE ESTAB. FOOD RELIEF ORGANIZ.      1074\n",
       "FOOD SERVICE ESTAB  SENIOR CENTER             1067\n",
       "NONRETAIL FOOD ESTAB                           782\n",
       "NONRETAIL FOOD ESTABVENDOR COMMISS/DEPOT       768\n",
       "FOOD VENDOR LICENSE FULL TERM NEW FEE-EX       480\n",
       "FOOD SVC ESTAB. NON PUBLIC SCHOOL/PROFIT       302\n",
       "FOOD SVC ESTAB. NON PUBLIC SCHOOL/BD ED        265\n",
       "NONRETAIL FOOD ESTABFISH OR SHELLFISH          205\n",
       "FOOD VENDOR LICENSE SEASONAL NEW               141\n",
       "TEMP FOOD SERV ESTABSTREET FAIR NO-FEE         126\n",
       "FOOD SERVICE ESTAB. FRAT/CHARIT/MEMBERGP        98\n",
       "FOOD VENDOR LICENSE  SEASONAL RNW FEE-EX        41\n",
       "FOOD SERVICE ESTABL.FRATERNAL,CHARIT ORG        31\n",
       "SEASONAL MFV PERMIT NONPROCESS FEE-EXMPT        17\n",
       "NONRETAIL FOOD ESTABFEE-EXEMPT                   2\n",
       "NYS FACILITY WITH   FOOD SERVICE                 1\n",
       "Name: Permit_Subtype_Description, dtype: int64"
      ]
     },
     "execution_count": 28,
     "metadata": {},
     "output_type": "execute_result"
    }
   ],
   "source": [
    "permits['Permit_Subtype_Description'].value_counts()"
   ]
  },
  {
   "cell_type": "markdown",
   "metadata": {},
   "source": [
    "What's interesting is that when we cut to restaurants specifically we get far fewer types, which makes sense:"
   ]
  },
  {
   "cell_type": "code",
   "execution_count": 29,
   "metadata": {
    "collapsed": false
   },
   "outputs": [
    {
     "data": {
      "text/plain": [
       "FOOD SERVICE ESTABL.                        204464\n",
       "FOOD SERVICE ESTAB. FOOD RELIEF ORGANIZ.      1074\n",
       "FOOD SERVICE ESTABL.FRATERNAL,CHARIT ORG        31\n",
       "Name: Permit_Subtype_Description, dtype: int64"
      ]
     },
     "execution_count": 29,
     "metadata": {},
     "output_type": "execute_result"
    }
   ],
   "source": [
    "restaurant_permits['Permit_Subtype_Description'].value_counts()"
   ]
  },
  {
   "cell_type": "markdown",
   "metadata": {},
   "source": [
    "The latter two classes are really the same thing, probably. Interesting to see ~0.5% of food establishments in New York City could be called chariatable. "
   ]
  },
  {
   "cell_type": "code",
   "execution_count": 30,
   "metadata": {
    "collapsed": false
   },
   "outputs": [
    {
     "data": {
      "text/html": [
       "<div>\n",
       "<table border=\"1\" class=\"dataframe\">\n",
       "  <thead>\n",
       "    <tr style=\"text-align: right;\">\n",
       "      <th></th>\n",
       "      <th>Source</th>\n",
       "      <th>License_Permit_Holder</th>\n",
       "      <th>Business_Description</th>\n",
       "      <th>License/Permit_Number</th>\n",
       "      <th>Permit_Type_Description</th>\n",
       "      <th>Permit_Subtype_Description</th>\n",
       "      <th>Permit_Issuance_Date</th>\n",
       "      <th>Permit_Expiration_Date</th>\n",
       "      <th>Permit_Status_Date</th>\n",
       "      <th>Permit_Status_Description</th>\n",
       "      <th>...</th>\n",
       "      <th>City</th>\n",
       "      <th>Zip_Code</th>\n",
       "      <th>Borough</th>\n",
       "      <th>Building_ID_No</th>\n",
       "      <th>Borough_Block_Lot</th>\n",
       "      <th>Latitude_WGS84</th>\n",
       "      <th>Longitude_WGS84</th>\n",
       "      <th>License/Permit_Holder_Name</th>\n",
       "      <th>DOB_Skilled_Trades_Lic_Num</th>\n",
       "      <th>DOB_Skilled_Trades_Lic_Type</th>\n",
       "    </tr>\n",
       "  </thead>\n",
       "  <tbody>\n",
       "    <tr>\n",
       "      <th>0</th>\n",
       "      <td>DOHMH Permit</td>\n",
       "      <td>HOT JALAPENO RESTAURANT CORP.</td>\n",
       "      <td>NaN</td>\n",
       "      <td>1447631.0</td>\n",
       "      <td>FOOD SERVICE EST.</td>\n",
       "      <td>FOOD SERVICE ESTABL.</td>\n",
       "      <td>2012-10-22</td>\n",
       "      <td>2013-10-31</td>\n",
       "      <td>10/22/2012 00:00:00</td>\n",
       "      <td>NaN</td>\n",
       "      <td>...</td>\n",
       "      <td>NEW YORK</td>\n",
       "      <td>10029</td>\n",
       "      <td>MANHATTAN</td>\n",
       "      <td>1052570</td>\n",
       "      <td>1016660008</td>\n",
       "      <td>40.797814</td>\n",
       "      <td>-73.938961</td>\n",
       "      <td>MEJIA, JAMIE E.</td>\n",
       "      <td>NaN</td>\n",
       "      <td>NaN</td>\n",
       "    </tr>\n",
       "    <tr>\n",
       "      <th>1</th>\n",
       "      <td>DOHMH Permit</td>\n",
       "      <td>RIGHT TASTE RESTAURANT INC</td>\n",
       "      <td>NaN</td>\n",
       "      <td>1446867.0</td>\n",
       "      <td>FOOD SERVICE EST.</td>\n",
       "      <td>FOOD SERVICE ESTABL.</td>\n",
       "      <td>2013-01-23</td>\n",
       "      <td>2013-10-31</td>\n",
       "      <td>01/23/2013 00:00:00</td>\n",
       "      <td>NaN</td>\n",
       "      <td>...</td>\n",
       "      <td>BRONX</td>\n",
       "      <td>10466</td>\n",
       "      <td>BRONX</td>\n",
       "      <td>2064799</td>\n",
       "      <td>2048680052</td>\n",
       "      <td>40.891093</td>\n",
       "      <td>-73.850918</td>\n",
       "      <td>ERROL, SPENCER</td>\n",
       "      <td>NaN</td>\n",
       "      <td>NaN</td>\n",
       "    </tr>\n",
       "    <tr>\n",
       "      <th>2</th>\n",
       "      <td>DOHMH Permit</td>\n",
       "      <td>CHORSU CORP</td>\n",
       "      <td>NaN</td>\n",
       "      <td>1304742.0</td>\n",
       "      <td>FOOD SERVICE EST.</td>\n",
       "      <td>FOOD SERVICE ESTABL.</td>\n",
       "      <td>2012-10-11</td>\n",
       "      <td>2013-11-30</td>\n",
       "      <td>10/11/2012 00:00:00</td>\n",
       "      <td>NaN</td>\n",
       "      <td>...</td>\n",
       "      <td>BROOKLYN</td>\n",
       "      <td>11223</td>\n",
       "      <td>BROOKLYN</td>\n",
       "      <td>3177125</td>\n",
       "      <td>3066570053</td>\n",
       "      <td>40.604511</td>\n",
       "      <td>-73.972778</td>\n",
       "      <td>MAKHMUDOV, MUMIN</td>\n",
       "      <td>NaN</td>\n",
       "      <td>NaN</td>\n",
       "    </tr>\n",
       "    <tr>\n",
       "      <th>3</th>\n",
       "      <td>DOHMH Permit</td>\n",
       "      <td>561 SOUTHERN FOOD CORP.</td>\n",
       "      <td>NaN</td>\n",
       "      <td>1235037.0</td>\n",
       "      <td>FOOD SERVICE EST.</td>\n",
       "      <td>FOOD SERVICE ESTABL.</td>\n",
       "      <td>2012-08-28</td>\n",
       "      <td>2013-08-31</td>\n",
       "      <td>10/26/2012 00:00:00</td>\n",
       "      <td>NaN</td>\n",
       "      <td>...</td>\n",
       "      <td>BRONX</td>\n",
       "      <td>10455</td>\n",
       "      <td>BRONX</td>\n",
       "      <td>2088194</td>\n",
       "      <td>2026830045</td>\n",
       "      <td>40.812702</td>\n",
       "      <td>-73.903234</td>\n",
       "      <td>DELGADO-MORALES, MARDOMIO ROBERTO</td>\n",
       "      <td>NaN</td>\n",
       "      <td>NaN</td>\n",
       "    </tr>\n",
       "    <tr>\n",
       "      <th>4</th>\n",
       "      <td>DOHMH Permit</td>\n",
       "      <td>BBQ CHICKEN DON ALEX NO 1 CORP</td>\n",
       "      <td>NaN</td>\n",
       "      <td>1447036.0</td>\n",
       "      <td>FOOD SERVICE EST.</td>\n",
       "      <td>FOOD SERVICE ESTABL.</td>\n",
       "      <td>2013-03-12</td>\n",
       "      <td>2013-10-31</td>\n",
       "      <td>03/11/2013 00:00:00</td>\n",
       "      <td>NaN</td>\n",
       "      <td>...</td>\n",
       "      <td>LONG ISLAND CITY</td>\n",
       "      <td>11101</td>\n",
       "      <td>QUEENS</td>\n",
       "      <td>4036228</td>\n",
       "      <td>4014720001</td>\n",
       "      <td>40.749762</td>\n",
       "      <td>-73.881945</td>\n",
       "      <td>DIAVIM, M. OSORES</td>\n",
       "      <td>NaN</td>\n",
       "      <td>NaN</td>\n",
       "    </tr>\n",
       "    <tr>\n",
       "      <th>5</th>\n",
       "      <td>DOHMH Permit</td>\n",
       "      <td>PETER'S GINZA INC</td>\n",
       "      <td>NaN</td>\n",
       "      <td>1448608.0</td>\n",
       "      <td>FOOD SERVICE EST.</td>\n",
       "      <td>FOOD SERVICE ESTABL.</td>\n",
       "      <td>2012-11-26</td>\n",
       "      <td>2013-10-31</td>\n",
       "      <td>11/26/2012 00:00:00</td>\n",
       "      <td>NaN</td>\n",
       "      <td>...</td>\n",
       "      <td>FLUSHING</td>\n",
       "      <td>11358</td>\n",
       "      <td>QUEENS</td>\n",
       "      <td>4135004</td>\n",
       "      <td>4060740037</td>\n",
       "      <td>40.766485</td>\n",
       "      <td>-73.789454</td>\n",
       "      <td>MYUNGSHIN, JUN</td>\n",
       "      <td>NaN</td>\n",
       "      <td>NaN</td>\n",
       "    </tr>\n",
       "    <tr>\n",
       "      <th>6</th>\n",
       "      <td>DOHMH Permit</td>\n",
       "      <td>ROYAL SUBS CORP.</td>\n",
       "      <td>NaN</td>\n",
       "      <td>1447151.0</td>\n",
       "      <td>FOOD SERVICE EST.</td>\n",
       "      <td>FOOD SERVICE ESTABL.</td>\n",
       "      <td>2012-10-22</td>\n",
       "      <td>2013-10-31</td>\n",
       "      <td>10/22/2012 00:00:00</td>\n",
       "      <td>NaN</td>\n",
       "      <td>...</td>\n",
       "      <td>BROOKLYN</td>\n",
       "      <td>11228</td>\n",
       "      <td>BROOKLYN</td>\n",
       "      <td>3159989</td>\n",
       "      <td>3062220001</td>\n",
       "      <td>40.619698</td>\n",
       "      <td>-74.007698</td>\n",
       "      <td>ROAY, KOHLI</td>\n",
       "      <td>NaN</td>\n",
       "      <td>NaN</td>\n",
       "    </tr>\n",
       "    <tr>\n",
       "      <th>7</th>\n",
       "      <td>DOHMH Permit</td>\n",
       "      <td>ABSOLUTELYDIVINECOOKIES.COM LLC</td>\n",
       "      <td>NaN</td>\n",
       "      <td>1446900.0</td>\n",
       "      <td>FOOD SERVICE EST.</td>\n",
       "      <td>FOOD SERVICE ESTABL.</td>\n",
       "      <td>2012-10-11</td>\n",
       "      <td>2013-10-31</td>\n",
       "      <td>10/11/2012 00:00:00</td>\n",
       "      <td>NaN</td>\n",
       "      <td>...</td>\n",
       "      <td>WOODSIDE</td>\n",
       "      <td>11377</td>\n",
       "      <td>QUEENS</td>\n",
       "      <td>4031760</td>\n",
       "      <td>4013430146</td>\n",
       "      <td>40.743163</td>\n",
       "      <td>-73.898654</td>\n",
       "      <td>ROA, MARIBETH</td>\n",
       "      <td>NaN</td>\n",
       "      <td>NaN</td>\n",
       "    </tr>\n",
       "    <tr>\n",
       "      <th>8</th>\n",
       "      <td>DOHMH Permit</td>\n",
       "      <td>EASY CORNER RESTAURANT &amp; GRILL INC.</td>\n",
       "      <td>NaN</td>\n",
       "      <td>1447792.0</td>\n",
       "      <td>FOOD SERVICE EST.</td>\n",
       "      <td>FOOD SERVICE ESTABL.</td>\n",
       "      <td>1900-01-01</td>\n",
       "      <td>2013-10-31</td>\n",
       "      <td>10/19/2012 00:00:00</td>\n",
       "      <td>NaN</td>\n",
       "      <td>...</td>\n",
       "      <td>NEW YORK</td>\n",
       "      <td>10026</td>\n",
       "      <td>MANHATTAN</td>\n",
       "      <td>1058330</td>\n",
       "      <td>1019210029</td>\n",
       "      <td>40.815025</td>\n",
       "      <td>-73.940644</td>\n",
       "      <td>EPPS, FATIMA</td>\n",
       "      <td>NaN</td>\n",
       "      <td>NaN</td>\n",
       "    </tr>\n",
       "    <tr>\n",
       "      <th>9</th>\n",
       "      <td>DOHMH Permit</td>\n",
       "      <td>LAS TIAS BAKERY, LLC</td>\n",
       "      <td>NaN</td>\n",
       "      <td>1413166.0</td>\n",
       "      <td>FOOD SERVICE EST.</td>\n",
       "      <td>FOOD SERVICE ESTABL.</td>\n",
       "      <td>2012-09-18</td>\n",
       "      <td>2014-11-30</td>\n",
       "      <td>09/09/2013 00:00:00</td>\n",
       "      <td>NaN</td>\n",
       "      <td>...</td>\n",
       "      <td>MIDDLE VILLAGE</td>\n",
       "      <td>11379</td>\n",
       "      <td>QUEENS</td>\n",
       "      <td>4071753</td>\n",
       "      <td>4030650012</td>\n",
       "      <td>40.713058</td>\n",
       "      <td>-73.878287</td>\n",
       "      <td>Unknown</td>\n",
       "      <td>NaN</td>\n",
       "      <td>NaN</td>\n",
       "    </tr>\n",
       "  </tbody>\n",
       "</table>\n",
       "<p>10 rows × 22 columns</p>\n",
       "</div>"
      ],
      "text/plain": [
       "         Source                License_Permit_Holder Business_Description  \\\n",
       "0  DOHMH Permit        HOT JALAPENO RESTAURANT CORP.                  NaN   \n",
       "1  DOHMH Permit           RIGHT TASTE RESTAURANT INC                  NaN   \n",
       "2  DOHMH Permit                          CHORSU CORP                  NaN   \n",
       "3  DOHMH Permit              561 SOUTHERN FOOD CORP.                  NaN   \n",
       "4  DOHMH Permit       BBQ CHICKEN DON ALEX NO 1 CORP                  NaN   \n",
       "5  DOHMH Permit                    PETER'S GINZA INC                  NaN   \n",
       "6  DOHMH Permit                     ROYAL SUBS CORP.                  NaN   \n",
       "7  DOHMH Permit      ABSOLUTELYDIVINECOOKIES.COM LLC                  NaN   \n",
       "8  DOHMH Permit  EASY CORNER RESTAURANT & GRILL INC.                  NaN   \n",
       "9  DOHMH Permit                 LAS TIAS BAKERY, LLC                  NaN   \n",
       "\n",
       "   License/Permit_Number Permit_Type_Description Permit_Subtype_Description  \\\n",
       "0              1447631.0       FOOD SERVICE EST.       FOOD SERVICE ESTABL.   \n",
       "1              1446867.0       FOOD SERVICE EST.       FOOD SERVICE ESTABL.   \n",
       "2              1304742.0       FOOD SERVICE EST.       FOOD SERVICE ESTABL.   \n",
       "3              1235037.0       FOOD SERVICE EST.       FOOD SERVICE ESTABL.   \n",
       "4              1447036.0       FOOD SERVICE EST.       FOOD SERVICE ESTABL.   \n",
       "5              1448608.0       FOOD SERVICE EST.       FOOD SERVICE ESTABL.   \n",
       "6              1447151.0       FOOD SERVICE EST.       FOOD SERVICE ESTABL.   \n",
       "7              1446900.0       FOOD SERVICE EST.       FOOD SERVICE ESTABL.   \n",
       "8              1447792.0       FOOD SERVICE EST.       FOOD SERVICE ESTABL.   \n",
       "9              1413166.0       FOOD SERVICE EST.       FOOD SERVICE ESTABL.   \n",
       "\n",
       "  Permit_Issuance_Date Permit_Expiration_Date   Permit_Status_Date  \\\n",
       "0           2012-10-22             2013-10-31  10/22/2012 00:00:00   \n",
       "1           2013-01-23             2013-10-31  01/23/2013 00:00:00   \n",
       "2           2012-10-11             2013-11-30  10/11/2012 00:00:00   \n",
       "3           2012-08-28             2013-08-31  10/26/2012 00:00:00   \n",
       "4           2013-03-12             2013-10-31  03/11/2013 00:00:00   \n",
       "5           2012-11-26             2013-10-31  11/26/2012 00:00:00   \n",
       "6           2012-10-22             2013-10-31  10/22/2012 00:00:00   \n",
       "7           2012-10-11             2013-10-31  10/11/2012 00:00:00   \n",
       "8           1900-01-01             2013-10-31  10/19/2012 00:00:00   \n",
       "9           2012-09-18             2014-11-30  09/09/2013 00:00:00   \n",
       "\n",
       "  Permit_Status_Description             ...                          City  \\\n",
       "0                       NaN             ...                      NEW YORK   \n",
       "1                       NaN             ...                         BRONX   \n",
       "2                       NaN             ...                      BROOKLYN   \n",
       "3                       NaN             ...                         BRONX   \n",
       "4                       NaN             ...              LONG ISLAND CITY   \n",
       "5                       NaN             ...                      FLUSHING   \n",
       "6                       NaN             ...                      BROOKLYN   \n",
       "7                       NaN             ...                      WOODSIDE   \n",
       "8                       NaN             ...                      NEW YORK   \n",
       "9                       NaN             ...                MIDDLE VILLAGE   \n",
       "\n",
       "  Zip_Code    Borough Building_ID_No Borough_Block_Lot Latitude_WGS84  \\\n",
       "0    10029  MANHATTAN        1052570        1016660008      40.797814   \n",
       "1    10466      BRONX        2064799        2048680052      40.891093   \n",
       "2    11223   BROOKLYN        3177125        3066570053      40.604511   \n",
       "3    10455      BRONX        2088194        2026830045      40.812702   \n",
       "4    11101     QUEENS        4036228        4014720001      40.749762   \n",
       "5    11358     QUEENS        4135004        4060740037      40.766485   \n",
       "6    11228   BROOKLYN        3159989        3062220001      40.619698   \n",
       "7    11377     QUEENS        4031760        4013430146      40.743163   \n",
       "8    10026  MANHATTAN        1058330        1019210029      40.815025   \n",
       "9    11379     QUEENS        4071753        4030650012      40.713058   \n",
       "\n",
       "  Longitude_WGS84         License/Permit_Holder_Name  \\\n",
       "0      -73.938961                    MEJIA, JAMIE E.   \n",
       "1      -73.850918                     ERROL, SPENCER   \n",
       "2      -73.972778                   MAKHMUDOV, MUMIN   \n",
       "3      -73.903234  DELGADO-MORALES, MARDOMIO ROBERTO   \n",
       "4      -73.881945                  DIAVIM, M. OSORES   \n",
       "5      -73.789454                     MYUNGSHIN, JUN   \n",
       "6      -74.007698                        ROAY, KOHLI   \n",
       "7      -73.898654                      ROA, MARIBETH   \n",
       "8      -73.940644                       EPPS, FATIMA   \n",
       "9      -73.878287                            Unknown   \n",
       "\n",
       "  DOB_Skilled_Trades_Lic_Num DOB_Skilled_Trades_Lic_Type  \n",
       "0                        NaN                         NaN  \n",
       "1                        NaN                         NaN  \n",
       "2                        NaN                         NaN  \n",
       "3                        NaN                         NaN  \n",
       "4                        NaN                         NaN  \n",
       "5                        NaN                         NaN  \n",
       "6                        NaN                         NaN  \n",
       "7                        NaN                         NaN  \n",
       "8                        NaN                         NaN  \n",
       "9                        NaN                         NaN  \n",
       "\n",
       "[10 rows x 22 columns]"
      ]
     },
     "execution_count": 30,
     "metadata": {},
     "output_type": "execute_result"
    }
   ],
   "source": [
    "restaurant_permits.head(10)"
   ]
  },
  {
   "cell_type": "markdown",
   "metadata": {},
   "source": [
    "As before, `1900-01-01` is a sentinel value for \"unknown\" (hence the entries with `41576` or thereabout permit time). The rest of the permits issued are usually around a year in extent, but with a great degree of variability: "
   ]
  },
  {
   "cell_type": "code",
   "execution_count": 31,
   "metadata": {
    "collapsed": false
   },
   "outputs": [
    {
     "data": {
      "text/plain": [
       "0          374 days\n",
       "1          281 days\n",
       "2          415 days\n",
       "3          368 days\n",
       "4          233 days\n",
       "5          339 days\n",
       "6          374 days\n",
       "7          385 days\n",
       "8        41576 days\n",
       "9          803 days\n",
       "13       41576 days\n",
       "15         281 days\n",
       "17         226 days\n",
       "18         357 days\n",
       "19         357 days\n",
       "20         337 days\n",
       "21         357 days\n",
       "22       41576 days\n",
       "23         245 days\n",
       "28         316 days\n",
       "30         431 days\n",
       "31         267 days\n",
       "32       41545 days\n",
       "33       41576 days\n",
       "34         281 days\n",
       "35         233 days\n",
       "36         309 days\n",
       "37       41576 days\n",
       "38         268 days\n",
       "40         374 days\n",
       "            ...    \n",
       "304345   42976 days\n",
       "304346   42183 days\n",
       "304347   41910 days\n",
       "304349   42976 days\n",
       "304351   42306 days\n",
       "304352   34148 days\n",
       "304353   42306 days\n",
       "304354   35609 days\n",
       "304355   42275 days\n",
       "304356   42122 days\n",
       "304357   42092 days\n",
       "304358   42672 days\n",
       "304360   42672 days\n",
       "304365   42884 days\n",
       "304366   42884 days\n",
       "304368   42914 days\n",
       "304369   42702 days\n",
       "304370   42488 days\n",
       "304372   42914 days\n",
       "304373   42367 days\n",
       "304374   42336 days\n",
       "304376   42945 days\n",
       "304377   42641 days\n",
       "304378   42976 days\n",
       "304379   42458 days\n",
       "304380   42764 days\n",
       "304382   42945 days\n",
       "304383   42914 days\n",
       "304384   42914 days\n",
       "304385   42976 days\n",
       "dtype: timedelta64[ns]"
      ]
     },
     "execution_count": 31,
     "metadata": {},
     "output_type": "execute_result"
    }
   ],
   "source": [
    "restaurant_permits['Permit_Expiration_Date'] - restaurant_permits['Permit_Issuance_Date']"
   ]
  },
  {
   "cell_type": "code",
   "execution_count": 46,
   "metadata": {
    "collapsed": false
   },
   "outputs": [],
   "source": [
    "permit_times = (restaurant_permits['Permit_Expiration_Date'] - restaurant_permits['Permit_Issuance_Date']) \n",
    "permit_times = permit_times[(permit_times < pd.to_timedelta(30000, unit='d')) & (pd.to_timedelta(0, unit='d') < permit_times)]"
   ]
  },
  {
   "cell_type": "code",
   "execution_count": 47,
   "metadata": {
    "collapsed": false
   },
   "outputs": [
    {
     "data": {
      "text/plain": [
       "0.6845292821388439"
      ]
     },
     "execution_count": 47,
     "metadata": {},
     "output_type": "execute_result"
    }
   ],
   "source": [
    "len(permit_times) / len(restaurant_permits)"
   ]
  },
  {
   "cell_type": "markdown",
   "metadata": {},
   "source": [
    "So only ~70% of records have both valid issuance and permit dates."
   ]
  },
  {
   "cell_type": "code",
   "execution_count": 34,
   "metadata": {
    "collapsed": false
   },
   "outputs": [],
   "source": [
    "import seaborn as sns\n",
    "%matplotlib inline"
   ]
  },
  {
   "cell_type": "code",
   "execution_count": 48,
   "metadata": {
    "collapsed": false
   },
   "outputs": [
    {
     "data": {
      "text/plain": [
       "0     374\n",
       "1     281\n",
       "2     415\n",
       "3     368\n",
       "4     233\n",
       "5     339\n",
       "6     374\n",
       "7     385\n",
       "9     803\n",
       "15    281\n",
       "dtype: int64"
      ]
     },
     "execution_count": 48,
     "metadata": {},
     "output_type": "execute_result"
    }
   ],
   "source": [
    "permit_times[:10].map(lambda d: d.days)"
   ]
  },
  {
   "cell_type": "code",
   "execution_count": 49,
   "metadata": {
    "collapsed": false
   },
   "outputs": [
    {
     "data": {
      "text/plain": [
       "<matplotlib.axes._subplots.AxesSubplot at 0x113529748>"
      ]
     },
     "execution_count": 49,
     "metadata": {},
     "output_type": "execute_result"
    },
    {
     "data": {
      "image/png": "[encoded data removed]",
      "text/plain": [
       "<matplotlib.figure.Figure at 0x11ce051d0>"
      ]
     },
     "metadata": {},
     "output_type": "display_data"
    }
   ],
   "source": [
    "sns.distplot(permit_times.map(lambda d: d.days))"
   ]
  },
  {
   "cell_type": "markdown",
   "metadata": {},
   "source": [
    "Permit times of a year are clearly heavily favored, but far from universial."
   ]
  },
  {
   "cell_type": "code",
   "execution_count": 74,
   "metadata": {
    "collapsed": false
   },
   "outputs": [
    {
     "data": {
      "text/plain": [
       "<matplotlib.axes._subplots.AxesSubplot at 0x11ce63898>"
      ]
     },
     "execution_count": 74,
     "metadata": {},
     "output_type": "execute_result"
    },
    {
     "data": {
      "image/png": "[encoded data removed]",
      "text/plain": [
       "<matplotlib.figure.Figure at 0x11ce6ac88>"
      ]
     },
     "metadata": {},
     "output_type": "display_data"
    }
   ],
   "source": [
    "permit_issuance_counts = restaurant_permits['Permit_Issuance_Date'].value_counts().sort_index()[1:]\n",
    "permit_issuance_counts.plot()"
   ]
  },
  {
   "cell_type": "markdown",
   "metadata": {},
   "source": [
    "Another dead end! This data, it turns out, actually cuts out in early 2013.\n",
    "\n",
    "Looks this is an undeclared unupdated one-time dump. Ridiculous!"
   ]
  }
 ],
 "metadata": {
  "anaconda-cloud": {},
  "kernelspec": {
   "display_name": "Python [conda env:nyc-restaurant-trends]",
   "language": "python",
   "name": "conda-env-nyc-restaurant-trends-py"
  },
  "language_info": {
   "codemirror_mode": {
    "name": "ipython",
    "version": 3
   },
   "file_extension": ".py",
   "mimetype": "text/x-python",
   "name": "python",
   "nbconvert_exporter": "python",
   "pygments_lexer": "ipython3",
   "version": "3.5.2"
  },
  "widgets": {
   "state": {
    "69961ba772cd492e985521aaa21f1dad": {
     "views": [
      {
       "cell_index": 22
      }
     ]
    },
    "e538e1c2fd6b457d96b7775ef1a1b1fd": {
     "views": [
      {
       "cell_index": 32
      }
     ]
    }
   },
   "version": "1.2.0"
  }
 },
 "nbformat": 4,
 "nbformat_minor": 1
}
