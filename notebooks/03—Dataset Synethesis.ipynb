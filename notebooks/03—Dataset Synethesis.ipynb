{
 "cells": [
  {
   "cell_type": "code",
   "execution_count": 1,
   "metadata": {
    "collapsed": true
   },
   "outputs": [],
   "source": [
    "import pandas as pd"
   ]
  },
  {
   "cell_type": "code",
   "execution_count": 2,
   "metadata": {
    "collapsed": false
   },
   "outputs": [],
   "source": [
    "inspections = pd.read_csv(\"../data/inspections.csv\", index_col=0)"
   ]
  },
  {
   "cell_type": "code",
   "execution_count": 3,
   "metadata": {
    "collapsed": false
   },
   "outputs": [
    {
     "data": {
      "text/html": [
       "<div>\n",
       "<table border=\"1\" class=\"dataframe\">\n",
       "  <thead>\n",
       "    <tr style=\"text-align: right;\">\n",
       "      <th></th>\n",
       "      <th>CAMIS</th>\n",
       "      <th>DBA</th>\n",
       "      <th>BORO</th>\n",
       "      <th>BUILDING</th>\n",
       "      <th>STREET</th>\n",
       "      <th>ZIPCODE</th>\n",
       "      <th>PHONE</th>\n",
       "      <th>CUISINE DESCRIPTION</th>\n",
       "      <th>INSPECTION DATE</th>\n",
       "      <th>ACTION</th>\n",
       "      <th>VIOLATION CODE</th>\n",
       "      <th>VIOLATION DESCRIPTION</th>\n",
       "      <th>CRITICAL FLAG</th>\n",
       "      <th>SCORE</th>\n",
       "      <th>GRADE</th>\n",
       "      <th>GRADE DATE</th>\n",
       "      <th>RECORD DATE</th>\n",
       "      <th>INSPECTION TYPE</th>\n",
       "    </tr>\n",
       "  </thead>\n",
       "  <tbody>\n",
       "    <tr>\n",
       "      <th>0</th>\n",
       "      <td>41158108</td>\n",
       "      <td>NICK'S GOURMET DELI</td>\n",
       "      <td>QUEENS</td>\n",
       "      <td>7415</td>\n",
       "      <td>DITMARS BOULEVARD</td>\n",
       "      <td>11370</td>\n",
       "      <td>7182788338</td>\n",
       "      <td>American</td>\n",
       "      <td>07/21/2015</td>\n",
       "      <td>Violations were cited in the following area(s).</td>\n",
       "      <td>04L</td>\n",
       "      <td>Evidence of mice or live mice present in facil...</td>\n",
       "      <td>Critical</td>\n",
       "      <td>11.0</td>\n",
       "      <td>NaN</td>\n",
       "      <td>NaN</td>\n",
       "      <td>09/27/2016</td>\n",
       "      <td>Cycle Inspection / Initial Inspection</td>\n",
       "    </tr>\n",
       "    <tr>\n",
       "      <th>1</th>\n",
       "      <td>41187577</td>\n",
       "      <td>HANSOL NUTRITION CENTER</td>\n",
       "      <td>QUEENS</td>\n",
       "      <td>16026</td>\n",
       "      <td>NORTHERN BOULEVARD</td>\n",
       "      <td>11358</td>\n",
       "      <td>7188880200</td>\n",
       "      <td>Korean</td>\n",
       "      <td>07/13/2016</td>\n",
       "      <td>Violations were cited in the following area(s).</td>\n",
       "      <td>06A</td>\n",
       "      <td>Personal cleanliness inadequate. Outer garment...</td>\n",
       "      <td>Critical</td>\n",
       "      <td>30.0</td>\n",
       "      <td>NaN</td>\n",
       "      <td>NaN</td>\n",
       "      <td>09/27/2016</td>\n",
       "      <td>Cycle Inspection / Initial Inspection</td>\n",
       "    </tr>\n",
       "    <tr>\n",
       "      <th>2</th>\n",
       "      <td>41705988</td>\n",
       "      <td>KURA</td>\n",
       "      <td>MANHATTAN</td>\n",
       "      <td>130</td>\n",
       "      <td>ST MARKS PLACE</td>\n",
       "      <td>10009</td>\n",
       "      <td>2122281010</td>\n",
       "      <td>Japanese</td>\n",
       "      <td>05/08/2013</td>\n",
       "      <td>Violations were cited in the following area(s).</td>\n",
       "      <td>02B</td>\n",
       "      <td>Hot food item not held at or above 140Âº F.</td>\n",
       "      <td>Critical</td>\n",
       "      <td>27.0</td>\n",
       "      <td>NaN</td>\n",
       "      <td>NaN</td>\n",
       "      <td>09/27/2016</td>\n",
       "      <td>Pre-permit (Operational) / Initial Inspection</td>\n",
       "    </tr>\n",
       "  </tbody>\n",
       "</table>\n",
       "</div>"
      ],
      "text/plain": [
       "      CAMIS                      DBA       BORO BUILDING              STREET  \\\n",
       "0  41158108      NICK'S GOURMET DELI     QUEENS     7415   DITMARS BOULEVARD   \n",
       "1  41187577  HANSOL NUTRITION CENTER     QUEENS    16026  NORTHERN BOULEVARD   \n",
       "2  41705988                     KURA  MANHATTAN      130      ST MARKS PLACE   \n",
       "\n",
       "   ZIPCODE       PHONE CUISINE DESCRIPTION INSPECTION DATE  \\\n",
       "0    11370  7182788338            American      07/21/2015   \n",
       "1    11358  7188880200              Korean      07/13/2016   \n",
       "2    10009  2122281010            Japanese      05/08/2013   \n",
       "\n",
       "                                            ACTION VIOLATION CODE  \\\n",
       "0  Violations were cited in the following area(s).            04L   \n",
       "1  Violations were cited in the following area(s).            06A   \n",
       "2  Violations were cited in the following area(s).            02B   \n",
       "\n",
       "                               VIOLATION DESCRIPTION CRITICAL FLAG  SCORE  \\\n",
       "0  Evidence of mice or live mice present in facil...      Critical   11.0   \n",
       "1  Personal cleanliness inadequate. Outer garment...      Critical   30.0   \n",
       "2        Hot food item not held at or above 140Âº F.      Critical   27.0   \n",
       "\n",
       "  GRADE GRADE DATE RECORD DATE                                INSPECTION TYPE  \n",
       "0   NaN        NaN  09/27/2016          Cycle Inspection / Initial Inspection  \n",
       "1   NaN        NaN  09/27/2016          Cycle Inspection / Initial Inspection  \n",
       "2   NaN        NaN  09/27/2016  Pre-permit (Operational) / Initial Inspection  "
      ]
     },
     "execution_count": 3,
     "metadata": {},
     "output_type": "execute_result"
    }
   ],
   "source": [
    "inspections.head(3)"
   ]
  },
  {
   "cell_type": "code",
   "execution_count": 29,
   "metadata": {
    "collapsed": false
   },
   "outputs": [],
   "source": [
    "inspections['INSPECTION DATE'] = pd.to_datetime(inspections['INSPECTION DATE'])"
   ]
  },
  {
   "cell_type": "code",
   "execution_count": 47,
   "metadata": {
    "collapsed": false,
    "scrolled": false
   },
   "outputs": [],
   "source": [
    "# random_camis = inspections.sample().iloc[0]['CAMIS']\n",
    "# inspections[inspections['CAMIS'] == random_camis].sort_values(by='INSPECTION DATE')['INSPECTION DATE']"
   ]
  },
  {
   "cell_type": "markdown",
   "metadata": {},
   "source": [
    "Get initial inspection date."
   ]
  },
  {
   "cell_type": "code",
   "execution_count": 4,
   "metadata": {
    "collapsed": false,
    "scrolled": true
   },
   "outputs": [],
   "source": [
    "inspections_f = inspections.groupby('CAMIS')\\\n",
    "                            .apply(lambda df: inspections[inspections['CAMIS'] == df['CAMIS'].iloc[0]]\\\n",
    "                                               .sort_values(by=\"INSPECTION DATE\")\\\n",
    "                                               .iloc[0]\\\n",
    "                                               .drop('CAMIS')\n",
    "                                  )\\\n",
    "                            .rename(columns={'INSPECTION DATE': 'INITIAL INSPECTION DATE'})"
   ]
  },
  {
   "cell_type": "code",
   "execution_count": 5,
   "metadata": {
    "collapsed": false
   },
   "outputs": [
    {
     "data": {
      "text/html": [
       "<div>\n",
       "<table border=\"1\" class=\"dataframe\">\n",
       "  <thead>\n",
       "    <tr style=\"text-align: right;\">\n",
       "      <th></th>\n",
       "      <th>DBA</th>\n",
       "      <th>BORO</th>\n",
       "      <th>BUILDING</th>\n",
       "      <th>STREET</th>\n",
       "      <th>ZIPCODE</th>\n",
       "      <th>PHONE</th>\n",
       "      <th>CUISINE DESCRIPTION</th>\n",
       "      <th>INITIAL INSPECTION DATE</th>\n",
       "      <th>ACTION</th>\n",
       "      <th>VIOLATION CODE</th>\n",
       "      <th>VIOLATION DESCRIPTION</th>\n",
       "      <th>CRITICAL FLAG</th>\n",
       "      <th>SCORE</th>\n",
       "      <th>GRADE</th>\n",
       "      <th>GRADE DATE</th>\n",
       "      <th>RECORD DATE</th>\n",
       "      <th>INSPECTION TYPE</th>\n",
       "    </tr>\n",
       "    <tr>\n",
       "      <th>CAMIS</th>\n",
       "      <th></th>\n",
       "      <th></th>\n",
       "      <th></th>\n",
       "      <th></th>\n",
       "      <th></th>\n",
       "      <th></th>\n",
       "      <th></th>\n",
       "      <th></th>\n",
       "      <th></th>\n",
       "      <th></th>\n",
       "      <th></th>\n",
       "      <th></th>\n",
       "      <th></th>\n",
       "      <th></th>\n",
       "      <th></th>\n",
       "      <th></th>\n",
       "      <th></th>\n",
       "    </tr>\n",
       "  </thead>\n",
       "  <tbody>\n",
       "    <tr>\n",
       "      <th>50001937</th>\n",
       "      <td>TASTY CHICKEN</td>\n",
       "      <td>BROOKLYN</td>\n",
       "      <td>1687</td>\n",
       "      <td>86TH STREET</td>\n",
       "      <td>11214</td>\n",
       "      <td>7182591111</td>\n",
       "      <td>American</td>\n",
       "      <td>08/21/2013</td>\n",
       "      <td>Violations were cited in the following area(s).</td>\n",
       "      <td>15L</td>\n",
       "      <td>Smoke free workplace smoking policy inadequate...</td>\n",
       "      <td>Not Critical</td>\n",
       "      <td>NaN</td>\n",
       "      <td>NaN</td>\n",
       "      <td>NaN</td>\n",
       "      <td>09/27/2016</td>\n",
       "      <td>Smoke-Free Air Act / Initial Inspection</td>\n",
       "    </tr>\n",
       "  </tbody>\n",
       "</table>\n",
       "</div>"
      ],
      "text/plain": [
       "                    DBA      BORO BUILDING       STREET  ZIPCODE       PHONE  \\\n",
       "CAMIS                                                                          \n",
       "50001937  TASTY CHICKEN  BROOKLYN     1687  86TH STREET    11214  7182591111   \n",
       "\n",
       "         CUISINE DESCRIPTION INITIAL INSPECTION DATE  \\\n",
       "CAMIS                                                  \n",
       "50001937            American              08/21/2013   \n",
       "\n",
       "                                                   ACTION VIOLATION CODE  \\\n",
       "CAMIS                                                                      \n",
       "50001937  Violations were cited in the following area(s).            15L   \n",
       "\n",
       "                                      VIOLATION DESCRIPTION CRITICAL FLAG  \\\n",
       "CAMIS                                                                       \n",
       "50001937  Smoke free workplace smoking policy inadequate...  Not Critical   \n",
       "\n",
       "          SCORE GRADE GRADE DATE RECORD DATE  \\\n",
       "CAMIS                                          \n",
       "50001937    NaN   NaN        NaN  09/27/2016   \n",
       "\n",
       "                                  INSPECTION TYPE  \n",
       "CAMIS                                              \n",
       "50001937  Smoke-Free Air Act / Initial Inspection  "
      ]
     },
     "execution_count": 5,
     "metadata": {},
     "output_type": "execute_result"
    }
   ],
   "source": [
    "inspections_f.sample(1)"
   ]
  },
  {
   "cell_type": "markdown",
   "metadata": {},
   "source": [
    "Not sure why, but this operation drops the `DBA` field. None others are affected. Maybe something with the indexing?"
   ]
  },
  {
   "cell_type": "markdown",
   "metadata": {},
   "source": [
    "Let's take the most recent inspection date."
   ]
  },
  {
   "cell_type": "code",
   "execution_count": 6,
   "metadata": {
    "collapsed": false
   },
   "outputs": [],
   "source": [
    "inspections_ff = inspections_f.copy()\n",
    "inspections_ff['LATEST INSPECTION DATE'] = inspections_ff\\\n",
    "        .apply(lambda srs: inspections[inspections['CAMIS'] == srs.name]\\\n",
    "                                  .sort_values(by='INSPECTION DATE')\\\n",
    "                                  .iloc[-1]\\\n",
    "                                  ['INSPECTION DATE'],\n",
    "              axis='columns')"
   ]
  },
  {
   "cell_type": "markdown",
   "metadata": {},
   "source": [
    "Rename the `INSPECTION TYPE` to `INITIAL INSPECTION TYPE` (this flags new establishments from pre-existing ones, in the cotext of our dataset)."
   ]
  },
  {
   "cell_type": "code",
   "execution_count": 7,
   "metadata": {
    "collapsed": false,
    "scrolled": false
   },
   "outputs": [],
   "source": [
    "inspections_ff = inspections_ff.rename(columns={'INSPECTION TYPE': 'INITIAL INSPECTION TYPE'})"
   ]
  },
  {
   "cell_type": "markdown",
   "metadata": {},
   "source": [
    "Checking the flags:"
   ]
  },
  {
   "cell_type": "code",
   "execution_count": 91,
   "metadata": {
    "collapsed": false
   },
   "outputs": [
    {
     "data": {
      "text/plain": [
       "Cycle Inspection / Initial Inspection                          12537\n",
       "Pre-permit (Operational) / Initial Inspection                   7630\n",
       "Pre-permit (Non-operational) / Initial Inspection               2256\n",
       "Cycle Inspection / Re-inspection                                 877\n",
       "Administrative Miscellaneous / Initial Inspection                683\n",
       "Smoke-Free Air Act / Initial Inspection                          281\n",
       "Trans Fat / Initial Inspection                                   247\n",
       "Pre-permit (Operational) / Re-inspection                          82\n",
       "Trans Fat / Compliance Inspection                                 80\n",
       "Trans Fat / Re-inspection                                         75\n",
       "Inter-Agency Task Force / Initial Inspection                      53\n",
       "Calorie Posting / Initial Inspection                              30\n",
       "Trans Fat / Second Compliance Inspection                          27\n",
       "Administrative Miscellaneous / Re-inspection                      27\n",
       "Smoke-Free Air Act / Re-inspection                                23\n",
       "Administrative Miscellaneous / Compliance Inspection              14\n",
       "Cycle Inspection / Compliance Inspection                          12\n",
       "Pre-permit (Operational) / Compliance Inspection                  12\n",
       "Cycle Inspection / Reopening Inspection                            8\n",
       "Smoke-Free Air Act / Compliance Inspection                         6\n",
       "Calorie Posting / Re-inspection                                    5\n",
       "Pre-permit (Operational) / Reopening Inspection                    4\n",
       "Pre-permit (Non-operational) / Re-inspection                       3\n",
       "Cycle Inspection / Second Compliance Inspection                    2\n",
       "Administrative Miscellaneous / Second Compliance Inspection        2\n",
       "Pre-permit (Operational) / Second Compliance Inspection            1\n",
       "Smoke-Free Air Act / Limited Inspection                            1\n",
       "Calorie Posting / Compliance Inspection                            1\n",
       "Smoke-Free Air Act / Second Compliance Inspection                  1\n",
       "Name: INITIAL INSPECTION TYPE, dtype: int64"
      ]
     },
     "execution_count": 91,
     "metadata": {},
     "output_type": "execute_result"
    }
   ],
   "source": [
    "inspections_ff['INITIAL INSPECTION TYPE'].value_counts()"
   ]
  },
  {
   "cell_type": "markdown",
   "metadata": {},
   "source": [
    "A lot of them are null."
   ]
  },
  {
   "cell_type": "code",
   "execution_count": 93,
   "metadata": {
    "collapsed": false
   },
   "outputs": [
    {
     "data": {
      "text/plain": [
       "1094"
      ]
     },
     "execution_count": 93,
     "metadata": {},
     "output_type": "execute_result"
    }
   ],
   "source": [
    "inspections_ff['INITIAL INSPECTION TYPE'].isnull().astype(int).sum()"
   ]
  },
  {
   "cell_type": "markdown",
   "metadata": {},
   "source": [
    "Remember, this is new establishments that have not been inspected yet. That the numbers match up here is encouraging."
   ]
  },
  {
   "cell_type": "code",
   "execution_count": 94,
   "metadata": {
    "collapsed": false
   },
   "outputs": [
    {
     "data": {
      "text/plain": [
       "1094"
      ]
     },
     "execution_count": 94,
     "metadata": {},
     "output_type": "execute_result"
    }
   ],
   "source": [
    "inspections['INSPECTION TYPE'].isnull().astype(int).sum()"
   ]
  },
  {
   "cell_type": "markdown",
   "metadata": {},
   "source": [
    "We reattach the lost DBA column."
   ]
  },
  {
   "cell_type": "code",
   "execution_count": 95,
   "metadata": {
    "collapsed": false
   },
   "outputs": [
    {
     "data": {
      "text/html": [
       "<div>\n",
       "<table border=\"1\" class=\"dataframe\">\n",
       "  <thead>\n",
       "    <tr style=\"text-align: right;\">\n",
       "      <th></th>\n",
       "      <th>DBA</th>\n",
       "      <th>BORO</th>\n",
       "      <th>BUILDING</th>\n",
       "      <th>STREET</th>\n",
       "      <th>ZIPCODE</th>\n",
       "      <th>PHONE</th>\n",
       "      <th>CUISINE DESCRIPTION</th>\n",
       "      <th>INITIAL INSPECTION DATE</th>\n",
       "      <th>ACTION</th>\n",
       "      <th>VIOLATION CODE</th>\n",
       "      <th>VIOLATION DESCRIPTION</th>\n",
       "      <th>CRITICAL FLAG</th>\n",
       "      <th>SCORE</th>\n",
       "      <th>GRADE</th>\n",
       "      <th>GRADE DATE</th>\n",
       "      <th>RECORD DATE</th>\n",
       "      <th>INITIAL INSPECTION TYPE</th>\n",
       "      <th>LATEST INSPECTION DATE</th>\n",
       "    </tr>\n",
       "    <tr>\n",
       "      <th>CAMIS</th>\n",
       "      <th></th>\n",
       "      <th></th>\n",
       "      <th></th>\n",
       "      <th></th>\n",
       "      <th></th>\n",
       "      <th></th>\n",
       "      <th></th>\n",
       "      <th></th>\n",
       "      <th></th>\n",
       "      <th></th>\n",
       "      <th></th>\n",
       "      <th></th>\n",
       "      <th></th>\n",
       "      <th></th>\n",
       "      <th></th>\n",
       "      <th></th>\n",
       "      <th></th>\n",
       "      <th></th>\n",
       "    </tr>\n",
       "  </thead>\n",
       "  <tbody>\n",
       "    <tr>\n",
       "      <th>30075445</th>\n",
       "      <td>NaN</td>\n",
       "      <td>BRONX</td>\n",
       "      <td>1007.0</td>\n",
       "      <td>MORRIS PARK AVE</td>\n",
       "      <td>10462</td>\n",
       "      <td>7.188925e+09</td>\n",
       "      <td>Bakery</td>\n",
       "      <td>2013-06-01</td>\n",
       "      <td>Violations were cited in the following area(s).</td>\n",
       "      <td>16B</td>\n",
       "      <td>The original nutritional fact labels and/or in...</td>\n",
       "      <td>Not Critical</td>\n",
       "      <td>NaN</td>\n",
       "      <td>NaN</td>\n",
       "      <td>NaN</td>\n",
       "      <td>09/24/2016</td>\n",
       "      <td>Trans Fat / Compliance Inspection</td>\n",
       "      <td>2016-02-18</td>\n",
       "    </tr>\n",
       "  </tbody>\n",
       "</table>\n",
       "</div>"
      ],
      "text/plain": [
       "          DBA   BORO  BUILDING           STREET  ZIPCODE         PHONE  \\\n",
       "CAMIS                                                                    \n",
       "30075445  NaN  BRONX    1007.0  MORRIS PARK AVE    10462  7.188925e+09   \n",
       "\n",
       "         CUISINE DESCRIPTION INITIAL INSPECTION DATE  \\\n",
       "CAMIS                                                  \n",
       "30075445              Bakery              2013-06-01   \n",
       "\n",
       "                                                   ACTION VIOLATION CODE  \\\n",
       "CAMIS                                                                      \n",
       "30075445  Violations were cited in the following area(s).            16B   \n",
       "\n",
       "                                      VIOLATION DESCRIPTION CRITICAL FLAG  \\\n",
       "CAMIS                                                                       \n",
       "30075445  The original nutritional fact labels and/or in...  Not Critical   \n",
       "\n",
       "          SCORE GRADE GRADE DATE RECORD DATE  \\\n",
       "CAMIS                                          \n",
       "30075445    NaN   NaN        NaN  09/24/2016   \n",
       "\n",
       "                    INITIAL INSPECTION TYPE LATEST INSPECTION DATE  \n",
       "CAMIS                                                               \n",
       "30075445  Trans Fat / Compliance Inspection             2016-02-18  "
      ]
     },
     "execution_count": 95,
     "metadata": {},
     "output_type": "execute_result"
    }
   ],
   "source": [
    "inspections_ff.head(1)"
   ]
  },
  {
   "cell_type": "code",
   "execution_count": 8,
   "metadata": {
    "collapsed": false
   },
   "outputs": [],
   "source": [
    "inspections_fff = inspections_ff.copy()\n",
    "inspections_fff['DBA'] = inspections_fff.apply(lambda srs: \n",
    "                                                   inspections[inspections['CAMIS'] == srs.name]\\\n",
    "                                                   .iloc[0]['DBA'],\n",
    "                                               axis='columns')"
   ]
  },
  {
   "cell_type": "markdown",
   "metadata": {},
   "source": [
    "Prepend descriptors, to more easily distinguish things down the road."
   ]
  },
  {
   "cell_type": "code",
   "execution_count": 9,
   "metadata": {
    "collapsed": true
   },
   "outputs": [],
   "source": [
    "inspections_fff.columns = [\"DOHMH \" + col for col in inspections_fff.columns]"
   ]
  },
  {
   "cell_type": "code",
   "execution_count": 105,
   "metadata": {
    "collapsed": false
   },
   "outputs": [
    {
     "data": {
      "text/html": [
       "<div>\n",
       "<table border=\"1\" class=\"dataframe\">\n",
       "  <thead>\n",
       "    <tr style=\"text-align: right;\">\n",
       "      <th></th>\n",
       "      <th>DOHMH DBA</th>\n",
       "      <th>DOHMH BORO</th>\n",
       "      <th>DOHMH BUILDING</th>\n",
       "      <th>DOHMH STREET</th>\n",
       "      <th>DOHMH ZIPCODE</th>\n",
       "      <th>DOHMH PHONE</th>\n",
       "      <th>DOHMH CUISINE DESCRIPTION</th>\n",
       "      <th>DOHMH INITIAL INSPECTION DATE</th>\n",
       "      <th>DOHMH ACTION</th>\n",
       "      <th>DOHMH VIOLATION CODE</th>\n",
       "      <th>DOHMH VIOLATION DESCRIPTION</th>\n",
       "      <th>DOHMH CRITICAL FLAG</th>\n",
       "      <th>DOHMH SCORE</th>\n",
       "      <th>DOHMH GRADE</th>\n",
       "      <th>DOHMH GRADE DATE</th>\n",
       "      <th>DOHMH RECORD DATE</th>\n",
       "      <th>DOHMH INITIAL INSPECTION TYPE</th>\n",
       "      <th>DOHMH LATEST INSPECTION DATE</th>\n",
       "    </tr>\n",
       "    <tr>\n",
       "      <th>CAMIS</th>\n",
       "      <th></th>\n",
       "      <th></th>\n",
       "      <th></th>\n",
       "      <th></th>\n",
       "      <th></th>\n",
       "      <th></th>\n",
       "      <th></th>\n",
       "      <th></th>\n",
       "      <th></th>\n",
       "      <th></th>\n",
       "      <th></th>\n",
       "      <th></th>\n",
       "      <th></th>\n",
       "      <th></th>\n",
       "      <th></th>\n",
       "      <th></th>\n",
       "      <th></th>\n",
       "      <th></th>\n",
       "    </tr>\n",
       "  </thead>\n",
       "  <tbody>\n",
       "    <tr>\n",
       "      <th>40374834</th>\n",
       "      <td>CASA BELLA</td>\n",
       "      <td>MANHATTAN</td>\n",
       "      <td>127.0</td>\n",
       "      <td>MULBERRY STREET</td>\n",
       "      <td>10013</td>\n",
       "      <td>2.124314e+09</td>\n",
       "      <td>Italian</td>\n",
       "      <td>2013-08-15</td>\n",
       "      <td>Violations were cited in the following area(s).</td>\n",
       "      <td>06D</td>\n",
       "      <td>Food contact surface not properly washed, rins...</td>\n",
       "      <td>Critical</td>\n",
       "      <td>6.0</td>\n",
       "      <td>NaN</td>\n",
       "      <td>NaN</td>\n",
       "      <td>09/24/2016</td>\n",
       "      <td>Cycle Inspection / Initial Inspection</td>\n",
       "      <td>2016-04-26</td>\n",
       "    </tr>\n",
       "  </tbody>\n",
       "</table>\n",
       "</div>"
      ],
      "text/plain": [
       "           DOHMH DBA DOHMH BORO  DOHMH BUILDING     DOHMH STREET  \\\n",
       "CAMIS                                                              \n",
       "40374834  CASA BELLA  MANHATTAN           127.0  MULBERRY STREET   \n",
       "\n",
       "          DOHMH ZIPCODE   DOHMH PHONE DOHMH CUISINE DESCRIPTION  \\\n",
       "CAMIS                                                             \n",
       "40374834          10013  2.124314e+09                   Italian   \n",
       "\n",
       "         DOHMH INITIAL INSPECTION DATE  \\\n",
       "CAMIS                                    \n",
       "40374834                    2013-08-15   \n",
       "\n",
       "                                             DOHMH ACTION  \\\n",
       "CAMIS                                                       \n",
       "40374834  Violations were cited in the following area(s).   \n",
       "\n",
       "         DOHMH VIOLATION CODE  \\\n",
       "CAMIS                           \n",
       "40374834                  06D   \n",
       "\n",
       "                                DOHMH VIOLATION DESCRIPTION  \\\n",
       "CAMIS                                                         \n",
       "40374834  Food contact surface not properly washed, rins...   \n",
       "\n",
       "         DOHMH CRITICAL FLAG  DOHMH SCORE DOHMH GRADE DOHMH GRADE DATE  \\\n",
       "CAMIS                                                                    \n",
       "40374834            Critical          6.0         NaN              NaN   \n",
       "\n",
       "         DOHMH RECORD DATE          DOHMH INITIAL INSPECTION TYPE  \\\n",
       "CAMIS                                                               \n",
       "40374834        09/24/2016  Cycle Inspection / Initial Inspection   \n",
       "\n",
       "         DOHMH LATEST INSPECTION DATE  \n",
       "CAMIS                                  \n",
       "40374834                   2016-04-26  "
      ]
     },
     "execution_count": 105,
     "metadata": {},
     "output_type": "execute_result"
    }
   ],
   "source": [
    "inspections_fff.sample()"
   ]
  },
  {
   "cell_type": "markdown",
   "metadata": {},
   "source": [
    "Now we get information from Yelp!"
   ]
  },
  {
   "cell_type": "code",
   "execution_count": 22,
   "metadata": {
    "collapsed": false
   },
   "outputs": [],
   "source": [
    "from yelp.client import Client\n",
    "from yelp.oauth1_authenticator import Oauth1Authenticator\n",
    "from yelp.errors import BusinessUnavailable\n",
    "import os\n",
    "import json\n",
    "\n",
    "def import_credentials(filename='../data/yelp_credentials.json'):\n",
    "    try:\n",
    "        data = json.load(open(filename))\n",
    "        return data\n",
    "    except:\n",
    "        raise IOError('This API requires Yelp credentials to work. Did you forget to define them?')\n",
    "\n",
    "credentials = import_credentials()\n",
    "\n",
    "auth = Oauth1Authenticator(\n",
    "    consumer_key=credentials['consumer_key'],\n",
    "    consumer_secret=credentials['consumer_secret'],\n",
    "    token=credentials['token'],\n",
    "    token_secret=credentials['token_secret']\n",
    ")\n",
    "\n",
    "client = Client(auth)"
   ]
  },
  {
   "cell_type": "code",
   "execution_count": 24,
   "metadata": {
    "collapsed": false
   },
   "outputs": [
    {
     "data": {
      "text/plain": [
       "{'consumer_key': 'dkJPGu_jtTyHwsEgZIZN6g',\n",
       " 'consumer_secret': 'lGsYFWNwi0QUNwN8XsNL4HmfvyE',\n",
       " 'token': 'jMBCvOGvZ5IUDlsexgdRI_ELVzmo0q0i',\n",
       " 'token_secret': '1g7Ui6r_iSED0qrX35cDzND3zCQ'}"
      ]
     },
     "execution_count": 24,
     "metadata": {},
     "output_type": "execute_result"
    }
   ],
   "source": [
    "credentials"
   ]
  },
  {
   "cell_type": "code",
   "execution_count": null,
   "metadata": {
    "collapsed": true
   },
   "outputs": [],
   "source": [
    "from tqdm import tqdm"
   ]
  },
  {
   "cell_type": "code",
   "execution_count": 41,
   "metadata": {
    "collapsed": true
   },
   "outputs": [],
   "source": [
    "def yelp_phone_fetch(num):\n",
    "    \"\"\"\n",
    "    Performs the phone search described in notebook 02 to fetch information on the entity associated with a number.\n",
    "    \"\"\"\n",
    "    if not num:\n",
    "        return None\n",
    "    else:\n",
    "        try:\n",
    "            business = client.phone_search(num).businesses[0]\n",
    "            if business and business.location and business.location.coordinate:\n",
    "                return {\n",
    "                    'Yelp ID': business.id,\n",
    "                    'Yelp Is Claimed': business.is_claimed,\n",
    "                    'Yelp Is Closed': business.is_closed,\n",
    "                    'Yelp Name': business.name,\n",
    "                    'Yelp URL': business.url,\n",
    "                    'Yelp Review Count': business.review_count,\n",
    "                    'Yelp Categories': business.categories,\n",
    "                    'Yelp Rating': business.rating,\n",
    "                    'Yelp Address': business.location.address,\n",
    "                    'Yelp Neighborhoods': business.location.neighborhoods,\n",
    "                    'Yelp Latitude': business.location.coordinate.latitude,\n",
    "                    'Yelp Longitude': business.location.coordinate.longitude,\n",
    "                       }\n",
    "            else:  # Partial information, skip.\n",
    "                return None\n",
    "        except IndexError:  # Phone search failed!\n",
    "            return None"
   ]
  },
  {
   "cell_type": "markdown",
   "metadata": {},
   "source": [
    "After some testing there appears to be a *very* significant miss rate. Remember, we're fuzzy matching phone numbers from one data set with phone numbers in another dataset. It's far from 100% that we'll get something back out. I'm interested in what percentage of the time we're successful."
   ]
  },
  {
   "cell_type": "code",
   "execution_count": 17,
   "metadata": {
    "collapsed": true
   },
   "outputs": [],
   "source": [
    "def random_number_dba_tuple():\n",
    "    random_number, random_dba = inspections_fff.sample().iloc[0][['DOHMH PHONE', 'DOHMH DBA']]\n",
    "    random_number = str(int(random_number))\n",
    "    return random_number, random_dba"
   ]
  },
  {
   "cell_type": "code",
   "execution_count": 15,
   "metadata": {
    "collapsed": false
   },
   "outputs": [
    {
     "data": {
      "text/plain": [
       "(2125878880, 'MULTI TASTES DINER')"
      ]
     },
     "execution_count": 15,
     "metadata": {},
     "output_type": "execute_result"
    }
   ],
   "source": [
    "random_number_dba_tuple()"
   ]
  },
  {
   "cell_type": "code",
   "execution_count": 127,
   "metadata": {
    "collapsed": false
   },
   "outputs": [
    {
     "data": {
      "text/plain": [
       "{'Yelp Address': ['41 E 11th St'],\n",
       " 'Yelp Categories': [Category(name='Japanese', alias='japanese')],\n",
       " 'Yelp ID': 'ootoya-greenwich-village-new-york',\n",
       " 'Yelp Is Claimed': True,\n",
       " 'Yelp Is Closed': False,\n",
       " 'Yelp Latitude': 40.7333107,\n",
       " 'Yelp Longitude': -73.9929962,\n",
       " 'Yelp Name': 'Ootoya Greenwich Village',\n",
       " 'Yelp Neighborhoods': ['Greenwich Village'],\n",
       " 'Yelp Rating': 4.0,\n",
       " 'Yelp Review Count': 135,\n",
       " 'Yelp URL': 'https://www.yelp.com/biz/ootoya-greenwich-village-new-york?adjust_creative=dkJPGu_jtTyHwsEgZIZN6g&utm_campaign=yelp_api&utm_medium=api_v2_phone_search&utm_source=dkJPGu_jtTyHwsEgZIZN6g'}"
      ]
     },
     "execution_count": 127,
     "metadata": {},
     "output_type": "execute_result"
    }
   ],
   "source": [
    "yelp_phone_fetch(random_number_dba_tuple()[0])"
   ]
  },
  {
   "cell_type": "markdown",
   "metadata": {},
   "source": [
    "Hey I've been there! Nice. More rigorously:"
   ]
  },
  {
   "cell_type": "code",
   "execution_count": 133,
   "metadata": {
    "collapsed": true
   },
   "outputs": [],
   "source": [
    "one_hundred_randoms = [random_number_dba_tuple() for i in range(100)]"
   ]
  },
  {
   "cell_type": "code",
   "execution_count": 138,
   "metadata": {
    "collapsed": false
   },
   "outputs": [
    {
     "name": "stderr",
     "output_type": "stream",
     "text": [
      "\n",
      "  0%|                                                  | 0/100 [00:00<?, ?it/s]\n",
      "  1%|▍                                         | 1/100 [00:00<00:25,  3.85it/s]\n",
      "  2%|▊                                         | 2/100 [00:00<00:28,  3.45it/s]\n",
      "  3%|█▎                                        | 3/100 [00:00<00:25,  3.74it/s]\n",
      "  4%|█▋                                        | 4/100 [00:02<00:52,  1.84it/s]\n",
      "  5%|██                                        | 5/100 [00:02<00:42,  2.25it/s]\n",
      "  6%|██▌                                       | 6/100 [00:02<00:35,  2.62it/s]\n",
      "  7%|██▉                                       | 7/100 [00:02<00:31,  2.99it/s]\n",
      "  8%|███▎                                      | 8/100 [00:02<00:29,  3.10it/s]\n",
      "  9%|███▊                                      | 9/100 [00:03<00:32,  2.78it/s]\n",
      " 10%|████                                     | 10/100 [00:03<00:30,  2.94it/s]\n",
      " 11%|████▌                                    | 11/100 [00:03<00:26,  3.33it/s]\n",
      " 12%|████▉                                    | 12/100 [00:04<00:24,  3.54it/s]\n",
      " 13%|█████▎                                   | 13/100 [00:04<00:23,  3.64it/s]\n",
      " 14%|█████▋                                   | 14/100 [00:04<00:29,  2.95it/s]\n",
      " 15%|██████▏                                  | 15/100 [00:05<00:33,  2.58it/s]\n",
      " 16%|██████▌                                  | 16/100 [00:05<00:29,  2.88it/s]\n",
      " 17%|██████▉                                  | 17/100 [00:05<00:25,  3.22it/s]\n",
      " 18%|███████▍                                 | 18/100 [00:06<00:23,  3.47it/s]\n",
      " 19%|███████▊                                 | 19/100 [00:06<00:20,  3.86it/s]\n",
      " 20%|████████▏                                | 20/100 [00:06<00:20,  3.96it/s]\n",
      " 21%|████████▌                                | 21/100 [00:06<00:18,  4.35it/s]\n",
      " 22%|█████████                                | 22/100 [00:07<00:18,  4.14it/s]\n",
      " 23%|█████████▍                               | 23/100 [00:07<00:23,  3.23it/s]\n",
      " 24%|█████████▊                               | 24/100 [00:07<00:27,  2.72it/s]\n",
      " 25%|██████████▎                              | 25/100 [00:08<00:24,  3.10it/s]\n",
      " 26%|██████████▋                              | 26/100 [00:08<00:20,  3.55it/s]\n",
      " 27%|███████████                              | 27/100 [00:08<00:19,  3.65it/s]\n",
      " 28%|███████████▍                             | 28/100 [00:09<00:24,  2.89it/s]\n",
      " 29%|███████████▉                             | 29/100 [00:09<00:21,  3.36it/s]\n",
      " 30%|████████████▎                            | 30/100 [00:09<00:24,  2.89it/s]\n",
      " 31%|████████████▋                            | 31/100 [00:10<00:20,  3.31it/s]\n",
      " 32%|█████████████                            | 32/100 [00:10<00:18,  3.63it/s]\n",
      " 33%|█████████████▌                           | 33/100 [00:10<00:17,  3.74it/s]\n",
      " 34%|█████████████▉                           | 34/100 [00:10<00:16,  3.98it/s]\n",
      " 35%|██████████████▎                          | 35/100 [00:10<00:14,  4.38it/s]\n",
      " 36%|██████████████▊                          | 36/100 [00:11<00:14,  4.30it/s]\n",
      " 37%|███████████████▏                         | 37/100 [00:11<00:13,  4.82it/s]\n",
      " 38%|███████████████▌                         | 38/100 [00:11<00:13,  4.54it/s]\n",
      " 39%|███████████████▉                         | 39/100 [00:11<00:12,  4.75it/s]\n",
      " 40%|████████████████▍                        | 40/100 [00:11<00:12,  4.87it/s]\n",
      " 41%|████████████████▊                        | 41/100 [00:12<00:12,  4.81it/s]\n",
      " 42%|█████████████████▏                       | 42/100 [00:12<00:11,  5.05it/s]\n",
      " 43%|█████████████████▋                       | 43/100 [00:12<00:10,  5.27it/s]\n",
      " 44%|██████████████████                       | 44/100 [00:12<00:11,  4.93it/s]\n",
      " 45%|██████████████████▍                      | 45/100 [00:12<00:11,  4.97it/s]\n",
      " 46%|██████████████████▊                      | 46/100 [00:13<00:10,  4.99it/s]\n",
      " 47%|███████████████████▎                     | 47/100 [00:13<00:11,  4.72it/s]\n",
      " 48%|███████████████████▋                     | 48/100 [00:13<00:14,  3.51it/s]\n",
      " 49%|████████████████████                     | 49/100 [00:14<00:17,  2.83it/s]\n",
      " 50%|████████████████████▌                    | 50/100 [00:14<00:15,  3.23it/s]\n",
      " 51%|████████████████████▉                    | 51/100 [00:14<00:17,  2.85it/s]\n",
      " 52%|█████████████████████▎                   | 52/100 [00:15<00:15,  3.19it/s]\n",
      " 53%|█████████████████████▋                   | 53/100 [00:15<00:16,  2.81it/s]\n",
      " 54%|██████████████████████▏                  | 54/100 [00:16<00:17,  2.56it/s]\n",
      " 55%|██████████████████████▌                  | 55/100 [00:16<00:15,  2.86it/s]\n",
      " 56%|██████████████████████▉                  | 56/100 [00:16<00:13,  3.21it/s]\n",
      " 57%|███████████████████████▎                 | 57/100 [00:16<00:11,  3.63it/s]\n",
      " 58%|███████████████████████▊                 | 58/100 [00:17<00:12,  3.31it/s]\n",
      " 59%|████████████████████████▏                | 59/100 [00:17<00:11,  3.59it/s]\n",
      " 60%|████████████████████████▌                | 60/100 [00:17<00:10,  3.90it/s]\n",
      " 61%|█████████████████████████                | 61/100 [00:17<00:09,  4.20it/s]\n",
      " 62%|█████████████████████████▍               | 62/100 [00:17<00:08,  4.36it/s]\n",
      " 63%|█████████████████████████▊               | 63/100 [00:18<00:08,  4.42it/s]\n",
      " 64%|██████████████████████████▏              | 64/100 [00:18<00:07,  4.93it/s]\n",
      " 65%|██████████████████████████▋              | 65/100 [00:18<00:07,  4.83it/s]\n",
      " 66%|███████████████████████████              | 66/100 [00:18<00:07,  4.52it/s]\n",
      " 67%|███████████████████████████▍             | 67/100 [00:18<00:06,  4.74it/s]\n",
      " 68%|███████████████████████████▉             | 68/100 [00:19<00:06,  4.88it/s]\n",
      " 69%|████████████████████████████▎            | 69/100 [00:19<00:07,  4.41it/s]\n",
      " 70%|████████████████████████████▋            | 70/100 [00:20<00:09,  3.05it/s]\n",
      " 71%|█████████████████████████████            | 71/100 [00:20<00:08,  3.55it/s]\n",
      " 72%|█████████████████████████████▌           | 72/100 [00:20<00:07,  3.94it/s]\n",
      " 73%|█████████████████████████████▉           | 73/100 [00:20<00:06,  4.22it/s]\n",
      " 74%|██████████████████████████████▎          | 74/100 [00:20<00:05,  4.35it/s]\n",
      " 75%|██████████████████████████████▊          | 75/100 [00:21<00:07,  3.35it/s]\n",
      " 76%|███████████████████████████████▏         | 76/100 [00:21<00:06,  3.96it/s]\n",
      " 77%|███████████████████████████████▌         | 77/100 [00:21<00:05,  3.98it/s]\n",
      " 78%|███████████████████████████████▉         | 78/100 [00:21<00:05,  4.01it/s]\n",
      " 79%|████████████████████████████████▍        | 79/100 [00:22<00:04,  4.24it/s]\n",
      " 80%|████████████████████████████████▊        | 80/100 [00:22<00:04,  4.84it/s]\n",
      " 81%|█████████████████████████████████▏       | 81/100 [00:22<00:04,  4.73it/s]\n",
      " 82%|█████████████████████████████████▌       | 82/100 [00:22<00:03,  5.09it/s]\n",
      " 83%|██████████████████████████████████       | 83/100 [00:22<00:03,  4.94it/s]\n",
      " 84%|██████████████████████████████████▍      | 84/100 [00:22<00:03,  5.22it/s]\n",
      " 85%|██████████████████████████████████▊      | 85/100 [00:23<00:03,  4.78it/s]\n",
      " 86%|███████████████████████████████████▎     | 86/100 [00:24<00:07,  1.96it/s]\n",
      " 87%|███████████████████████████████████▋     | 87/100 [00:24<00:05,  2.35it/s]\n",
      " 88%|████████████████████████████████████     | 88/100 [00:24<00:04,  2.80it/s]\n",
      " 89%|████████████████████████████████████▍    | 89/100 [00:25<00:03,  3.16it/s]\n",
      " 90%|████████████████████████████████████▉    | 90/100 [00:25<00:02,  3.43it/s]\n",
      " 91%|█████████████████████████████████████▎   | 91/100 [00:25<00:02,  3.80it/s]\n",
      " 92%|█████████████████████████████████████▋   | 92/100 [00:25<00:01,  4.44it/s]\n",
      " 93%|██████████████████████████████████████▏  | 93/100 [00:25<00:01,  4.77it/s]\n",
      " 94%|██████████████████████████████████████▌  | 94/100 [00:26<00:01,  3.44it/s]\n",
      " 95%|██████████████████████████████████████▉  | 95/100 [00:26<00:01,  3.80it/s]\n",
      " 96%|███████████████████████████████████████▎ | 96/100 [00:26<00:00,  4.14it/s]\n",
      " 97%|███████████████████████████████████████▊ | 97/100 [00:26<00:00,  4.16it/s]\n",
      " 98%|████████████████████████████████████████▏| 98/100 [00:27<00:00,  4.70it/s]\n",
      " 99%|████████████████████████████████████████▌| 99/100 [00:27<00:00,  4.46it/s]\n",
      "100%|████████████████████████████████████████| 100/100 [00:27<00:00,  4.71it/s]\n"
     ]
    }
   ],
   "source": [
    "testset = [yelp_phone_fetch(num) for num, placename in tqdm(one_hundred_randoms)]"
   ]
  },
  {
   "cell_type": "code",
   "execution_count": 145,
   "metadata": {
    "collapsed": false
   },
   "outputs": [
    {
     "data": {
      "text/plain": [
       "19"
      ]
     },
     "execution_count": 145,
     "metadata": {},
     "output_type": "execute_result"
    }
   ],
   "source": [
    "np.array([entity == None for entity in testset]).astype(int).sum()"
   ]
  },
  {
   "cell_type": "markdown",
   "metadata": {},
   "source": [
    "19 misses in 100 randoms. So we're able to match 80% of the time. Not bad as far as fuzzy matches go.\n",
    "\n",
    "If our data is missing at random (MAR), then we are happy, because this makes for a statistically valid sample of all restaurants in New York City&mdash;we can simply drop the other values.\n",
    "\n",
    "But there's a high likelihood, in my professional opinion, that the data is missing not at a random (MNAR). I expect that it's more likely for a restaurant or eatery in a *poor* neighborhood to be missing the phone number information in Yelp! than one in a richer, whiter community. This is a severe under-reporting issue that will invalidate any conclusions we try to make using this data with regarding to \"gentrification\" and whatnot.\n",
    "\n",
    "We'll need to validate the data geospatially. We'll do that next."
   ]
  },
  {
   "cell_type": "markdown",
   "metadata": {},
   "source": [
    "Run the full Yelp! API data through, one slice at a time."
   ]
  },
  {
   "cell_type": "code",
   "execution_count": 150,
   "metadata": {
    "collapsed": false
   },
   "outputs": [
    {
     "data": {
      "text/plain": [
       "26074"
      ]
     },
     "execution_count": 150,
     "metadata": {},
     "output_type": "execute_result"
    }
   ],
   "source": [
    "len(inspections_fff)"
   ]
  },
  {
   "cell_type": "markdown",
   "metadata": {},
   "source": [
    "Oy vey. This will require two days of processing, since the API limit is 25000/day."
   ]
  },
  {
   "cell_type": "code",
   "execution_count": 29,
   "metadata": {
    "collapsed": true
   },
   "outputs": [],
   "source": [
    "from tqdm import tqdm_notebook"
   ]
  },
  {
   "cell_type": "code",
   "execution_count": 28,
   "metadata": {
    "collapsed": true
   },
   "outputs": [],
   "source": [
    "del inspections\n",
    "del inspections_f\n",
    "del inspections_ff"
   ]
  },
  {
   "cell_type": "code",
   "execution_count": 38,
   "metadata": {
    "collapsed": false
   },
   "outputs": [
    {
     "data": {
      "text/plain": [
       "CAMIS\n",
       "40788706    7187231080\n",
       "40788884    __________\n",
       "40788886    6462307208\n",
       "Name: DOHMH PHONE, dtype: object"
      ]
     },
     "execution_count": 38,
     "metadata": {},
     "output_type": "execute_result"
    }
   ],
   "source": [
    "inspections_fff['DOHMH PHONE'].iloc[2702:2705]"
   ]
  },
  {
   "cell_type": "markdown",
   "metadata": {},
   "source": [
    "Uh, ok."
   ]
  },
  {
   "cell_type": "code",
   "execution_count": 39,
   "metadata": {
    "collapsed": false
   },
   "outputs": [
    {
     "name": "stdout",
     "output_type": "stream",
     "text": [
      "\n"
     ]
    }
   ],
   "source": [
    "raw_yelp_5000 = [yelp_phone_fetch(int(num)) if pd.notnull(num) and str.isdigit(num) else None for num in tqdm_notebook(inspections_fff['DOHMH PHONE'][:5000])]"
   ]
  },
  {
   "cell_type": "code",
   "execution_count": 42,
   "metadata": {
    "collapsed": false
   },
   "outputs": [],
   "source": [
    "raw_yelp_5000_2 = [yelp_phone_fetch(int(num)) if pd.notnull(num) and str.isdigit(num) else None for num in tqdm_notebook(inspections_fff['DOHMH PHONE'][5000:10000])]"
   ]
  },
  {
   "cell_type": "code",
   "execution_count": 43,
   "metadata": {
    "collapsed": true
   },
   "outputs": [],
   "source": [
    "raw_yelp_5000_3 = [yelp_phone_fetch(int(num)) if pd.notnull(num) and str.isdigit(num) else None for num in tqdm_notebook(inspections_fff['DOHMH PHONE'][10000:15000])]"
   ]
  },
  {
   "cell_type": "code",
   "execution_count": 54,
   "metadata": {
    "collapsed": false
   },
   "outputs": [],
   "source": [
    "import pickle\n",
    "\n",
    "with open(\"../data/raw_yelp_list.pkl\", \"wb\") as f:\n",
    "    pickle.dump(raw_yelp_5000+ raw_yelp_5000_2 + raw_yelp_5000_3, f)"
   ]
  },
  {
   "cell_type": "code",
   "execution_count": 48,
   "metadata": {
    "collapsed": false
   },
   "outputs": [
    {
     "ename": "KeyboardInterrupt",
     "evalue": "",
     "output_type": "error",
     "traceback": [
      "\u001b[0;31m---------------------------------------------------------------------------\u001b[0m",
      "\u001b[0;31mKeyboardInterrupt\u001b[0m                         Traceback (most recent call last)",
      "\u001b[0;32m<ipython-input-48-a3e863eaa819>\u001b[0m in \u001b[0;36m<module>\u001b[0;34m()\u001b[0m\n\u001b[0;32m----> 1\u001b[0;31m \u001b[0mraw_yelp_5000_4\u001b[0m \u001b[0;34m=\u001b[0m \u001b[0;34m[\u001b[0m\u001b[0myelp_phone_fetch\u001b[0m\u001b[0;34m(\u001b[0m\u001b[0mint\u001b[0m\u001b[0;34m(\u001b[0m\u001b[0mnum\u001b[0m\u001b[0;34m)\u001b[0m\u001b[0;34m)\u001b[0m \u001b[0;32mif\u001b[0m \u001b[0mpd\u001b[0m\u001b[0;34m.\u001b[0m\u001b[0mnotnull\u001b[0m\u001b[0;34m(\u001b[0m\u001b[0mnum\u001b[0m\u001b[0;34m)\u001b[0m \u001b[0;32mand\u001b[0m \u001b[0mstr\u001b[0m\u001b[0;34m.\u001b[0m\u001b[0misdigit\u001b[0m\u001b[0;34m(\u001b[0m\u001b[0mnum\u001b[0m\u001b[0;34m)\u001b[0m \u001b[0;32melse\u001b[0m \u001b[0;32mNone\u001b[0m \u001b[0;32mfor\u001b[0m \u001b[0mnum\u001b[0m \u001b[0;32min\u001b[0m \u001b[0mtqdm_notebook\u001b[0m\u001b[0;34m(\u001b[0m\u001b[0minspections_fff\u001b[0m\u001b[0;34m[\u001b[0m\u001b[0;34m'DOHMH PHONE'\u001b[0m\u001b[0;34m]\u001b[0m\u001b[0;34m[\u001b[0m\u001b[0;36m15000\u001b[0m\u001b[0;34m:\u001b[0m\u001b[0;36m20000\u001b[0m\u001b[0;34m]\u001b[0m\u001b[0;34m)\u001b[0m\u001b[0;34m]\u001b[0m\u001b[0;34m\u001b[0m\u001b[0m\n\u001b[0m",
      "\u001b[0;32m<ipython-input-48-a3e863eaa819>\u001b[0m in \u001b[0;36m<listcomp>\u001b[0;34m(.0)\u001b[0m\n\u001b[0;32m----> 1\u001b[0;31m \u001b[0mraw_yelp_5000_4\u001b[0m \u001b[0;34m=\u001b[0m \u001b[0;34m[\u001b[0m\u001b[0myelp_phone_fetch\u001b[0m\u001b[0;34m(\u001b[0m\u001b[0mint\u001b[0m\u001b[0;34m(\u001b[0m\u001b[0mnum\u001b[0m\u001b[0;34m)\u001b[0m\u001b[0;34m)\u001b[0m \u001b[0;32mif\u001b[0m \u001b[0mpd\u001b[0m\u001b[0;34m.\u001b[0m\u001b[0mnotnull\u001b[0m\u001b[0;34m(\u001b[0m\u001b[0mnum\u001b[0m\u001b[0;34m)\u001b[0m \u001b[0;32mand\u001b[0m \u001b[0mstr\u001b[0m\u001b[0;34m.\u001b[0m\u001b[0misdigit\u001b[0m\u001b[0;34m(\u001b[0m\u001b[0mnum\u001b[0m\u001b[0;34m)\u001b[0m \u001b[0;32melse\u001b[0m \u001b[0;32mNone\u001b[0m \u001b[0;32mfor\u001b[0m \u001b[0mnum\u001b[0m \u001b[0;32min\u001b[0m \u001b[0mtqdm_notebook\u001b[0m\u001b[0;34m(\u001b[0m\u001b[0minspections_fff\u001b[0m\u001b[0;34m[\u001b[0m\u001b[0;34m'DOHMH PHONE'\u001b[0m\u001b[0;34m]\u001b[0m\u001b[0;34m[\u001b[0m\u001b[0;36m15000\u001b[0m\u001b[0;34m:\u001b[0m\u001b[0;36m20000\u001b[0m\u001b[0;34m]\u001b[0m\u001b[0;34m)\u001b[0m\u001b[0;34m]\u001b[0m\u001b[0;34m\u001b[0m\u001b[0m\n\u001b[0m",
      "\u001b[0;32m<ipython-input-41-d26da12d4f43>\u001b[0m in \u001b[0;36myelp_phone_fetch\u001b[0;34m(num)\u001b[0m\n\u001b[1;32m      7\u001b[0m     \u001b[0;32melse\u001b[0m\u001b[0;34m:\u001b[0m\u001b[0;34m\u001b[0m\u001b[0m\n\u001b[1;32m      8\u001b[0m         \u001b[0;32mtry\u001b[0m\u001b[0;34m:\u001b[0m\u001b[0;34m\u001b[0m\u001b[0m\n\u001b[0;32m----> 9\u001b[0;31m             \u001b[0mbusiness\u001b[0m \u001b[0;34m=\u001b[0m \u001b[0mclient\u001b[0m\u001b[0;34m.\u001b[0m\u001b[0mphone_search\u001b[0m\u001b[0;34m(\u001b[0m\u001b[0mnum\u001b[0m\u001b[0;34m)\u001b[0m\u001b[0;34m.\u001b[0m\u001b[0mbusinesses\u001b[0m\u001b[0;34m[\u001b[0m\u001b[0;36m0\u001b[0m\u001b[0;34m]\u001b[0m\u001b[0;34m\u001b[0m\u001b[0m\n\u001b[0m\u001b[1;32m     10\u001b[0m             \u001b[0;32mif\u001b[0m \u001b[0mbusiness\u001b[0m \u001b[0;32mand\u001b[0m \u001b[0mbusiness\u001b[0m\u001b[0;34m.\u001b[0m\u001b[0mlocation\u001b[0m \u001b[0;32mand\u001b[0m \u001b[0mbusiness\u001b[0m\u001b[0;34m.\u001b[0m\u001b[0mlocation\u001b[0m\u001b[0;34m.\u001b[0m\u001b[0mcoordinate\u001b[0m\u001b[0;34m:\u001b[0m\u001b[0;34m\u001b[0m\u001b[0m\n\u001b[1;32m     11\u001b[0m                 return {\n",
      "\u001b[0;32m/Users/Honors/anaconda/envs/nyc-restaurant-trends/lib/python3.5/site-packages/yelp/endpoint/phone_search.py\u001b[0m in \u001b[0;36mphone_search\u001b[0;34m(self, phone, **url_params)\u001b[0m\n\u001b[1;32m     25\u001b[0m \u001b[0;34m\u001b[0m\u001b[0m\n\u001b[1;32m     26\u001b[0m         return SearchResponse(\n\u001b[0;32m---> 27\u001b[0;31m             \u001b[0mself\u001b[0m\u001b[0;34m.\u001b[0m\u001b[0mclient\u001b[0m\u001b[0;34m.\u001b[0m\u001b[0m_make_request\u001b[0m\u001b[0;34m(\u001b[0m\u001b[0mPHONE_SEARCH_PATH\u001b[0m\u001b[0;34m,\u001b[0m \u001b[0murl_params\u001b[0m\u001b[0;34m)\u001b[0m\u001b[0;34m\u001b[0m\u001b[0m\n\u001b[0m\u001b[1;32m     28\u001b[0m         )\n",
      "\u001b[0;32m/Users/Honors/anaconda/envs/nyc-restaurant-trends/lib/python3.5/site-packages/yelp/client.py\u001b[0m in \u001b[0;36m_make_request\u001b[0;34m(self, path, url_params)\u001b[0m\n\u001b[1;32m     46\u001b[0m         )\n\u001b[1;32m     47\u001b[0m         \u001b[0msigned_url\u001b[0m \u001b[0;34m=\u001b[0m \u001b[0mself\u001b[0m\u001b[0;34m.\u001b[0m\u001b[0mauthenticator\u001b[0m\u001b[0;34m.\u001b[0m\u001b[0msign_request\u001b[0m\u001b[0;34m(\u001b[0m\u001b[0murl\u001b[0m\u001b[0;34m,\u001b[0m \u001b[0murl_params\u001b[0m\u001b[0;34m)\u001b[0m\u001b[0;34m\u001b[0m\u001b[0m\n\u001b[0;32m---> 48\u001b[0;31m         \u001b[0;32mreturn\u001b[0m \u001b[0mself\u001b[0m\u001b[0;34m.\u001b[0m\u001b[0m_make_connection\u001b[0m\u001b[0;34m(\u001b[0m\u001b[0msigned_url\u001b[0m\u001b[0;34m)\u001b[0m\u001b[0;34m\u001b[0m\u001b[0m\n\u001b[0m\u001b[1;32m     49\u001b[0m \u001b[0;34m\u001b[0m\u001b[0m\n\u001b[1;32m     50\u001b[0m     \u001b[0;32mdef\u001b[0m \u001b[0m_make_connection\u001b[0m\u001b[0;34m(\u001b[0m\u001b[0mself\u001b[0m\u001b[0;34m,\u001b[0m \u001b[0msigned_url\u001b[0m\u001b[0;34m)\u001b[0m\u001b[0;34m:\u001b[0m\u001b[0;34m\u001b[0m\u001b[0m\n",
      "\u001b[0;32m/Users/Honors/anaconda/envs/nyc-restaurant-trends/lib/python3.5/site-packages/yelp/client.py\u001b[0m in \u001b[0;36m_make_connection\u001b[0;34m(self, signed_url)\u001b[0m\n\u001b[1;32m     50\u001b[0m     \u001b[0;32mdef\u001b[0m \u001b[0m_make_connection\u001b[0m\u001b[0;34m(\u001b[0m\u001b[0mself\u001b[0m\u001b[0;34m,\u001b[0m \u001b[0msigned_url\u001b[0m\u001b[0;34m)\u001b[0m\u001b[0;34m:\u001b[0m\u001b[0;34m\u001b[0m\u001b[0m\n\u001b[1;32m     51\u001b[0m         \u001b[0;32mtry\u001b[0m\u001b[0;34m:\u001b[0m\u001b[0;34m\u001b[0m\u001b[0m\n\u001b[0;32m---> 52\u001b[0;31m             \u001b[0mconn\u001b[0m \u001b[0;34m=\u001b[0m \u001b[0msix\u001b[0m\u001b[0;34m.\u001b[0m\u001b[0mmoves\u001b[0m\u001b[0;34m.\u001b[0m\u001b[0murllib\u001b[0m\u001b[0;34m.\u001b[0m\u001b[0mrequest\u001b[0m\u001b[0;34m.\u001b[0m\u001b[0murlopen\u001b[0m\u001b[0;34m(\u001b[0m\u001b[0msigned_url\u001b[0m\u001b[0;34m,\u001b[0m \u001b[0;32mNone\u001b[0m\u001b[0;34m)\u001b[0m\u001b[0;34m\u001b[0m\u001b[0m\n\u001b[0m\u001b[1;32m     53\u001b[0m         \u001b[0;32mexcept\u001b[0m \u001b[0msix\u001b[0m\u001b[0;34m.\u001b[0m\u001b[0mmoves\u001b[0m\u001b[0;34m.\u001b[0m\u001b[0murllib\u001b[0m\u001b[0;34m.\u001b[0m\u001b[0merror\u001b[0m\u001b[0;34m.\u001b[0m\u001b[0mHTTPError\u001b[0m \u001b[0;32mas\u001b[0m \u001b[0merror\u001b[0m\u001b[0;34m:\u001b[0m\u001b[0;34m\u001b[0m\u001b[0m\n\u001b[1;32m     54\u001b[0m             \u001b[0mself\u001b[0m\u001b[0;34m.\u001b[0m\u001b[0m_error_handler\u001b[0m\u001b[0;34m.\u001b[0m\u001b[0mraise_error\u001b[0m\u001b[0;34m(\u001b[0m\u001b[0merror\u001b[0m\u001b[0;34m)\u001b[0m\u001b[0;34m\u001b[0m\u001b[0m\n",
      "\u001b[0;32m/Users/Honors/anaconda/envs/nyc-restaurant-trends/lib/python3.5/urllib/request.py\u001b[0m in \u001b[0;36murlopen\u001b[0;34m(url, data, timeout, cafile, capath, cadefault, context)\u001b[0m\n\u001b[1;32m    161\u001b[0m     \u001b[0;32melse\u001b[0m\u001b[0;34m:\u001b[0m\u001b[0;34m\u001b[0m\u001b[0m\n\u001b[1;32m    162\u001b[0m         \u001b[0mopener\u001b[0m \u001b[0;34m=\u001b[0m \u001b[0m_opener\u001b[0m\u001b[0;34m\u001b[0m\u001b[0m\n\u001b[0;32m--> 163\u001b[0;31m     \u001b[0;32mreturn\u001b[0m \u001b[0mopener\u001b[0m\u001b[0;34m.\u001b[0m\u001b[0mopen\u001b[0m\u001b[0;34m(\u001b[0m\u001b[0murl\u001b[0m\u001b[0;34m,\u001b[0m \u001b[0mdata\u001b[0m\u001b[0;34m,\u001b[0m \u001b[0mtimeout\u001b[0m\u001b[0;34m)\u001b[0m\u001b[0;34m\u001b[0m\u001b[0m\n\u001b[0m\u001b[1;32m    164\u001b[0m \u001b[0;34m\u001b[0m\u001b[0m\n\u001b[1;32m    165\u001b[0m \u001b[0;32mdef\u001b[0m \u001b[0minstall_opener\u001b[0m\u001b[0;34m(\u001b[0m\u001b[0mopener\u001b[0m\u001b[0;34m)\u001b[0m\u001b[0;34m:\u001b[0m\u001b[0;34m\u001b[0m\u001b[0m\n",
      "\u001b[0;32m/Users/Honors/anaconda/envs/nyc-restaurant-trends/lib/python3.5/urllib/request.py\u001b[0m in \u001b[0;36mopen\u001b[0;34m(self, fullurl, data, timeout)\u001b[0m\n\u001b[1;32m    464\u001b[0m             \u001b[0mreq\u001b[0m \u001b[0;34m=\u001b[0m \u001b[0mmeth\u001b[0m\u001b[0;34m(\u001b[0m\u001b[0mreq\u001b[0m\u001b[0;34m)\u001b[0m\u001b[0;34m\u001b[0m\u001b[0m\n\u001b[1;32m    465\u001b[0m \u001b[0;34m\u001b[0m\u001b[0m\n\u001b[0;32m--> 466\u001b[0;31m         \u001b[0mresponse\u001b[0m \u001b[0;34m=\u001b[0m \u001b[0mself\u001b[0m\u001b[0;34m.\u001b[0m\u001b[0m_open\u001b[0m\u001b[0;34m(\u001b[0m\u001b[0mreq\u001b[0m\u001b[0;34m,\u001b[0m \u001b[0mdata\u001b[0m\u001b[0;34m)\u001b[0m\u001b[0;34m\u001b[0m\u001b[0m\n\u001b[0m\u001b[1;32m    467\u001b[0m \u001b[0;34m\u001b[0m\u001b[0m\n\u001b[1;32m    468\u001b[0m         \u001b[0;31m# post-process response\u001b[0m\u001b[0;34m\u001b[0m\u001b[0;34m\u001b[0m\u001b[0m\n",
      "\u001b[0;32m/Users/Honors/anaconda/envs/nyc-restaurant-trends/lib/python3.5/urllib/request.py\u001b[0m in \u001b[0;36m_open\u001b[0;34m(self, req, data)\u001b[0m\n\u001b[1;32m    482\u001b[0m         \u001b[0mprotocol\u001b[0m \u001b[0;34m=\u001b[0m \u001b[0mreq\u001b[0m\u001b[0;34m.\u001b[0m\u001b[0mtype\u001b[0m\u001b[0;34m\u001b[0m\u001b[0m\n\u001b[1;32m    483\u001b[0m         result = self._call_chain(self.handle_open, protocol, protocol +\n\u001b[0;32m--> 484\u001b[0;31m                                   '_open', req)\n\u001b[0m\u001b[1;32m    485\u001b[0m         \u001b[0;32mif\u001b[0m \u001b[0mresult\u001b[0m\u001b[0;34m:\u001b[0m\u001b[0;34m\u001b[0m\u001b[0m\n\u001b[1;32m    486\u001b[0m             \u001b[0;32mreturn\u001b[0m \u001b[0mresult\u001b[0m\u001b[0;34m\u001b[0m\u001b[0m\n",
      "\u001b[0;32m/Users/Honors/anaconda/envs/nyc-restaurant-trends/lib/python3.5/urllib/request.py\u001b[0m in \u001b[0;36m_call_chain\u001b[0;34m(self, chain, kind, meth_name, *args)\u001b[0m\n\u001b[1;32m    442\u001b[0m         \u001b[0;32mfor\u001b[0m \u001b[0mhandler\u001b[0m \u001b[0;32min\u001b[0m \u001b[0mhandlers\u001b[0m\u001b[0;34m:\u001b[0m\u001b[0;34m\u001b[0m\u001b[0m\n\u001b[1;32m    443\u001b[0m             \u001b[0mfunc\u001b[0m \u001b[0;34m=\u001b[0m \u001b[0mgetattr\u001b[0m\u001b[0;34m(\u001b[0m\u001b[0mhandler\u001b[0m\u001b[0;34m,\u001b[0m \u001b[0mmeth_name\u001b[0m\u001b[0;34m)\u001b[0m\u001b[0;34m\u001b[0m\u001b[0m\n\u001b[0;32m--> 444\u001b[0;31m             \u001b[0mresult\u001b[0m \u001b[0;34m=\u001b[0m \u001b[0mfunc\u001b[0m\u001b[0;34m(\u001b[0m\u001b[0;34m*\u001b[0m\u001b[0margs\u001b[0m\u001b[0;34m)\u001b[0m\u001b[0;34m\u001b[0m\u001b[0m\n\u001b[0m\u001b[1;32m    445\u001b[0m             \u001b[0;32mif\u001b[0m \u001b[0mresult\u001b[0m \u001b[0;32mis\u001b[0m \u001b[0;32mnot\u001b[0m \u001b[0;32mNone\u001b[0m\u001b[0;34m:\u001b[0m\u001b[0;34m\u001b[0m\u001b[0m\n\u001b[1;32m    446\u001b[0m                 \u001b[0;32mreturn\u001b[0m \u001b[0mresult\u001b[0m\u001b[0;34m\u001b[0m\u001b[0m\n",
      "\u001b[0;32m/Users/Honors/anaconda/envs/nyc-restaurant-trends/lib/python3.5/urllib/request.py\u001b[0m in \u001b[0;36mhttps_open\u001b[0;34m(self, req)\u001b[0m\n\u001b[1;32m   1295\u001b[0m         \u001b[0;32mdef\u001b[0m \u001b[0mhttps_open\u001b[0m\u001b[0;34m(\u001b[0m\u001b[0mself\u001b[0m\u001b[0;34m,\u001b[0m \u001b[0mreq\u001b[0m\u001b[0;34m)\u001b[0m\u001b[0;34m:\u001b[0m\u001b[0;34m\u001b[0m\u001b[0m\n\u001b[1;32m   1296\u001b[0m             return self.do_open(http.client.HTTPSConnection, req,\n\u001b[0;32m-> 1297\u001b[0;31m                 context=self._context, check_hostname=self._check_hostname)\n\u001b[0m\u001b[1;32m   1298\u001b[0m \u001b[0;34m\u001b[0m\u001b[0m\n\u001b[1;32m   1299\u001b[0m         \u001b[0mhttps_request\u001b[0m \u001b[0;34m=\u001b[0m \u001b[0mAbstractHTTPHandler\u001b[0m\u001b[0;34m.\u001b[0m\u001b[0mdo_request_\u001b[0m\u001b[0;34m\u001b[0m\u001b[0m\n",
      "\u001b[0;32m/Users/Honors/anaconda/envs/nyc-restaurant-trends/lib/python3.5/urllib/request.py\u001b[0m in \u001b[0;36mdo_open\u001b[0;34m(self, http_class, req, **http_conn_args)\u001b[0m\n\u001b[1;32m   1255\u001b[0m             \u001b[0;32mexcept\u001b[0m \u001b[0mOSError\u001b[0m \u001b[0;32mas\u001b[0m \u001b[0merr\u001b[0m\u001b[0;34m:\u001b[0m \u001b[0;31m# timeout error\u001b[0m\u001b[0;34m\u001b[0m\u001b[0m\n\u001b[1;32m   1256\u001b[0m                 \u001b[0;32mraise\u001b[0m \u001b[0mURLError\u001b[0m\u001b[0;34m(\u001b[0m\u001b[0merr\u001b[0m\u001b[0;34m)\u001b[0m\u001b[0;34m\u001b[0m\u001b[0m\n\u001b[0;32m-> 1257\u001b[0;31m             \u001b[0mr\u001b[0m \u001b[0;34m=\u001b[0m \u001b[0mh\u001b[0m\u001b[0;34m.\u001b[0m\u001b[0mgetresponse\u001b[0m\u001b[0;34m(\u001b[0m\u001b[0;34m)\u001b[0m\u001b[0;34m\u001b[0m\u001b[0m\n\u001b[0m\u001b[1;32m   1258\u001b[0m         \u001b[0;32mexcept\u001b[0m\u001b[0;34m:\u001b[0m\u001b[0;34m\u001b[0m\u001b[0m\n\u001b[1;32m   1259\u001b[0m             \u001b[0mh\u001b[0m\u001b[0;34m.\u001b[0m\u001b[0mclose\u001b[0m\u001b[0;34m(\u001b[0m\u001b[0;34m)\u001b[0m\u001b[0;34m\u001b[0m\u001b[0m\n",
      "\u001b[0;32m/Users/Honors/anaconda/envs/nyc-restaurant-trends/lib/python3.5/http/client.py\u001b[0m in \u001b[0;36mgetresponse\u001b[0;34m(self)\u001b[0m\n\u001b[1;32m   1195\u001b[0m         \u001b[0;32mtry\u001b[0m\u001b[0;34m:\u001b[0m\u001b[0;34m\u001b[0m\u001b[0m\n\u001b[1;32m   1196\u001b[0m             \u001b[0;32mtry\u001b[0m\u001b[0;34m:\u001b[0m\u001b[0;34m\u001b[0m\u001b[0m\n\u001b[0;32m-> 1197\u001b[0;31m                 \u001b[0mresponse\u001b[0m\u001b[0;34m.\u001b[0m\u001b[0mbegin\u001b[0m\u001b[0;34m(\u001b[0m\u001b[0;34m)\u001b[0m\u001b[0;34m\u001b[0m\u001b[0m\n\u001b[0m\u001b[1;32m   1198\u001b[0m             \u001b[0;32mexcept\u001b[0m \u001b[0mConnectionError\u001b[0m\u001b[0;34m:\u001b[0m\u001b[0;34m\u001b[0m\u001b[0m\n\u001b[1;32m   1199\u001b[0m                 \u001b[0mself\u001b[0m\u001b[0;34m.\u001b[0m\u001b[0mclose\u001b[0m\u001b[0;34m(\u001b[0m\u001b[0;34m)\u001b[0m\u001b[0;34m\u001b[0m\u001b[0m\n",
      "\u001b[0;32m/Users/Honors/anaconda/envs/nyc-restaurant-trends/lib/python3.5/http/client.py\u001b[0m in \u001b[0;36mbegin\u001b[0;34m(self)\u001b[0m\n\u001b[1;32m    295\u001b[0m         \u001b[0;31m# read until we get a non-100 response\u001b[0m\u001b[0;34m\u001b[0m\u001b[0;34m\u001b[0m\u001b[0m\n\u001b[1;32m    296\u001b[0m         \u001b[0;32mwhile\u001b[0m \u001b[0;32mTrue\u001b[0m\u001b[0;34m:\u001b[0m\u001b[0;34m\u001b[0m\u001b[0m\n\u001b[0;32m--> 297\u001b[0;31m             \u001b[0mversion\u001b[0m\u001b[0;34m,\u001b[0m \u001b[0mstatus\u001b[0m\u001b[0;34m,\u001b[0m \u001b[0mreason\u001b[0m \u001b[0;34m=\u001b[0m \u001b[0mself\u001b[0m\u001b[0;34m.\u001b[0m\u001b[0m_read_status\u001b[0m\u001b[0;34m(\u001b[0m\u001b[0;34m)\u001b[0m\u001b[0;34m\u001b[0m\u001b[0m\n\u001b[0m\u001b[1;32m    298\u001b[0m             \u001b[0;32mif\u001b[0m \u001b[0mstatus\u001b[0m \u001b[0;34m!=\u001b[0m \u001b[0mCONTINUE\u001b[0m\u001b[0;34m:\u001b[0m\u001b[0;34m\u001b[0m\u001b[0m\n\u001b[1;32m    299\u001b[0m                 \u001b[0;32mbreak\u001b[0m\u001b[0;34m\u001b[0m\u001b[0m\n",
      "\u001b[0;32m/Users/Honors/anaconda/envs/nyc-restaurant-trends/lib/python3.5/http/client.py\u001b[0m in \u001b[0;36m_read_status\u001b[0;34m(self)\u001b[0m\n\u001b[1;32m    256\u001b[0m \u001b[0;34m\u001b[0m\u001b[0m\n\u001b[1;32m    257\u001b[0m     \u001b[0;32mdef\u001b[0m \u001b[0m_read_status\u001b[0m\u001b[0;34m(\u001b[0m\u001b[0mself\u001b[0m\u001b[0;34m)\u001b[0m\u001b[0;34m:\u001b[0m\u001b[0;34m\u001b[0m\u001b[0m\n\u001b[0;32m--> 258\u001b[0;31m         \u001b[0mline\u001b[0m \u001b[0;34m=\u001b[0m \u001b[0mstr\u001b[0m\u001b[0;34m(\u001b[0m\u001b[0mself\u001b[0m\u001b[0;34m.\u001b[0m\u001b[0mfp\u001b[0m\u001b[0;34m.\u001b[0m\u001b[0mreadline\u001b[0m\u001b[0;34m(\u001b[0m\u001b[0m_MAXLINE\u001b[0m \u001b[0;34m+\u001b[0m \u001b[0;36m1\u001b[0m\u001b[0;34m)\u001b[0m\u001b[0;34m,\u001b[0m \u001b[0;34m\"iso-8859-1\"\u001b[0m\u001b[0;34m)\u001b[0m\u001b[0;34m\u001b[0m\u001b[0m\n\u001b[0m\u001b[1;32m    259\u001b[0m         \u001b[0;32mif\u001b[0m \u001b[0mlen\u001b[0m\u001b[0;34m(\u001b[0m\u001b[0mline\u001b[0m\u001b[0;34m)\u001b[0m \u001b[0;34m>\u001b[0m \u001b[0m_MAXLINE\u001b[0m\u001b[0;34m:\u001b[0m\u001b[0;34m\u001b[0m\u001b[0m\n\u001b[1;32m    260\u001b[0m             \u001b[0;32mraise\u001b[0m \u001b[0mLineTooLong\u001b[0m\u001b[0;34m(\u001b[0m\u001b[0;34m\"status line\"\u001b[0m\u001b[0;34m)\u001b[0m\u001b[0;34m\u001b[0m\u001b[0m\n",
      "\u001b[0;32m/Users/Honors/anaconda/envs/nyc-restaurant-trends/lib/python3.5/socket.py\u001b[0m in \u001b[0;36mreadinto\u001b[0;34m(self, b)\u001b[0m\n\u001b[1;32m    573\u001b[0m         \u001b[0;32mwhile\u001b[0m \u001b[0;32mTrue\u001b[0m\u001b[0;34m:\u001b[0m\u001b[0;34m\u001b[0m\u001b[0m\n\u001b[1;32m    574\u001b[0m             \u001b[0;32mtry\u001b[0m\u001b[0;34m:\u001b[0m\u001b[0;34m\u001b[0m\u001b[0m\n\u001b[0;32m--> 575\u001b[0;31m                 \u001b[0;32mreturn\u001b[0m \u001b[0mself\u001b[0m\u001b[0;34m.\u001b[0m\u001b[0m_sock\u001b[0m\u001b[0;34m.\u001b[0m\u001b[0mrecv_into\u001b[0m\u001b[0;34m(\u001b[0m\u001b[0mb\u001b[0m\u001b[0;34m)\u001b[0m\u001b[0;34m\u001b[0m\u001b[0m\n\u001b[0m\u001b[1;32m    576\u001b[0m             \u001b[0;32mexcept\u001b[0m \u001b[0mtimeout\u001b[0m\u001b[0;34m:\u001b[0m\u001b[0;34m\u001b[0m\u001b[0m\n\u001b[1;32m    577\u001b[0m                 \u001b[0mself\u001b[0m\u001b[0;34m.\u001b[0m\u001b[0m_timeout_occurred\u001b[0m \u001b[0;34m=\u001b[0m \u001b[0;32mTrue\u001b[0m\u001b[0;34m\u001b[0m\u001b[0m\n",
      "\u001b[0;32m/Users/Honors/anaconda/envs/nyc-restaurant-trends/lib/python3.5/ssl.py\u001b[0m in \u001b[0;36mrecv_into\u001b[0;34m(self, buffer, nbytes, flags)\u001b[0m\n\u001b[1;32m    927\u001b[0m                   \u001b[0;34m\"non-zero flags not allowed in calls to recv_into() on %s\"\u001b[0m \u001b[0;34m%\u001b[0m\u001b[0;34m\u001b[0m\u001b[0m\n\u001b[1;32m    928\u001b[0m                   self.__class__)\n\u001b[0;32m--> 929\u001b[0;31m             \u001b[0;32mreturn\u001b[0m \u001b[0mself\u001b[0m\u001b[0;34m.\u001b[0m\u001b[0mread\u001b[0m\u001b[0;34m(\u001b[0m\u001b[0mnbytes\u001b[0m\u001b[0;34m,\u001b[0m \u001b[0mbuffer\u001b[0m\u001b[0;34m)\u001b[0m\u001b[0;34m\u001b[0m\u001b[0m\n\u001b[0m\u001b[1;32m    930\u001b[0m         \u001b[0;32melse\u001b[0m\u001b[0;34m:\u001b[0m\u001b[0;34m\u001b[0m\u001b[0m\n\u001b[1;32m    931\u001b[0m             \u001b[0;32mreturn\u001b[0m \u001b[0msocket\u001b[0m\u001b[0;34m.\u001b[0m\u001b[0mrecv_into\u001b[0m\u001b[0;34m(\u001b[0m\u001b[0mself\u001b[0m\u001b[0;34m,\u001b[0m \u001b[0mbuffer\u001b[0m\u001b[0;34m,\u001b[0m \u001b[0mnbytes\u001b[0m\u001b[0;34m,\u001b[0m \u001b[0mflags\u001b[0m\u001b[0;34m)\u001b[0m\u001b[0;34m\u001b[0m\u001b[0m\n",
      "\u001b[0;32m/Users/Honors/anaconda/envs/nyc-restaurant-trends/lib/python3.5/ssl.py\u001b[0m in \u001b[0;36mread\u001b[0;34m(self, len, buffer)\u001b[0m\n\u001b[1;32m    789\u001b[0m             \u001b[0;32mraise\u001b[0m \u001b[0mValueError\u001b[0m\u001b[0;34m(\u001b[0m\u001b[0;34m\"Read on closed or unwrapped SSL socket.\"\u001b[0m\u001b[0;34m)\u001b[0m\u001b[0;34m\u001b[0m\u001b[0m\n\u001b[1;32m    790\u001b[0m         \u001b[0;32mtry\u001b[0m\u001b[0;34m:\u001b[0m\u001b[0;34m\u001b[0m\u001b[0m\n\u001b[0;32m--> 791\u001b[0;31m             \u001b[0;32mreturn\u001b[0m \u001b[0mself\u001b[0m\u001b[0;34m.\u001b[0m\u001b[0m_sslobj\u001b[0m\u001b[0;34m.\u001b[0m\u001b[0mread\u001b[0m\u001b[0;34m(\u001b[0m\u001b[0mlen\u001b[0m\u001b[0;34m,\u001b[0m \u001b[0mbuffer\u001b[0m\u001b[0;34m)\u001b[0m\u001b[0;34m\u001b[0m\u001b[0m\n\u001b[0m\u001b[1;32m    792\u001b[0m         \u001b[0;32mexcept\u001b[0m \u001b[0mSSLError\u001b[0m \u001b[0;32mas\u001b[0m \u001b[0mx\u001b[0m\u001b[0;34m:\u001b[0m\u001b[0;34m\u001b[0m\u001b[0m\n\u001b[1;32m    793\u001b[0m             \u001b[0;32mif\u001b[0m \u001b[0mx\u001b[0m\u001b[0;34m.\u001b[0m\u001b[0margs\u001b[0m\u001b[0;34m[\u001b[0m\u001b[0;36m0\u001b[0m\u001b[0;34m]\u001b[0m \u001b[0;34m==\u001b[0m \u001b[0mSSL_ERROR_EOF\u001b[0m \u001b[0;32mand\u001b[0m \u001b[0mself\u001b[0m\u001b[0;34m.\u001b[0m\u001b[0msuppress_ragged_eofs\u001b[0m\u001b[0;34m:\u001b[0m\u001b[0;34m\u001b[0m\u001b[0m\n",
      "\u001b[0;32m/Users/Honors/anaconda/envs/nyc-restaurant-trends/lib/python3.5/ssl.py\u001b[0m in \u001b[0;36mread\u001b[0;34m(self, len, buffer)\u001b[0m\n\u001b[1;32m    573\u001b[0m         \"\"\"\n\u001b[1;32m    574\u001b[0m         \u001b[0;32mif\u001b[0m \u001b[0mbuffer\u001b[0m \u001b[0;32mis\u001b[0m \u001b[0;32mnot\u001b[0m \u001b[0;32mNone\u001b[0m\u001b[0;34m:\u001b[0m\u001b[0;34m\u001b[0m\u001b[0m\n\u001b[0;32m--> 575\u001b[0;31m             \u001b[0mv\u001b[0m \u001b[0;34m=\u001b[0m \u001b[0mself\u001b[0m\u001b[0;34m.\u001b[0m\u001b[0m_sslobj\u001b[0m\u001b[0;34m.\u001b[0m\u001b[0mread\u001b[0m\u001b[0;34m(\u001b[0m\u001b[0mlen\u001b[0m\u001b[0;34m,\u001b[0m \u001b[0mbuffer\u001b[0m\u001b[0;34m)\u001b[0m\u001b[0;34m\u001b[0m\u001b[0m\n\u001b[0m\u001b[1;32m    576\u001b[0m         \u001b[0;32melse\u001b[0m\u001b[0;34m:\u001b[0m\u001b[0;34m\u001b[0m\u001b[0m\n\u001b[1;32m    577\u001b[0m             \u001b[0mv\u001b[0m \u001b[0;34m=\u001b[0m \u001b[0mself\u001b[0m\u001b[0;34m.\u001b[0m\u001b[0m_sslobj\u001b[0m\u001b[0;34m.\u001b[0m\u001b[0mread\u001b[0m\u001b[0;34m(\u001b[0m\u001b[0mlen\u001b[0m\u001b[0;34m)\u001b[0m\u001b[0;34m\u001b[0m\u001b[0m\n",
      "\u001b[0;31mKeyboardInterrupt\u001b[0m: "
     ]
    }
   ],
   "source": [
    "raw_yelp_5000_4 = [yelp_phone_fetch(int(num)) if pd.notnull(num) and str.isdigit(num) else None for num in tqdm_notebook(inspections_fff['DOHMH PHONE'][15000:20000])]"
   ]
  },
  {
   "cell_type": "code",
   "execution_count": null,
   "metadata": {
    "collapsed": true
   },
   "outputs": [],
   "source": [
    "raw_yelp_5000_5 = [yelp_phone_fetch(int(num)) if pd.notnull(num) and str.isdigit(num) else None for num in tqdm_notebook(inspections_fff['DOHMH PHONE'][20000:25000])]"
   ]
  },
  {
   "cell_type": "code",
   "execution_count": null,
   "metadata": {
    "collapsed": true
   },
   "outputs": [],
   "source": [
    "raw_yelp_5000_6 = [yelp_phone_fetch(int(num)) if pd.notnull(num) and str.isdigit(num) else None for num in tqdm_notebook(inspections_fff['DOHMH PHONE'][25000:])]"
   ]
  },
  {
   "cell_type": "code",
   "execution_count": 146,
   "metadata": {
    "collapsed": true
   },
   "outputs": [],
   "source": [
    "inspections_fff.to_csv(\"../data/inspections_flattened_initial.csv\", encoding=\"utf-8\")"
   ]
  }
 ],
 "metadata": {
  "anaconda-cloud": {},
  "kernelspec": {
   "display_name": "Python [conda env:nyc-restaurant-trends]",
   "language": "python",
   "name": "conda-env-nyc-restaurant-trends-py"
  },
  "language_info": {
   "codemirror_mode": {
    "name": "ipython",
    "version": 3
   },
   "file_extension": ".py",
   "mimetype": "text/x-python",
   "name": "python",
   "nbconvert_exporter": "python",
   "pygments_lexer": "ipython3",
   "version": "3.5.2"
  },
  "widgets": {
   "state": {
    "392f740d0d474dbf94e2d4b584d5b33b": {
     "views": [
      {
       "cell_index": 46
      }
     ]
    },
    "541e2a8a971140f490db91e79630dcda": {
     "views": [
      {
       "cell_index": 47
      }
     ]
    },
    "7e2fd888e9584bfabc7cb1523ccfacf3": {
     "views": [
      {
       "cell_index": 48
      }
     ]
    },
    "b0706b02c0be4d30a0e018f9dd5753ee": {
     "views": [
      {
       "cell_index": 49
      }
     ]
    }
   },
   "version": "1.2.0"
  }
 },
 "nbformat": 4,
 "nbformat_minor": 1
}
