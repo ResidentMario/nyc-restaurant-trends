{
 "cells": [
  {
   "cell_type": "code",
   "execution_count": 1,
   "metadata": {
    "collapsed": true
   },
   "outputs": [],
   "source": [
    "import pandas as pd"
   ]
  },
  {
   "cell_type": "code",
   "execution_count": 6,
   "metadata": {
    "collapsed": false
   },
   "outputs": [],
   "source": [
    "inspections = pd.read_csv(\"../data/inspections.csv\", index_col=0)"
   ]
  },
  {
   "cell_type": "code",
   "execution_count": 7,
   "metadata": {
    "collapsed": false
   },
   "outputs": [
    {
     "data": {
      "text/html": [
       "<div>\n",
       "<table border=\"1\" class=\"dataframe\">\n",
       "  <thead>\n",
       "    <tr style=\"text-align: right;\">\n",
       "      <th></th>\n",
       "      <th>CAMIS</th>\n",
       "      <th>DBA</th>\n",
       "      <th>BORO</th>\n",
       "      <th>BUILDING</th>\n",
       "      <th>STREET</th>\n",
       "      <th>ZIPCODE</th>\n",
       "      <th>PHONE</th>\n",
       "      <th>CUISINE DESCRIPTION</th>\n",
       "      <th>INSPECTION DATE</th>\n",
       "      <th>ACTION</th>\n",
       "      <th>VIOLATION CODE</th>\n",
       "      <th>VIOLATION DESCRIPTION</th>\n",
       "      <th>CRITICAL FLAG</th>\n",
       "      <th>SCORE</th>\n",
       "      <th>GRADE</th>\n",
       "      <th>GRADE DATE</th>\n",
       "      <th>RECORD DATE</th>\n",
       "      <th>INSPECTION TYPE</th>\n",
       "    </tr>\n",
       "  </thead>\n",
       "  <tbody>\n",
       "    <tr>\n",
       "      <th>0</th>\n",
       "      <td>40647906</td>\n",
       "      <td>TERRACE ON THE PARK</td>\n",
       "      <td>QUEENS</td>\n",
       "      <td>5211</td>\n",
       "      <td>111 STREET</td>\n",
       "      <td>11368</td>\n",
       "      <td>7185925000</td>\n",
       "      <td>American</td>\n",
       "      <td>04/07/2016</td>\n",
       "      <td>Violations were cited in the following area(s).</td>\n",
       "      <td>10B</td>\n",
       "      <td>Plumbing not properly installed or maintained;...</td>\n",
       "      <td>Not Critical</td>\n",
       "      <td>25.0</td>\n",
       "      <td>NaN</td>\n",
       "      <td>NaN</td>\n",
       "      <td>09/24/2016</td>\n",
       "      <td>Cycle Inspection / Initial Inspection</td>\n",
       "    </tr>\n",
       "    <tr>\n",
       "      <th>1</th>\n",
       "      <td>41396241</td>\n",
       "      <td>KITCHEN PROVANCE</td>\n",
       "      <td>MANHATTAN</td>\n",
       "      <td>55</td>\n",
       "      <td>WEST   38 STREET</td>\n",
       "      <td>10018</td>\n",
       "      <td>2128692561</td>\n",
       "      <td>American</td>\n",
       "      <td>05/24/2013</td>\n",
       "      <td>Violations were cited in the following area(s).</td>\n",
       "      <td>10H</td>\n",
       "      <td>Proper sanitization not provided for utensil w...</td>\n",
       "      <td>Not Critical</td>\n",
       "      <td>26.0</td>\n",
       "      <td>NaN</td>\n",
       "      <td>NaN</td>\n",
       "      <td>09/24/2016</td>\n",
       "      <td>Cycle Inspection / Initial Inspection</td>\n",
       "    </tr>\n",
       "    <tr>\n",
       "      <th>2</th>\n",
       "      <td>50009921</td>\n",
       "      <td>HESTIA MARKETPLACE</td>\n",
       "      <td>MANHATTAN</td>\n",
       "      <td>513</td>\n",
       "      <td>FASHION AVE</td>\n",
       "      <td>10018</td>\n",
       "      <td>2127683838</td>\n",
       "      <td>American</td>\n",
       "      <td>06/03/2016</td>\n",
       "      <td>Violations were cited in the following area(s).</td>\n",
       "      <td>10B</td>\n",
       "      <td>Plumbing not properly installed or maintained;...</td>\n",
       "      <td>Not Critical</td>\n",
       "      <td>24.0</td>\n",
       "      <td>NaN</td>\n",
       "      <td>NaN</td>\n",
       "      <td>09/24/2016</td>\n",
       "      <td>Cycle Inspection / Initial Inspection</td>\n",
       "    </tr>\n",
       "  </tbody>\n",
       "</table>\n",
       "</div>"
      ],
      "text/plain": [
       "      CAMIS                  DBA       BORO BUILDING            STREET  \\\n",
       "0  40647906  TERRACE ON THE PARK     QUEENS     5211        111 STREET   \n",
       "1  41396241     KITCHEN PROVANCE  MANHATTAN       55  WEST   38 STREET   \n",
       "2  50009921   HESTIA MARKETPLACE  MANHATTAN      513       FASHION AVE   \n",
       "\n",
       "   ZIPCODE       PHONE CUISINE DESCRIPTION INSPECTION DATE  \\\n",
       "0    11368  7185925000            American      04/07/2016   \n",
       "1    10018  2128692561            American      05/24/2013   \n",
       "2    10018  2127683838            American      06/03/2016   \n",
       "\n",
       "                                            ACTION VIOLATION CODE  \\\n",
       "0  Violations were cited in the following area(s).            10B   \n",
       "1  Violations were cited in the following area(s).            10H   \n",
       "2  Violations were cited in the following area(s).            10B   \n",
       "\n",
       "                               VIOLATION DESCRIPTION CRITICAL FLAG  SCORE  \\\n",
       "0  Plumbing not properly installed or maintained;...  Not Critical   25.0   \n",
       "1  Proper sanitization not provided for utensil w...  Not Critical   26.0   \n",
       "2  Plumbing not properly installed or maintained;...  Not Critical   24.0   \n",
       "\n",
       "  GRADE GRADE DATE RECORD DATE                        INSPECTION TYPE  \n",
       "0   NaN        NaN  09/24/2016  Cycle Inspection / Initial Inspection  \n",
       "1   NaN        NaN  09/24/2016  Cycle Inspection / Initial Inspection  \n",
       "2   NaN        NaN  09/24/2016  Cycle Inspection / Initial Inspection  "
      ]
     },
     "execution_count": 7,
     "metadata": {},
     "output_type": "execute_result"
    }
   ],
   "source": [
    "inspections.head(3)"
   ]
  },
  {
   "cell_type": "code",
   "execution_count": 29,
   "metadata": {
    "collapsed": false
   },
   "outputs": [],
   "source": [
    "inspections['INSPECTION DATE'] = pd.to_datetime(inspections['INSPECTION DATE'])"
   ]
  },
  {
   "cell_type": "code",
   "execution_count": 47,
   "metadata": {
    "collapsed": false,
    "scrolled": false
   },
   "outputs": [],
   "source": [
    "# random_camis = inspections.sample().iloc[0]['CAMIS']\n",
    "# inspections[inspections['CAMIS'] == random_camis].sort_values(by='INSPECTION DATE')['INSPECTION DATE']"
   ]
  },
  {
   "cell_type": "markdown",
   "metadata": {},
   "source": [
    "Get initial inspection date."
   ]
  },
  {
   "cell_type": "code",
   "execution_count": 78,
   "metadata": {
    "collapsed": false,
    "scrolled": true
   },
   "outputs": [],
   "source": [
    "inspections_f = inspections.groupby('CAMIS')\\\n",
    "                            .apply(lambda df: inspections[inspections['CAMIS'] == df['CAMIS'].iloc[0]]\\\n",
    "                                               .sort_values(by=\"INSPECTION DATE\")\\\n",
    "                                               .iloc[0]\\\n",
    "                                               .drop('CAMIS')\n",
    "                                  )\\\n",
    "                            .rename(columns={'INSPECTION DATE': 'INITIAL INSPECTION DATE'})"
   ]
  },
  {
   "cell_type": "code",
   "execution_count": 58,
   "metadata": {
    "collapsed": false
   },
   "outputs": [
    {
     "data": {
      "text/html": [
       "<div>\n",
       "<table border=\"1\" class=\"dataframe\">\n",
       "  <thead>\n",
       "    <tr style=\"text-align: right;\">\n",
       "      <th></th>\n",
       "      <th>DBA</th>\n",
       "      <th>BORO</th>\n",
       "      <th>BUILDING</th>\n",
       "      <th>STREET</th>\n",
       "      <th>ZIPCODE</th>\n",
       "      <th>PHONE</th>\n",
       "      <th>CUISINE DESCRIPTION</th>\n",
       "      <th>INITIAL INSPECTION DATE</th>\n",
       "      <th>ACTION</th>\n",
       "      <th>VIOLATION CODE</th>\n",
       "      <th>VIOLATION DESCRIPTION</th>\n",
       "      <th>CRITICAL FLAG</th>\n",
       "      <th>SCORE</th>\n",
       "      <th>GRADE</th>\n",
       "      <th>GRADE DATE</th>\n",
       "      <th>RECORD DATE</th>\n",
       "      <th>INSPECTION TYPE</th>\n",
       "    </tr>\n",
       "    <tr>\n",
       "      <th>CAMIS</th>\n",
       "      <th></th>\n",
       "      <th></th>\n",
       "      <th></th>\n",
       "      <th></th>\n",
       "      <th></th>\n",
       "      <th></th>\n",
       "      <th></th>\n",
       "      <th></th>\n",
       "      <th></th>\n",
       "      <th></th>\n",
       "      <th></th>\n",
       "      <th></th>\n",
       "      <th></th>\n",
       "      <th></th>\n",
       "      <th></th>\n",
       "      <th></th>\n",
       "      <th></th>\n",
       "    </tr>\n",
       "  </thead>\n",
       "  <tbody>\n",
       "    <tr>\n",
       "      <th>50006167</th>\n",
       "      <td>NaN</td>\n",
       "      <td>MANHATTAN</td>\n",
       "      <td>31.0</td>\n",
       "      <td>OLIVER ST</td>\n",
       "      <td>10038</td>\n",
       "      <td>2.127663e+09</td>\n",
       "      <td>Chinese/Japanese</td>\n",
       "      <td>2014-04-21</td>\n",
       "      <td>Violations were cited in the following area(s).</td>\n",
       "      <td>08A</td>\n",
       "      <td>Facility not vermin proof. Harborage or condit...</td>\n",
       "      <td>Not Critical</td>\n",
       "      <td>29.0</td>\n",
       "      <td>NaN</td>\n",
       "      <td>NaN</td>\n",
       "      <td>09/24/2016</td>\n",
       "      <td>Pre-permit (Operational) / Initial Inspection</td>\n",
       "    </tr>\n",
       "  </tbody>\n",
       "</table>\n",
       "</div>"
      ],
      "text/plain": [
       "          DBA       BORO  BUILDING     STREET  ZIPCODE         PHONE  \\\n",
       "CAMIS                                                                  \n",
       "50006167  NaN  MANHATTAN      31.0  OLIVER ST    10038  2.127663e+09   \n",
       "\n",
       "         CUISINE DESCRIPTION INITIAL INSPECTION DATE  \\\n",
       "CAMIS                                                  \n",
       "50006167    Chinese/Japanese              2014-04-21   \n",
       "\n",
       "                                                   ACTION VIOLATION CODE  \\\n",
       "CAMIS                                                                      \n",
       "50006167  Violations were cited in the following area(s).            08A   \n",
       "\n",
       "                                      VIOLATION DESCRIPTION CRITICAL FLAG  \\\n",
       "CAMIS                                                                       \n",
       "50006167  Facility not vermin proof. Harborage or condit...  Not Critical   \n",
       "\n",
       "          SCORE GRADE GRADE DATE RECORD DATE  \\\n",
       "CAMIS                                          \n",
       "50006167   29.0   NaN        NaN  09/24/2016   \n",
       "\n",
       "                                        INSPECTION TYPE  \n",
       "CAMIS                                                    \n",
       "50006167  Pre-permit (Operational) / Initial Inspection  "
      ]
     },
     "execution_count": 58,
     "metadata": {},
     "output_type": "execute_result"
    }
   ],
   "source": [
    "inspections_f.sample(1)"
   ]
  },
  {
   "cell_type": "markdown",
   "metadata": {},
   "source": [
    "Not sure why, but this operation drops the `DBA` field. None others are affected. Maybe something with the indexing?"
   ]
  },
  {
   "cell_type": "markdown",
   "metadata": {},
   "source": [
    "Let's take the most recent inspection date."
   ]
  },
  {
   "cell_type": "code",
   "execution_count": 84,
   "metadata": {
    "collapsed": false
   },
   "outputs": [],
   "source": [
    "inspections_ff = inspections_f.copy()\n",
    "inspections_ff['LATEST INSPECTION DATE'] = inspections_ff\\\n",
    "        .apply(lambda srs: inspections[inspections['CAMIS'] == srs.name]\\\n",
    "                                  .sort_values(by='INSPECTION DATE')\\\n",
    "                                  .iloc[-1]\\\n",
    "                                  ['INSPECTION DATE'],\n",
    "              axis='columns')"
   ]
  },
  {
   "cell_type": "markdown",
   "metadata": {},
   "source": [
    "Rename the `INSPECTION TYPE` to `INITIAL INSPECTION TYPE` (this flags new establishments from pre-existing ones, in the cotext of our dataset)."
   ]
  },
  {
   "cell_type": "code",
   "execution_count": 89,
   "metadata": {
    "collapsed": false,
    "scrolled": false
   },
   "outputs": [],
   "source": [
    "inspections_ff = inspections_ff.rename(columns={'INSPECTION TYPE': 'INITIAL INSPECTION TYPE'})"
   ]
  },
  {
   "cell_type": "markdown",
   "metadata": {},
   "source": [
    "Checking the flags:"
   ]
  },
  {
   "cell_type": "code",
   "execution_count": 91,
   "metadata": {
    "collapsed": false
   },
   "outputs": [
    {
     "data": {
      "text/plain": [
       "Cycle Inspection / Initial Inspection                          12537\n",
       "Pre-permit (Operational) / Initial Inspection                   7630\n",
       "Pre-permit (Non-operational) / Initial Inspection               2256\n",
       "Cycle Inspection / Re-inspection                                 877\n",
       "Administrative Miscellaneous / Initial Inspection                683\n",
       "Smoke-Free Air Act / Initial Inspection                          281\n",
       "Trans Fat / Initial Inspection                                   247\n",
       "Pre-permit (Operational) / Re-inspection                          82\n",
       "Trans Fat / Compliance Inspection                                 80\n",
       "Trans Fat / Re-inspection                                         75\n",
       "Inter-Agency Task Force / Initial Inspection                      53\n",
       "Calorie Posting / Initial Inspection                              30\n",
       "Trans Fat / Second Compliance Inspection                          27\n",
       "Administrative Miscellaneous / Re-inspection                      27\n",
       "Smoke-Free Air Act / Re-inspection                                23\n",
       "Administrative Miscellaneous / Compliance Inspection              14\n",
       "Cycle Inspection / Compliance Inspection                          12\n",
       "Pre-permit (Operational) / Compliance Inspection                  12\n",
       "Cycle Inspection / Reopening Inspection                            8\n",
       "Smoke-Free Air Act / Compliance Inspection                         6\n",
       "Calorie Posting / Re-inspection                                    5\n",
       "Pre-permit (Operational) / Reopening Inspection                    4\n",
       "Pre-permit (Non-operational) / Re-inspection                       3\n",
       "Cycle Inspection / Second Compliance Inspection                    2\n",
       "Administrative Miscellaneous / Second Compliance Inspection        2\n",
       "Pre-permit (Operational) / Second Compliance Inspection            1\n",
       "Smoke-Free Air Act / Limited Inspection                            1\n",
       "Calorie Posting / Compliance Inspection                            1\n",
       "Smoke-Free Air Act / Second Compliance Inspection                  1\n",
       "Name: INITIAL INSPECTION TYPE, dtype: int64"
      ]
     },
     "execution_count": 91,
     "metadata": {},
     "output_type": "execute_result"
    }
   ],
   "source": [
    "inspections_ff['INITIAL INSPECTION TYPE'].value_counts()"
   ]
  },
  {
   "cell_type": "markdown",
   "metadata": {},
   "source": [
    "A lot of them are null."
   ]
  },
  {
   "cell_type": "code",
   "execution_count": 93,
   "metadata": {
    "collapsed": false
   },
   "outputs": [
    {
     "data": {
      "text/plain": [
       "1094"
      ]
     },
     "execution_count": 93,
     "metadata": {},
     "output_type": "execute_result"
    }
   ],
   "source": [
    "inspections_ff['INITIAL INSPECTION TYPE'].isnull().astype(int).sum()"
   ]
  },
  {
   "cell_type": "markdown",
   "metadata": {},
   "source": [
    "Remember, this is new establishments that have not been inspected yet. That the numbers match up here is encouraging."
   ]
  },
  {
   "cell_type": "code",
   "execution_count": 94,
   "metadata": {
    "collapsed": false
   },
   "outputs": [
    {
     "data": {
      "text/plain": [
       "1094"
      ]
     },
     "execution_count": 94,
     "metadata": {},
     "output_type": "execute_result"
    }
   ],
   "source": [
    "inspections['INSPECTION TYPE'].isnull().astype(int).sum()"
   ]
  },
  {
   "cell_type": "markdown",
   "metadata": {},
   "source": [
    "We reattach the lost DBA column."
   ]
  },
  {
   "cell_type": "code",
   "execution_count": 95,
   "metadata": {
    "collapsed": false
   },
   "outputs": [
    {
     "data": {
      "text/html": [
       "<div>\n",
       "<table border=\"1\" class=\"dataframe\">\n",
       "  <thead>\n",
       "    <tr style=\"text-align: right;\">\n",
       "      <th></th>\n",
       "      <th>DBA</th>\n",
       "      <th>BORO</th>\n",
       "      <th>BUILDING</th>\n",
       "      <th>STREET</th>\n",
       "      <th>ZIPCODE</th>\n",
       "      <th>PHONE</th>\n",
       "      <th>CUISINE DESCRIPTION</th>\n",
       "      <th>INITIAL INSPECTION DATE</th>\n",
       "      <th>ACTION</th>\n",
       "      <th>VIOLATION CODE</th>\n",
       "      <th>VIOLATION DESCRIPTION</th>\n",
       "      <th>CRITICAL FLAG</th>\n",
       "      <th>SCORE</th>\n",
       "      <th>GRADE</th>\n",
       "      <th>GRADE DATE</th>\n",
       "      <th>RECORD DATE</th>\n",
       "      <th>INITIAL INSPECTION TYPE</th>\n",
       "      <th>LATEST INSPECTION DATE</th>\n",
       "    </tr>\n",
       "    <tr>\n",
       "      <th>CAMIS</th>\n",
       "      <th></th>\n",
       "      <th></th>\n",
       "      <th></th>\n",
       "      <th></th>\n",
       "      <th></th>\n",
       "      <th></th>\n",
       "      <th></th>\n",
       "      <th></th>\n",
       "      <th></th>\n",
       "      <th></th>\n",
       "      <th></th>\n",
       "      <th></th>\n",
       "      <th></th>\n",
       "      <th></th>\n",
       "      <th></th>\n",
       "      <th></th>\n",
       "      <th></th>\n",
       "      <th></th>\n",
       "    </tr>\n",
       "  </thead>\n",
       "  <tbody>\n",
       "    <tr>\n",
       "      <th>30075445</th>\n",
       "      <td>NaN</td>\n",
       "      <td>BRONX</td>\n",
       "      <td>1007.0</td>\n",
       "      <td>MORRIS PARK AVE</td>\n",
       "      <td>10462</td>\n",
       "      <td>7.188925e+09</td>\n",
       "      <td>Bakery</td>\n",
       "      <td>2013-06-01</td>\n",
       "      <td>Violations were cited in the following area(s).</td>\n",
       "      <td>16B</td>\n",
       "      <td>The original nutritional fact labels and/or in...</td>\n",
       "      <td>Not Critical</td>\n",
       "      <td>NaN</td>\n",
       "      <td>NaN</td>\n",
       "      <td>NaN</td>\n",
       "      <td>09/24/2016</td>\n",
       "      <td>Trans Fat / Compliance Inspection</td>\n",
       "      <td>2016-02-18</td>\n",
       "    </tr>\n",
       "  </tbody>\n",
       "</table>\n",
       "</div>"
      ],
      "text/plain": [
       "          DBA   BORO  BUILDING           STREET  ZIPCODE         PHONE  \\\n",
       "CAMIS                                                                    \n",
       "30075445  NaN  BRONX    1007.0  MORRIS PARK AVE    10462  7.188925e+09   \n",
       "\n",
       "         CUISINE DESCRIPTION INITIAL INSPECTION DATE  \\\n",
       "CAMIS                                                  \n",
       "30075445              Bakery              2013-06-01   \n",
       "\n",
       "                                                   ACTION VIOLATION CODE  \\\n",
       "CAMIS                                                                      \n",
       "30075445  Violations were cited in the following area(s).            16B   \n",
       "\n",
       "                                      VIOLATION DESCRIPTION CRITICAL FLAG  \\\n",
       "CAMIS                                                                       \n",
       "30075445  The original nutritional fact labels and/or in...  Not Critical   \n",
       "\n",
       "          SCORE GRADE GRADE DATE RECORD DATE  \\\n",
       "CAMIS                                          \n",
       "30075445    NaN   NaN        NaN  09/24/2016   \n",
       "\n",
       "                    INITIAL INSPECTION TYPE LATEST INSPECTION DATE  \n",
       "CAMIS                                                               \n",
       "30075445  Trans Fat / Compliance Inspection             2016-02-18  "
      ]
     },
     "execution_count": 95,
     "metadata": {},
     "output_type": "execute_result"
    }
   ],
   "source": [
    "inspections_ff.head(1)"
   ]
  },
  {
   "cell_type": "code",
   "execution_count": 97,
   "metadata": {
    "collapsed": false
   },
   "outputs": [],
   "source": [
    "inspections_fff = inspections_ff.copy()\n",
    "inspections_fff['DBA'] = inspections_fff.apply(lambda srs: \n",
    "                                                   inspections[inspections['CAMIS'] == srs.name]\\\n",
    "                                                   .iloc[0]['DBA'],\n",
    "                                               axis='columns')"
   ]
  },
  {
   "cell_type": "markdown",
   "metadata": {},
   "source": [
    "Prepend descriptors, to more easily distinguish things down the road."
   ]
  },
  {
   "cell_type": "code",
   "execution_count": 104,
   "metadata": {
    "collapsed": true
   },
   "outputs": [],
   "source": [
    "inspections_fff.columns = [\"DOHMH \" + col for col in inspections_fff.columns]"
   ]
  },
  {
   "cell_type": "code",
   "execution_count": 105,
   "metadata": {
    "collapsed": false
   },
   "outputs": [
    {
     "data": {
      "text/html": [
       "<div>\n",
       "<table border=\"1\" class=\"dataframe\">\n",
       "  <thead>\n",
       "    <tr style=\"text-align: right;\">\n",
       "      <th></th>\n",
       "      <th>DOHMH DBA</th>\n",
       "      <th>DOHMH BORO</th>\n",
       "      <th>DOHMH BUILDING</th>\n",
       "      <th>DOHMH STREET</th>\n",
       "      <th>DOHMH ZIPCODE</th>\n",
       "      <th>DOHMH PHONE</th>\n",
       "      <th>DOHMH CUISINE DESCRIPTION</th>\n",
       "      <th>DOHMH INITIAL INSPECTION DATE</th>\n",
       "      <th>DOHMH ACTION</th>\n",
       "      <th>DOHMH VIOLATION CODE</th>\n",
       "      <th>DOHMH VIOLATION DESCRIPTION</th>\n",
       "      <th>DOHMH CRITICAL FLAG</th>\n",
       "      <th>DOHMH SCORE</th>\n",
       "      <th>DOHMH GRADE</th>\n",
       "      <th>DOHMH GRADE DATE</th>\n",
       "      <th>DOHMH RECORD DATE</th>\n",
       "      <th>DOHMH INITIAL INSPECTION TYPE</th>\n",
       "      <th>DOHMH LATEST INSPECTION DATE</th>\n",
       "    </tr>\n",
       "    <tr>\n",
       "      <th>CAMIS</th>\n",
       "      <th></th>\n",
       "      <th></th>\n",
       "      <th></th>\n",
       "      <th></th>\n",
       "      <th></th>\n",
       "      <th></th>\n",
       "      <th></th>\n",
       "      <th></th>\n",
       "      <th></th>\n",
       "      <th></th>\n",
       "      <th></th>\n",
       "      <th></th>\n",
       "      <th></th>\n",
       "      <th></th>\n",
       "      <th></th>\n",
       "      <th></th>\n",
       "      <th></th>\n",
       "      <th></th>\n",
       "    </tr>\n",
       "  </thead>\n",
       "  <tbody>\n",
       "    <tr>\n",
       "      <th>40374834</th>\n",
       "      <td>CASA BELLA</td>\n",
       "      <td>MANHATTAN</td>\n",
       "      <td>127.0</td>\n",
       "      <td>MULBERRY STREET</td>\n",
       "      <td>10013</td>\n",
       "      <td>2.124314e+09</td>\n",
       "      <td>Italian</td>\n",
       "      <td>2013-08-15</td>\n",
       "      <td>Violations were cited in the following area(s).</td>\n",
       "      <td>06D</td>\n",
       "      <td>Food contact surface not properly washed, rins...</td>\n",
       "      <td>Critical</td>\n",
       "      <td>6.0</td>\n",
       "      <td>NaN</td>\n",
       "      <td>NaN</td>\n",
       "      <td>09/24/2016</td>\n",
       "      <td>Cycle Inspection / Initial Inspection</td>\n",
       "      <td>2016-04-26</td>\n",
       "    </tr>\n",
       "  </tbody>\n",
       "</table>\n",
       "</div>"
      ],
      "text/plain": [
       "           DOHMH DBA DOHMH BORO  DOHMH BUILDING     DOHMH STREET  \\\n",
       "CAMIS                                                              \n",
       "40374834  CASA BELLA  MANHATTAN           127.0  MULBERRY STREET   \n",
       "\n",
       "          DOHMH ZIPCODE   DOHMH PHONE DOHMH CUISINE DESCRIPTION  \\\n",
       "CAMIS                                                             \n",
       "40374834          10013  2.124314e+09                   Italian   \n",
       "\n",
       "         DOHMH INITIAL INSPECTION DATE  \\\n",
       "CAMIS                                    \n",
       "40374834                    2013-08-15   \n",
       "\n",
       "                                             DOHMH ACTION  \\\n",
       "CAMIS                                                       \n",
       "40374834  Violations were cited in the following area(s).   \n",
       "\n",
       "         DOHMH VIOLATION CODE  \\\n",
       "CAMIS                           \n",
       "40374834                  06D   \n",
       "\n",
       "                                DOHMH VIOLATION DESCRIPTION  \\\n",
       "CAMIS                                                         \n",
       "40374834  Food contact surface not properly washed, rins...   \n",
       "\n",
       "         DOHMH CRITICAL FLAG  DOHMH SCORE DOHMH GRADE DOHMH GRADE DATE  \\\n",
       "CAMIS                                                                    \n",
       "40374834            Critical          6.0         NaN              NaN   \n",
       "\n",
       "         DOHMH RECORD DATE          DOHMH INITIAL INSPECTION TYPE  \\\n",
       "CAMIS                                                               \n",
       "40374834        09/24/2016  Cycle Inspection / Initial Inspection   \n",
       "\n",
       "         DOHMH LATEST INSPECTION DATE  \n",
       "CAMIS                                  \n",
       "40374834                   2016-04-26  "
      ]
     },
     "execution_count": 105,
     "metadata": {},
     "output_type": "execute_result"
    }
   ],
   "source": [
    "inspections_fff.sample()"
   ]
  },
  {
   "cell_type": "markdown",
   "metadata": {},
   "source": [
    "Now we get information from Yelp!"
   ]
  },
  {
   "cell_type": "code",
   "execution_count": 106,
   "metadata": {
    "collapsed": true
   },
   "outputs": [],
   "source": [
    "from yelp.client import Client\n",
    "from yelp.oauth1_authenticator import Oauth1Authenticator\n",
    "from yelp.errors import BusinessUnavailable\n",
    "import os\n",
    "import json\n",
    "\n",
    "def import_credentials(filename='../data/yelp_credentials.json'):\n",
    "    try:\n",
    "        data = json.load(open(filename))\n",
    "        return data\n",
    "    except:\n",
    "        raise IOError('This API requires Yelp credentials to work. Did you forget to define them?')\n",
    "\n",
    "credentials = import_credentials()\n",
    "\n",
    "auth = Oauth1Authenticator(\n",
    "    consumer_key=credentials['consumer_key'],\n",
    "    consumer_secret=credentials['consumer_secret'],\n",
    "    token=credentials['token'],\n",
    "    token_secret=credentials['token_secret']\n",
    ")\n",
    "\n",
    "client = Client(auth)"
   ]
  },
  {
   "cell_type": "code",
   "execution_count": 107,
   "metadata": {
    "collapsed": true
   },
   "outputs": [],
   "source": [
    "from tqdm import tqdm"
   ]
  },
  {
   "cell_type": "code",
   "execution_count": 137,
   "metadata": {
    "collapsed": true
   },
   "outputs": [],
   "source": [
    "def yelp_phone_fetch(num):\n",
    "    \"\"\"\n",
    "    Performs the phone search described in notebook 02 to fetch information on the entity associated with a number.\n",
    "    \"\"\"\n",
    "    if not num:\n",
    "        return None\n",
    "    else:\n",
    "        try:\n",
    "            business = client.phone_search(num).businesses[0]\n",
    "            return {\n",
    "                'Yelp ID': business.id,\n",
    "                'Yelp Is Claimed': business.is_claimed,\n",
    "                'Yelp Is Closed': business.is_closed,\n",
    "                'Yelp Name': business.name,\n",
    "                'Yelp URL': business.url,\n",
    "                'Yelp Review Count': business.review_count,\n",
    "                'Yelp Categories': business.categories,\n",
    "                'Yelp Rating': business.rating,\n",
    "                'Yelp Address': business.location.address,\n",
    "                'Yelp Neighborhoods': business.location.neighborhoods,\n",
    "                'Yelp Latitude': business.location.coordinate.latitude,\n",
    "                'Yelp Longitude': business.location.coordinate.longitude,\n",
    "                   }\n",
    "        except IndexError:  # Phone search failed!\n",
    "            return None"
   ]
  },
  {
   "cell_type": "markdown",
   "metadata": {},
   "source": [
    "After some testing there appears to be a *very* significant miss rate. Remember, we're fuzzy matching phone numbers from one data set with phone numbers in another dataset. It's far from 100% that we'll get something back out. I'm interested in what percentage of the time we're successful."
   ]
  },
  {
   "cell_type": "code",
   "execution_count": 129,
   "metadata": {
    "collapsed": true
   },
   "outputs": [],
   "source": [
    "def random_number_dba_tuple():\n",
    "    random_number, random_dba = inspections_fff.sample().iloc[0][['DOHMH PHONE', 'DOHMH DBA']]\n",
    "    random_number = int(random_number)\n",
    "    return random_number, random_dba"
   ]
  },
  {
   "cell_type": "code",
   "execution_count": 130,
   "metadata": {
    "collapsed": false
   },
   "outputs": [
    {
     "data": {
      "text/plain": [
       "(2126949293, 'POPEYES LOUISIANA KITCHEN')"
      ]
     },
     "execution_count": 130,
     "metadata": {},
     "output_type": "execute_result"
    }
   ],
   "source": [
    "random_number_dba_tuple()"
   ]
  },
  {
   "cell_type": "code",
   "execution_count": 127,
   "metadata": {
    "collapsed": false
   },
   "outputs": [
    {
     "data": {
      "text/plain": [
       "{'Yelp Address': ['41 E 11th St'],\n",
       " 'Yelp Categories': [Category(name='Japanese', alias='japanese')],\n",
       " 'Yelp ID': 'ootoya-greenwich-village-new-york',\n",
       " 'Yelp Is Claimed': True,\n",
       " 'Yelp Is Closed': False,\n",
       " 'Yelp Latitude': 40.7333107,\n",
       " 'Yelp Longitude': -73.9929962,\n",
       " 'Yelp Name': 'Ootoya Greenwich Village',\n",
       " 'Yelp Neighborhoods': ['Greenwich Village'],\n",
       " 'Yelp Rating': 4.0,\n",
       " 'Yelp Review Count': 135,\n",
       " 'Yelp URL': 'https://www.yelp.com/biz/ootoya-greenwich-village-new-york?adjust_creative=dkJPGu_jtTyHwsEgZIZN6g&utm_campaign=yelp_api&utm_medium=api_v2_phone_search&utm_source=dkJPGu_jtTyHwsEgZIZN6g'}"
      ]
     },
     "execution_count": 127,
     "metadata": {},
     "output_type": "execute_result"
    }
   ],
   "source": [
    "yelp_phone_fetch(random_number_dba_tuple())"
   ]
  },
  {
   "cell_type": "markdown",
   "metadata": {},
   "source": [
    "Hey I've been there! Nice. More rigorously:"
   ]
  },
  {
   "cell_type": "code",
   "execution_count": 133,
   "metadata": {
    "collapsed": true
   },
   "outputs": [],
   "source": [
    "one_hundred_randoms = [random_number_dba_tuple() for i in range(100)]"
   ]
  },
  {
   "cell_type": "code",
   "execution_count": 138,
   "metadata": {
    "collapsed": false
   },
   "outputs": [
    {
     "name": "stderr",
     "output_type": "stream",
     "text": [
      "\n",
      "  0%|                                                  | 0/100 [00:00<?, ?it/s]\n",
      "  1%|▍                                         | 1/100 [00:00<00:25,  3.85it/s]\n",
      "  2%|▊                                         | 2/100 [00:00<00:28,  3.45it/s]\n",
      "  3%|█▎                                        | 3/100 [00:00<00:25,  3.74it/s]\n",
      "  4%|█▋                                        | 4/100 [00:02<00:52,  1.84it/s]\n",
      "  5%|██                                        | 5/100 [00:02<00:42,  2.25it/s]\n",
      "  6%|██▌                                       | 6/100 [00:02<00:35,  2.62it/s]\n",
      "  7%|██▉                                       | 7/100 [00:02<00:31,  2.99it/s]\n",
      "  8%|███▎                                      | 8/100 [00:02<00:29,  3.10it/s]\n",
      "  9%|███▊                                      | 9/100 [00:03<00:32,  2.78it/s]\n",
      " 10%|████                                     | 10/100 [00:03<00:30,  2.94it/s]\n",
      " 11%|████▌                                    | 11/100 [00:03<00:26,  3.33it/s]\n",
      " 12%|████▉                                    | 12/100 [00:04<00:24,  3.54it/s]\n",
      " 13%|█████▎                                   | 13/100 [00:04<00:23,  3.64it/s]\n",
      " 14%|█████▋                                   | 14/100 [00:04<00:29,  2.95it/s]\n",
      " 15%|██████▏                                  | 15/100 [00:05<00:33,  2.58it/s]\n",
      " 16%|██████▌                                  | 16/100 [00:05<00:29,  2.88it/s]\n",
      " 17%|██████▉                                  | 17/100 [00:05<00:25,  3.22it/s]\n",
      " 18%|███████▍                                 | 18/100 [00:06<00:23,  3.47it/s]\n",
      " 19%|███████▊                                 | 19/100 [00:06<00:20,  3.86it/s]\n",
      " 20%|████████▏                                | 20/100 [00:06<00:20,  3.96it/s]\n",
      " 21%|████████▌                                | 21/100 [00:06<00:18,  4.35it/s]\n",
      " 22%|█████████                                | 22/100 [00:07<00:18,  4.14it/s]\n",
      " 23%|█████████▍                               | 23/100 [00:07<00:23,  3.23it/s]\n",
      " 24%|█████████▊                               | 24/100 [00:07<00:27,  2.72it/s]\n",
      " 25%|██████████▎                              | 25/100 [00:08<00:24,  3.10it/s]\n",
      " 26%|██████████▋                              | 26/100 [00:08<00:20,  3.55it/s]\n",
      " 27%|███████████                              | 27/100 [00:08<00:19,  3.65it/s]\n",
      " 28%|███████████▍                             | 28/100 [00:09<00:24,  2.89it/s]\n",
      " 29%|███████████▉                             | 29/100 [00:09<00:21,  3.36it/s]\n",
      " 30%|████████████▎                            | 30/100 [00:09<00:24,  2.89it/s]\n",
      " 31%|████████████▋                            | 31/100 [00:10<00:20,  3.31it/s]\n",
      " 32%|█████████████                            | 32/100 [00:10<00:18,  3.63it/s]\n",
      " 33%|█████████████▌                           | 33/100 [00:10<00:17,  3.74it/s]\n",
      " 34%|█████████████▉                           | 34/100 [00:10<00:16,  3.98it/s]\n",
      " 35%|██████████████▎                          | 35/100 [00:10<00:14,  4.38it/s]\n",
      " 36%|██████████████▊                          | 36/100 [00:11<00:14,  4.30it/s]\n",
      " 37%|███████████████▏                         | 37/100 [00:11<00:13,  4.82it/s]\n",
      " 38%|███████████████▌                         | 38/100 [00:11<00:13,  4.54it/s]\n",
      " 39%|███████████████▉                         | 39/100 [00:11<00:12,  4.75it/s]\n",
      " 40%|████████████████▍                        | 40/100 [00:11<00:12,  4.87it/s]\n",
      " 41%|████████████████▊                        | 41/100 [00:12<00:12,  4.81it/s]\n",
      " 42%|█████████████████▏                       | 42/100 [00:12<00:11,  5.05it/s]\n",
      " 43%|█████████████████▋                       | 43/100 [00:12<00:10,  5.27it/s]\n",
      " 44%|██████████████████                       | 44/100 [00:12<00:11,  4.93it/s]\n",
      " 45%|██████████████████▍                      | 45/100 [00:12<00:11,  4.97it/s]\n",
      " 46%|██████████████████▊                      | 46/100 [00:13<00:10,  4.99it/s]\n",
      " 47%|███████████████████▎                     | 47/100 [00:13<00:11,  4.72it/s]\n",
      " 48%|███████████████████▋                     | 48/100 [00:13<00:14,  3.51it/s]\n",
      " 49%|████████████████████                     | 49/100 [00:14<00:17,  2.83it/s]\n",
      " 50%|████████████████████▌                    | 50/100 [00:14<00:15,  3.23it/s]\n",
      " 51%|████████████████████▉                    | 51/100 [00:14<00:17,  2.85it/s]\n",
      " 52%|█████████████████████▎                   | 52/100 [00:15<00:15,  3.19it/s]\n",
      " 53%|█████████████████████▋                   | 53/100 [00:15<00:16,  2.81it/s]\n",
      " 54%|██████████████████████▏                  | 54/100 [00:16<00:17,  2.56it/s]\n",
      " 55%|██████████████████████▌                  | 55/100 [00:16<00:15,  2.86it/s]\n",
      " 56%|██████████████████████▉                  | 56/100 [00:16<00:13,  3.21it/s]\n",
      " 57%|███████████████████████▎                 | 57/100 [00:16<00:11,  3.63it/s]\n",
      " 58%|███████████████████████▊                 | 58/100 [00:17<00:12,  3.31it/s]\n",
      " 59%|████████████████████████▏                | 59/100 [00:17<00:11,  3.59it/s]\n",
      " 60%|████████████████████████▌                | 60/100 [00:17<00:10,  3.90it/s]\n",
      " 61%|█████████████████████████                | 61/100 [00:17<00:09,  4.20it/s]\n",
      " 62%|█████████████████████████▍               | 62/100 [00:17<00:08,  4.36it/s]\n",
      " 63%|█████████████████████████▊               | 63/100 [00:18<00:08,  4.42it/s]\n",
      " 64%|██████████████████████████▏              | 64/100 [00:18<00:07,  4.93it/s]\n",
      " 65%|██████████████████████████▋              | 65/100 [00:18<00:07,  4.83it/s]\n",
      " 66%|███████████████████████████              | 66/100 [00:18<00:07,  4.52it/s]\n",
      " 67%|███████████████████████████▍             | 67/100 [00:18<00:06,  4.74it/s]\n",
      " 68%|███████████████████████████▉             | 68/100 [00:19<00:06,  4.88it/s]\n",
      " 69%|████████████████████████████▎            | 69/100 [00:19<00:07,  4.41it/s]\n",
      " 70%|████████████████████████████▋            | 70/100 [00:20<00:09,  3.05it/s]\n",
      " 71%|█████████████████████████████            | 71/100 [00:20<00:08,  3.55it/s]\n",
      " 72%|█████████████████████████████▌           | 72/100 [00:20<00:07,  3.94it/s]\n",
      " 73%|█████████████████████████████▉           | 73/100 [00:20<00:06,  4.22it/s]\n",
      " 74%|██████████████████████████████▎          | 74/100 [00:20<00:05,  4.35it/s]\n",
      " 75%|██████████████████████████████▊          | 75/100 [00:21<00:07,  3.35it/s]\n",
      " 76%|███████████████████████████████▏         | 76/100 [00:21<00:06,  3.96it/s]\n",
      " 77%|███████████████████████████████▌         | 77/100 [00:21<00:05,  3.98it/s]\n",
      " 78%|███████████████████████████████▉         | 78/100 [00:21<00:05,  4.01it/s]\n",
      " 79%|████████████████████████████████▍        | 79/100 [00:22<00:04,  4.24it/s]\n",
      " 80%|████████████████████████████████▊        | 80/100 [00:22<00:04,  4.84it/s]\n",
      " 81%|█████████████████████████████████▏       | 81/100 [00:22<00:04,  4.73it/s]\n",
      " 82%|█████████████████████████████████▌       | 82/100 [00:22<00:03,  5.09it/s]\n",
      " 83%|██████████████████████████████████       | 83/100 [00:22<00:03,  4.94it/s]\n",
      " 84%|██████████████████████████████████▍      | 84/100 [00:22<00:03,  5.22it/s]\n",
      " 85%|██████████████████████████████████▊      | 85/100 [00:23<00:03,  4.78it/s]\n",
      " 86%|███████████████████████████████████▎     | 86/100 [00:24<00:07,  1.96it/s]\n",
      " 87%|███████████████████████████████████▋     | 87/100 [00:24<00:05,  2.35it/s]\n",
      " 88%|████████████████████████████████████     | 88/100 [00:24<00:04,  2.80it/s]\n",
      " 89%|████████████████████████████████████▍    | 89/100 [00:25<00:03,  3.16it/s]\n",
      " 90%|████████████████████████████████████▉    | 90/100 [00:25<00:02,  3.43it/s]\n",
      " 91%|█████████████████████████████████████▎   | 91/100 [00:25<00:02,  3.80it/s]\n",
      " 92%|█████████████████████████████████████▋   | 92/100 [00:25<00:01,  4.44it/s]\n",
      " 93%|██████████████████████████████████████▏  | 93/100 [00:25<00:01,  4.77it/s]\n",
      " 94%|██████████████████████████████████████▌  | 94/100 [00:26<00:01,  3.44it/s]\n",
      " 95%|██████████████████████████████████████▉  | 95/100 [00:26<00:01,  3.80it/s]\n",
      " 96%|███████████████████████████████████████▎ | 96/100 [00:26<00:00,  4.14it/s]\n",
      " 97%|███████████████████████████████████████▊ | 97/100 [00:26<00:00,  4.16it/s]\n",
      " 98%|████████████████████████████████████████▏| 98/100 [00:27<00:00,  4.70it/s]\n",
      " 99%|████████████████████████████████████████▌| 99/100 [00:27<00:00,  4.46it/s]\n",
      "100%|████████████████████████████████████████| 100/100 [00:27<00:00,  4.71it/s]\n"
     ]
    }
   ],
   "source": [
    "testset = [yelp_phone_fetch(num) for num, placename in tqdm(one_hundred_randoms)]"
   ]
  },
  {
   "cell_type": "code",
   "execution_count": 145,
   "metadata": {
    "collapsed": false
   },
   "outputs": [
    {
     "data": {
      "text/plain": [
       "19"
      ]
     },
     "execution_count": 145,
     "metadata": {},
     "output_type": "execute_result"
    }
   ],
   "source": [
    "np.array([entity == None for entity in testset]).astype(int).sum()"
   ]
  },
  {
   "cell_type": "markdown",
   "metadata": {},
   "source": [
    "19 misses in 100 randoms. So we're able to match 80% of the time. Not bad as far as fuzzy matches go.\n",
    "\n",
    "If our data is missing at random (MAR), then we are happy, because this makes for a statistically valid sample of all restaurants in New York City&mdash;we can simply drop the other values.\n",
    "\n",
    "But there's a high likelihood, in my professional opinion, that the data is missing not at a random (MNAR). I expect that it's more likely for a restaurant or eatery in a *poor* neighborhood to be missing the phone number information in Yelp! than one in a richer, whiter community. This is a severe under-reporting issue that will invalidate any conclusions we try to make using this data with regarding to \"gentrification\" and whatnot.\n",
    "\n",
    "We'll need to validate the data geospatially. We'll do that next."
   ]
  },
  {
   "cell_type": "markdown",
   "metadata": {},
   "source": [
    "Run the full Yelp! API data through. A time estimate:"
   ]
  },
  {
   "cell_type": "code",
   "execution_count": 150,
   "metadata": {
    "collapsed": false
   },
   "outputs": [
    {
     "data": {
      "text/plain": [
       "26074"
      ]
     },
     "execution_count": 150,
     "metadata": {},
     "output_type": "execute_result"
    }
   ],
   "source": [
    "len(inspections_fff)"
   ]
  },
  {
   "cell_type": "code",
   "execution_count": 149,
   "metadata": {
    "collapsed": false
   },
   "outputs": [
    {
     "data": {
      "text/plain": [
       "'96570.37037037036 seconds'"
      ]
     },
     "execution_count": 149,
     "metadata": {},
     "output_type": "execute_result"
    }
   ],
   "source": [
    "str((100/27)*len(inspections_fff)) + \" seconds\""
   ]
  },
  {
   "cell_type": "markdown",
   "metadata": {},
   "source": [
    "Oy vey.\n",
    "\n",
    "More importantly, this is slightly more than the 25000 daily call limit Yelp! imposes. So we'll have to split this op over two days!\n",
    "\n",
    "Arguably we don't really need to get all 25000 data items. But there's really no reason to skimp now."
   ]
  },
  {
   "cell_type": "code",
   "execution_count": 154,
   "metadata": {
    "collapsed": true
   },
   "outputs": [],
   "source": [
    "from tqdm import tqdm_notebook"
   ]
  },
  {
   "cell_type": "code",
   "execution_count": 159,
   "metadata": {
    "collapsed": false
   },
   "outputs": [
    {
     "name": "stdout",
     "output_type": "stream",
     "text": [
      "\n"
     ]
    },
    {
     "ename": "AttributeError",
     "evalue": "'NoneType' object has no attribute 'latitude'",
     "output_type": "error",
     "traceback": [
      "\u001b[0;31m---------------------------------------------------------------------------\u001b[0m",
      "\u001b[0;31mAttributeError\u001b[0m                            Traceback (most recent call last)",
      "\u001b[0;32m<ipython-input-159-077ee46ac331>\u001b[0m in \u001b[0;36m<module>\u001b[0;34m()\u001b[0m\n\u001b[0;32m----> 1\u001b[0;31m \u001b[0mraw_yelp_10000\u001b[0m \u001b[1;33m=\u001b[0m \u001b[1;33m[\u001b[0m\u001b[0myelp_phone_fetch\u001b[0m\u001b[1;33m(\u001b[0m\u001b[0mint\u001b[0m\u001b[1;33m(\u001b[0m\u001b[0mnum\u001b[0m\u001b[1;33m)\u001b[0m\u001b[1;33m)\u001b[0m \u001b[1;32mif\u001b[0m \u001b[0mpd\u001b[0m\u001b[1;33m.\u001b[0m\u001b[0mnotnull\u001b[0m\u001b[1;33m(\u001b[0m\u001b[0mnum\u001b[0m\u001b[1;33m)\u001b[0m \u001b[1;32melse\u001b[0m \u001b[1;32mNone\u001b[0m \u001b[1;32mfor\u001b[0m \u001b[0mnum\u001b[0m \u001b[1;32min\u001b[0m \u001b[0mtqdm_notebook\u001b[0m\u001b[1;33m(\u001b[0m\u001b[0minspections_fff\u001b[0m\u001b[1;33m[\u001b[0m\u001b[1;34m'DOHMH PHONE'\u001b[0m\u001b[1;33m]\u001b[0m\u001b[1;33m[\u001b[0m\u001b[1;33m:\u001b[0m\u001b[1;36m10000\u001b[0m\u001b[1;33m]\u001b[0m\u001b[1;33m)\u001b[0m\u001b[1;33m]\u001b[0m\u001b[1;33m\u001b[0m\u001b[0m\n\u001b[0m",
      "\u001b[0;32m<ipython-input-159-077ee46ac331>\u001b[0m in \u001b[0;36m<listcomp>\u001b[0;34m(.0)\u001b[0m\n\u001b[0;32m----> 1\u001b[0;31m \u001b[0mraw_yelp_10000\u001b[0m \u001b[1;33m=\u001b[0m \u001b[1;33m[\u001b[0m\u001b[0myelp_phone_fetch\u001b[0m\u001b[1;33m(\u001b[0m\u001b[0mint\u001b[0m\u001b[1;33m(\u001b[0m\u001b[0mnum\u001b[0m\u001b[1;33m)\u001b[0m\u001b[1;33m)\u001b[0m \u001b[1;32mif\u001b[0m \u001b[0mpd\u001b[0m\u001b[1;33m.\u001b[0m\u001b[0mnotnull\u001b[0m\u001b[1;33m(\u001b[0m\u001b[0mnum\u001b[0m\u001b[1;33m)\u001b[0m \u001b[1;32melse\u001b[0m \u001b[1;32mNone\u001b[0m \u001b[1;32mfor\u001b[0m \u001b[0mnum\u001b[0m \u001b[1;32min\u001b[0m \u001b[0mtqdm_notebook\u001b[0m\u001b[1;33m(\u001b[0m\u001b[0minspections_fff\u001b[0m\u001b[1;33m[\u001b[0m\u001b[1;34m'DOHMH PHONE'\u001b[0m\u001b[1;33m]\u001b[0m\u001b[1;33m[\u001b[0m\u001b[1;33m:\u001b[0m\u001b[1;36m10000\u001b[0m\u001b[1;33m]\u001b[0m\u001b[1;33m)\u001b[0m\u001b[1;33m]\u001b[0m\u001b[1;33m\u001b[0m\u001b[0m\n\u001b[0m",
      "\u001b[0;32m<ipython-input-137-048a3cce0a51>\u001b[0m in \u001b[0;36myelp_phone_fetch\u001b[0;34m(num)\u001b[0m\n\u001b[1;32m     19\u001b[0m                 \u001b[1;34m'Yelp Address'\u001b[0m\u001b[1;33m:\u001b[0m \u001b[0mbusiness\u001b[0m\u001b[1;33m.\u001b[0m\u001b[0mlocation\u001b[0m\u001b[1;33m.\u001b[0m\u001b[0maddress\u001b[0m\u001b[1;33m,\u001b[0m\u001b[1;33m\u001b[0m\u001b[0m\n\u001b[1;32m     20\u001b[0m                 \u001b[1;34m'Yelp Neighborhoods'\u001b[0m\u001b[1;33m:\u001b[0m \u001b[0mbusiness\u001b[0m\u001b[1;33m.\u001b[0m\u001b[0mlocation\u001b[0m\u001b[1;33m.\u001b[0m\u001b[0mneighborhoods\u001b[0m\u001b[1;33m,\u001b[0m\u001b[1;33m\u001b[0m\u001b[0m\n\u001b[0;32m---> 21\u001b[0;31m                 \u001b[1;34m'Yelp Latitude'\u001b[0m\u001b[1;33m:\u001b[0m \u001b[0mbusiness\u001b[0m\u001b[1;33m.\u001b[0m\u001b[0mlocation\u001b[0m\u001b[1;33m.\u001b[0m\u001b[0mcoordinate\u001b[0m\u001b[1;33m.\u001b[0m\u001b[0mlatitude\u001b[0m\u001b[1;33m,\u001b[0m\u001b[1;33m\u001b[0m\u001b[0m\n\u001b[0m\u001b[1;32m     22\u001b[0m                 \u001b[1;34m'Yelp Longitude'\u001b[0m\u001b[1;33m:\u001b[0m \u001b[0mbusiness\u001b[0m\u001b[1;33m.\u001b[0m\u001b[0mlocation\u001b[0m\u001b[1;33m.\u001b[0m\u001b[0mcoordinate\u001b[0m\u001b[1;33m.\u001b[0m\u001b[0mlongitude\u001b[0m\u001b[1;33m,\u001b[0m\u001b[1;33m\u001b[0m\u001b[0m\n\u001b[1;32m     23\u001b[0m                    }\n",
      "\u001b[0;31mAttributeError\u001b[0m: 'NoneType' object has no attribute 'latitude'"
     ]
    }
   ],
   "source": [
    "raw_yelp_5000 = [yelp_phone_fetch(int(num)) if pd.notnull(num) else None for num in tqdm_notebook(inspections_fff['DOHMH PHONE'][:5000])]"
   ]
  },
  {
   "cell_type": "code",
   "execution_count": 146,
   "metadata": {
    "collapsed": true
   },
   "outputs": [],
   "source": [
    "inspections_fff.to_csv(\"../data/inspections_flattened_initial.csv\", encoding=\"utf-8\")"
   ]
  }
 ],
 "metadata": {
  "anaconda-cloud": {},
  "kernelspec": {
   "display_name": "Python [conda env:nyc-restaurant-trends]",
   "language": "python",
   "name": "conda-env-nyc-restaurant-trends-py"
  },
  "language_info": {
   "codemirror_mode": {
    "name": "ipython",
    "version": 3
   },
   "file_extension": ".py",
   "mimetype": "text/x-python",
   "name": "python",
   "nbconvert_exporter": "python",
   "pygments_lexer": "ipython3",
   "version": "3.5.2"
  },
  "widgets": {
   "state": {
    "a85cb87eb28e4b90a8f89b6be3374519": {
     "views": [
      {
       "cell_index": 43
      }
     ]
    }
   },
   "version": "1.2.0"
  }
 },
 "nbformat": 4,
 "nbformat_minor": 1
}
