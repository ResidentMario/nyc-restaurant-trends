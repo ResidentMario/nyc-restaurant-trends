{
 "cells": [
  {
   "cell_type": "markdown",
   "metadata": {},
   "source": [
    "Let's do a quick data integrity check."
   ]
  },
  {
   "cell_type": "code",
   "execution_count": 1,
   "metadata": {
    "collapsed": true
   },
   "outputs": [],
   "source": [
    "import pandas as pd"
   ]
  },
  {
   "cell_type": "code",
   "execution_count": 2,
   "metadata": {
    "collapsed": true
   },
   "outputs": [],
   "source": [
    "data = pd.read_csv(\"../data/yelp_dohmh_agg_data.csv\")"
   ]
  },
  {
   "cell_type": "code",
   "execution_count": 3,
   "metadata": {
    "collapsed": false
   },
   "outputs": [
    {
     "data": {
      "text/html": [
       "<div>\n",
       "<table border=\"1\" class=\"dataframe\">\n",
       "  <thead>\n",
       "    <tr style=\"text-align: right;\">\n",
       "      <th></th>\n",
       "      <th>CAMIS</th>\n",
       "      <th>DOHMH DBA</th>\n",
       "      <th>DOHMH BORO</th>\n",
       "      <th>DOHMH BUILDING</th>\n",
       "      <th>DOHMH STREET</th>\n",
       "      <th>DOHMH ZIPCODE</th>\n",
       "      <th>DOHMH PHONE</th>\n",
       "      <th>DOHMH CUISINE DESCRIPTION</th>\n",
       "      <th>DOHMH INITIAL INSPECTION DATE</th>\n",
       "      <th>DOHMH ACTION</th>\n",
       "      <th>...</th>\n",
       "      <th>YELP LATITUDE</th>\n",
       "      <th>YELP ADDRESS</th>\n",
       "      <th>YELP ID</th>\n",
       "      <th>YELP RATING</th>\n",
       "      <th>YELP REVIEW COUNT</th>\n",
       "      <th>YELP IS CLAIMED</th>\n",
       "      <th>YELP LONGITUDE</th>\n",
       "      <th>YELP NEIGHBORHOODS</th>\n",
       "      <th>YELP CATEGORIES</th>\n",
       "      <th>YELP NAME</th>\n",
       "    </tr>\n",
       "  </thead>\n",
       "  <tbody>\n",
       "    <tr>\n",
       "      <th>1723</th>\n",
       "      <td>40578092</td>\n",
       "      <td>COSTELLO'S CLADDAGH INN</td>\n",
       "      <td>BROOKLYN</td>\n",
       "      <td>3042.0</td>\n",
       "      <td>NOSTRAND AVENUE</td>\n",
       "      <td>11229</td>\n",
       "      <td>7.183780e+09</td>\n",
       "      <td>Bottled beverages, including water, sodas, jui...</td>\n",
       "      <td>2014-03-25</td>\n",
       "      <td>Violations were cited in the following area(s).</td>\n",
       "      <td>...</td>\n",
       "      <td>40.610200</td>\n",
       "      <td>3042 Nostrand Ave</td>\n",
       "      <td>costellos-bar-brooklyn</td>\n",
       "      <td>5.0</td>\n",
       "      <td>1.0</td>\n",
       "      <td>False</td>\n",
       "      <td>-73.943900</td>\n",
       "      <td>Midwood|Marine Park</td>\n",
       "      <td>Bars</td>\n",
       "      <td>Costello's Bar</td>\n",
       "    </tr>\n",
       "    <tr>\n",
       "      <th>15755</th>\n",
       "      <td>50002109</td>\n",
       "      <td>DUNKIN' DONUTS</td>\n",
       "      <td>MANHATTAN</td>\n",
       "      <td>4030.0</td>\n",
       "      <td>BROADWAY</td>\n",
       "      <td>10032</td>\n",
       "      <td>2.129232e+09</td>\n",
       "      <td>Donuts</td>\n",
       "      <td>2014-01-07</td>\n",
       "      <td>Violations were cited in the following area(s).</td>\n",
       "      <td>...</td>\n",
       "      <td>40.835309</td>\n",
       "      <td>3794 Broadway</td>\n",
       "      <td>mcdonalds-manhattan-85</td>\n",
       "      <td>2.0</td>\n",
       "      <td>6.0</td>\n",
       "      <td>False</td>\n",
       "      <td>-73.944299</td>\n",
       "      <td>Washington Heights</td>\n",
       "      <td>Burgers|Fast Food</td>\n",
       "      <td>McDonald's</td>\n",
       "    </tr>\n",
       "    <tr>\n",
       "      <th>4746</th>\n",
       "      <td>41109543</td>\n",
       "      <td>WALDY'S WOOD FIRED PIZZA &amp; PENNE</td>\n",
       "      <td>MANHATTAN</td>\n",
       "      <td>800.0</td>\n",
       "      <td>6 AVENUE</td>\n",
       "      <td>10001</td>\n",
       "      <td>2.122135e+09</td>\n",
       "      <td>Pizza</td>\n",
       "      <td>2013-05-30</td>\n",
       "      <td>Violations were cited in the following area(s).</td>\n",
       "      <td>...</td>\n",
       "      <td>40.745767</td>\n",
       "      <td>800 6th Ave</td>\n",
       "      <td>waldys-wood-fired-pizza-and-penne-new-york-5</td>\n",
       "      <td>4.0</td>\n",
       "      <td>614.0</td>\n",
       "      <td>True</td>\n",
       "      <td>-73.990640</td>\n",
       "      <td>Flatiron</td>\n",
       "      <td>Pizza</td>\n",
       "      <td>Waldy's Wood Fired Pizza &amp; Penne</td>\n",
       "    </tr>\n",
       "    <tr>\n",
       "      <th>10343</th>\n",
       "      <td>41545050</td>\n",
       "      <td>PATRICIA'S</td>\n",
       "      <td>BRONX</td>\n",
       "      <td>1082.0</td>\n",
       "      <td>MORRIS PARK AVENUE</td>\n",
       "      <td>10461</td>\n",
       "      <td>7.184099e+09</td>\n",
       "      <td>Italian</td>\n",
       "      <td>2014-02-06</td>\n",
       "      <td>Violations were cited in the following area(s).</td>\n",
       "      <td>...</td>\n",
       "      <td>40.849094</td>\n",
       "      <td>1082 Morris Park Ave</td>\n",
       "      <td>patricias-bronx</td>\n",
       "      <td>4.0</td>\n",
       "      <td>272.0</td>\n",
       "      <td>True</td>\n",
       "      <td>-73.853333</td>\n",
       "      <td>Morris Park</td>\n",
       "      <td>Italian</td>\n",
       "      <td>Patricia's</td>\n",
       "    </tr>\n",
       "    <tr>\n",
       "      <th>10707</th>\n",
       "      <td>41564778</td>\n",
       "      <td>MELA'S CAFE</td>\n",
       "      <td>BRONX</td>\n",
       "      <td>1735.0</td>\n",
       "      <td>WASHINGTON AVENUE</td>\n",
       "      <td>10457</td>\n",
       "      <td>7.189012e+09</td>\n",
       "      <td>Spanish</td>\n",
       "      <td>2013-04-12</td>\n",
       "      <td>Violations were cited in the following area(s).</td>\n",
       "      <td>...</td>\n",
       "      <td>40.843201</td>\n",
       "      <td>1735 Washington Ave</td>\n",
       "      <td>melas-cafe-bronx</td>\n",
       "      <td>3.5</td>\n",
       "      <td>7.0</td>\n",
       "      <td>True</td>\n",
       "      <td>-73.900558</td>\n",
       "      <td>Claremont Village</td>\n",
       "      <td>Cafes</td>\n",
       "      <td>Melas Cafe</td>\n",
       "    </tr>\n",
       "  </tbody>\n",
       "</table>\n",
       "<p>5 rows × 30 columns</p>\n",
       "</div>"
      ],
      "text/plain": [
       "          CAMIS                         DOHMH DBA DOHMH BORO  DOHMH BUILDING  \\\n",
       "1723   40578092           COSTELLO'S CLADDAGH INN   BROOKLYN          3042.0   \n",
       "15755  50002109                    DUNKIN' DONUTS  MANHATTAN          4030.0   \n",
       "4746   41109543  WALDY'S WOOD FIRED PIZZA & PENNE  MANHATTAN           800.0   \n",
       "10343  41545050                        PATRICIA'S      BRONX          1082.0   \n",
       "10707  41564778                       MELA'S CAFE      BRONX          1735.0   \n",
       "\n",
       "             DOHMH STREET  DOHMH ZIPCODE   DOHMH PHONE  \\\n",
       "1723      NOSTRAND AVENUE          11229  7.183780e+09   \n",
       "15755            BROADWAY          10032  2.129232e+09   \n",
       "4746             6 AVENUE          10001  2.122135e+09   \n",
       "10343  MORRIS PARK AVENUE          10461  7.184099e+09   \n",
       "10707   WASHINGTON AVENUE          10457  7.189012e+09   \n",
       "\n",
       "                               DOHMH CUISINE DESCRIPTION  \\\n",
       "1723   Bottled beverages, including water, sodas, jui...   \n",
       "15755                                             Donuts   \n",
       "4746                                               Pizza   \n",
       "10343                                            Italian   \n",
       "10707                                            Spanish   \n",
       "\n",
       "      DOHMH INITIAL INSPECTION DATE  \\\n",
       "1723                     2014-03-25   \n",
       "15755                    2014-01-07   \n",
       "4746                     2013-05-30   \n",
       "10343                    2014-02-06   \n",
       "10707                    2013-04-12   \n",
       "\n",
       "                                          DOHMH ACTION  \\\n",
       "1723   Violations were cited in the following area(s).   \n",
       "15755  Violations were cited in the following area(s).   \n",
       "4746   Violations were cited in the following area(s).   \n",
       "10343  Violations were cited in the following area(s).   \n",
       "10707  Violations were cited in the following area(s).   \n",
       "\n",
       "                     ...                YELP LATITUDE          YELP ADDRESS  \\\n",
       "1723                 ...                    40.610200     3042 Nostrand Ave   \n",
       "15755                ...                    40.835309         3794 Broadway   \n",
       "4746                 ...                    40.745767           800 6th Ave   \n",
       "10343                ...                    40.849094  1082 Morris Park Ave   \n",
       "10707                ...                    40.843201   1735 Washington Ave   \n",
       "\n",
       "                                            YELP ID  YELP RATING  \\\n",
       "1723                         costellos-bar-brooklyn          5.0   \n",
       "15755                        mcdonalds-manhattan-85          2.0   \n",
       "4746   waldys-wood-fired-pizza-and-penne-new-york-5          4.0   \n",
       "10343                               patricias-bronx          4.0   \n",
       "10707                              melas-cafe-bronx          3.5   \n",
       "\n",
       "      YELP REVIEW COUNT YELP IS CLAIMED YELP LONGITUDE   YELP NEIGHBORHOODS  \\\n",
       "1723                1.0           False     -73.943900  Midwood|Marine Park   \n",
       "15755               6.0           False     -73.944299   Washington Heights   \n",
       "4746              614.0            True     -73.990640             Flatiron   \n",
       "10343             272.0            True     -73.853333          Morris Park   \n",
       "10707               7.0            True     -73.900558    Claremont Village   \n",
       "\n",
       "         YELP CATEGORIES                         YELP NAME  \n",
       "1723                Bars                    Costello's Bar  \n",
       "15755  Burgers|Fast Food                        McDonald's  \n",
       "4746               Pizza  Waldy's Wood Fired Pizza & Penne  \n",
       "10343            Italian                        Patricia's  \n",
       "10707              Cafes                        Melas Cafe  \n",
       "\n",
       "[5 rows x 30 columns]"
      ]
     },
     "execution_count": 3,
     "metadata": {},
     "output_type": "execute_result"
    }
   ],
   "source": [
    "data.sample(5)"
   ]
  },
  {
   "cell_type": "markdown",
   "metadata": {},
   "source": [
    "As any quick sample look will show, Yelp often disagrees with the DOHMH data on what is open at a location. These differences fall into three categories:\n",
    "\n",
    "1. The store names are similar, but not exactly the same. The difference is purely lexical&mdash;this is the same storefront. For example: `Costello's Bar` on Yelp!, `COSTELLO'S CLADDAGH INN` in the DOHMH data.\n",
    "2. The stores are clearly different. Yelp! will give me whatever is currently assigned to the phone number in question, while the DOHMH dataset draws from several years of data. In these cases, it's clear that DOHMH data refers to a historical entity. For example: `DUNKIN DONUTS` becoming `MCDONALDS` (get me off this ride, I'm getting dizzy).\n",
    "3. The restaurant in question changed its name. How do you tell when this happens? You really can't."
   ]
  },
  {
   "cell_type": "code",
   "execution_count": 7,
   "metadata": {
    "collapsed": false
   },
   "outputs": [
    {
     "data": {
      "text/plain": [
       "0.9525782688766115"
      ]
     },
     "execution_count": 7,
     "metadata": {},
     "output_type": "execute_result"
    }
   ],
   "source": [
    "import numpy as np\n",
    "\n",
    "len(np.unique(data['DOHMH PHONE'])) / len(data['DOHMH PHONE'])"
   ]
  },
  {
   "cell_type": "markdown",
   "metadata": {},
   "source": [
    "95% of phone numbers in the DOHMH data are unique. This means that 5% are not, which, corresponding with the data, means that **approximately 2.5% of restaurants inspected in the last four years have since gone out of business and had their business phone numbers recycled by other restaurants**. [Phone numbers can be recycled en carte](http://www.wsj.com/articles/SB10001424052970204012004577070122687462582), but I suspect what most often happens is that the restaurant that moves into the space afterwards might simply keep the old location's number.\n",
    "\n",
    "However, this is reasonably complex; there's no way to know for sure."
   ]
  },
  {
   "cell_type": "code",
   "execution_count": 11,
   "metadata": {
    "collapsed": false
   },
   "outputs": [
    {
     "data": {
      "text/plain": [
       "Index(['1900-01-01', '2011-08-23', '2011-10-07', '2012-06-16', '2012-06-23',\n",
       "       '2012-07-24', '2012-08-02', '2012-08-08', '2012-08-09', '2012-08-14',\n",
       "       ...\n",
       "       '2016-09-14', '2016-09-15', '2016-09-16', '2016-09-17', '2016-09-19',\n",
       "       '2016-09-20', '2016-09-21', '2016-09-22', '2016-09-23', '2016-09-24'],\n",
       "      dtype='object', length=1219)"
      ]
     },
     "execution_count": 11,
     "metadata": {},
     "output_type": "execute_result"
    }
   ],
   "source": [
    "data['DOHMH INITIAL INSPECTION DATE'].value_counts().index.sort_values()"
   ]
  },
  {
   "cell_type": "markdown",
   "metadata": {},
   "source": [
    "Yelp ratings for restaurants open on the premises of locations which formerly recieved DOHMH inspections in the previous four years:"
   ]
  },
  {
   "cell_type": "code",
   "execution_count": 27,
   "metadata": {
    "collapsed": false
   },
   "outputs": [
    {
     "data": {
      "text/plain": [
       "<matplotlib.axes._subplots.AxesSubplot at 0x10d50f898>"
      ]
     },
     "execution_count": 27,
     "metadata": {},
     "output_type": "execute_result"
    },
    {
     "data": {
      "image/png": "[encoded data removed]",
      "text/plain": [
       "<matplotlib.figure.Figure at 0x10d5f0860>"
      ]
     },
     "metadata": {},
     "output_type": "display_data"
    }
   ],
   "source": [
    "%matplotlib inline\n",
    "data['YELP RATING'].value_counts().sort_index().plot.bar()"
   ]
  },
  {
   "cell_type": "markdown",
   "metadata": {},
   "source": [
    "How many locations failed to map onto anything by phone number?"
   ]
  },
  {
   "cell_type": "code",
   "execution_count": 30,
   "metadata": {
    "collapsed": false
   },
   "outputs": [
    {
     "data": {
      "text/plain": [
       "6231"
      ]
     },
     "execution_count": 30,
     "metadata": {},
     "output_type": "execute_result"
    }
   ],
   "source": [
    "data['YELP ID'].isnull().sum()"
   ]
  },
  {
   "cell_type": "code",
   "execution_count": 32,
   "metadata": {
    "collapsed": false
   },
   "outputs": [
    {
     "data": {
      "text/plain": [
       "0.23906537753222837"
      ]
     },
     "execution_count": 32,
     "metadata": {},
     "output_type": "execute_result"
    }
   ],
   "source": [
    "data['YELP ID'].isnull().sum() / len(data['YELP ID'])"
   ]
  },
  {
   "cell_type": "markdown",
   "metadata": {},
   "source": [
    "What I need:\n",
    "\n",
    "* **Restaurant opening dates**. This would require matching [this data](https://data.cityofnewyork.us/City-Government/DOHMH-Food-Permits/mphz-k8gq). The match is impossible to perform on a simple basis; perhaps it could be done by matching datasets using the too we at MODA never did get to play around with in our time.\n",
    "* **DOHMH-to-Yelp is-same yes/no matching**. Could be done using the same tool."
   ]
  }
 ],
 "metadata": {
  "kernelspec": {
   "display_name": "Python [conda env:nyc-restaurant-trends]",
   "language": "python",
   "name": "conda-env-nyc-restaurant-trends-py"
  },
  "language_info": {
   "codemirror_mode": {
    "name": "ipython",
    "version": 3
   },
   "file_extension": ".py",
   "mimetype": "text/x-python",
   "name": "python",
   "nbconvert_exporter": "python",
   "pygments_lexer": "ipython3",
   "version": "3.5.2"
  }
 },
 "nbformat": 4,
 "nbformat_minor": 1
}
