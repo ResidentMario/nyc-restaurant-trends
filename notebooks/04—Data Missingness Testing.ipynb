{
 "cells": [
  {
   "cell_type": "markdown",
   "metadata": {},
   "source": [
    "The data synthesis op in notebook 3 resulted in a fuzzy match between complete DOHMH data and incomplete Yelp! data that could cause data nullity issues. The gist of the problem is that I suspect a larger ratio of poorer neighborhood eateries failed to map than those of restaurants in richer areas. This would invalidate any analysis we try to do afterwards comparing the two, because we would be fundamentally underestimating our effect!\n",
    "\n",
    "This notebook tests for this. Here we determine whether or not we should be worried."
   ]
  },
  {
   "cell_type": "code",
   "execution_count": 1,
   "metadata": {
    "collapsed": true
   },
   "outputs": [],
   "source": [
    "import pandas as pd"
   ]
  },
  {
   "cell_type": "code",
   "execution_count": 3,
   "metadata": {
    "collapsed": false
   },
   "outputs": [],
   "source": [
    "inspections = pd.read_csv(\"../data/inspections_flattened_initial.csv\", index_col=0)"
   ]
  },
  {
   "cell_type": "code",
   "execution_count": 4,
   "metadata": {
    "collapsed": false
   },
   "outputs": [
    {
     "data": {
      "text/html": [
       "<div>\n",
       "<table border=\"1\" class=\"dataframe\">\n",
       "  <thead>\n",
       "    <tr style=\"text-align: right;\">\n",
       "      <th></th>\n",
       "      <th>DOHMH DBA</th>\n",
       "      <th>DOHMH BORO</th>\n",
       "      <th>DOHMH BUILDING</th>\n",
       "      <th>DOHMH STREET</th>\n",
       "      <th>DOHMH ZIPCODE</th>\n",
       "      <th>DOHMH PHONE</th>\n",
       "      <th>DOHMH CUISINE DESCRIPTION</th>\n",
       "      <th>DOHMH INITIAL INSPECTION DATE</th>\n",
       "      <th>DOHMH ACTION</th>\n",
       "      <th>DOHMH VIOLATION CODE</th>\n",
       "      <th>DOHMH VIOLATION DESCRIPTION</th>\n",
       "      <th>DOHMH CRITICAL FLAG</th>\n",
       "      <th>DOHMH SCORE</th>\n",
       "      <th>DOHMH GRADE</th>\n",
       "      <th>DOHMH GRADE DATE</th>\n",
       "      <th>DOHMH RECORD DATE</th>\n",
       "      <th>DOHMH INITIAL INSPECTION TYPE</th>\n",
       "      <th>DOHMH LATEST INSPECTION DATE</th>\n",
       "    </tr>\n",
       "    <tr>\n",
       "      <th>CAMIS</th>\n",
       "      <th></th>\n",
       "      <th></th>\n",
       "      <th></th>\n",
       "      <th></th>\n",
       "      <th></th>\n",
       "      <th></th>\n",
       "      <th></th>\n",
       "      <th></th>\n",
       "      <th></th>\n",
       "      <th></th>\n",
       "      <th></th>\n",
       "      <th></th>\n",
       "      <th></th>\n",
       "      <th></th>\n",
       "      <th></th>\n",
       "      <th></th>\n",
       "      <th></th>\n",
       "      <th></th>\n",
       "    </tr>\n",
       "  </thead>\n",
       "  <tbody>\n",
       "    <tr>\n",
       "      <th>41301857</th>\n",
       "      <td>FIESTA CAFE BAR</td>\n",
       "      <td>BRONX</td>\n",
       "      <td>4640.0</td>\n",
       "      <td>3 AVENUE</td>\n",
       "      <td>10458</td>\n",
       "      <td>7.187332e+09</td>\n",
       "      <td>Latin (Cuban, Dominican, Puerto Rican, South &amp;...</td>\n",
       "      <td>2014-02-15</td>\n",
       "      <td>Violations were cited in the following area(s).</td>\n",
       "      <td>08A</td>\n",
       "      <td>Facility not vermin proof. Harborage or condit...</td>\n",
       "      <td>Not Critical</td>\n",
       "      <td>15.0</td>\n",
       "      <td>NaN</td>\n",
       "      <td>NaN</td>\n",
       "      <td>09/24/2016</td>\n",
       "      <td>Cycle Inspection / Initial Inspection</td>\n",
       "      <td>2016-09-19</td>\n",
       "    </tr>\n",
       "  </tbody>\n",
       "</table>\n",
       "</div>"
      ],
      "text/plain": [
       "                DOHMH DBA DOHMH BORO  DOHMH BUILDING DOHMH STREET  \\\n",
       "CAMIS                                                               \n",
       "41301857  FIESTA CAFE BAR      BRONX          4640.0     3 AVENUE   \n",
       "\n",
       "          DOHMH ZIPCODE   DOHMH PHONE  \\\n",
       "CAMIS                                   \n",
       "41301857          10458  7.187332e+09   \n",
       "\n",
       "                                  DOHMH CUISINE DESCRIPTION  \\\n",
       "CAMIS                                                         \n",
       "41301857  Latin (Cuban, Dominican, Puerto Rican, South &...   \n",
       "\n",
       "         DOHMH INITIAL INSPECTION DATE  \\\n",
       "CAMIS                                    \n",
       "41301857                    2014-02-15   \n",
       "\n",
       "                                             DOHMH ACTION  \\\n",
       "CAMIS                                                       \n",
       "41301857  Violations were cited in the following area(s).   \n",
       "\n",
       "         DOHMH VIOLATION CODE  \\\n",
       "CAMIS                           \n",
       "41301857                  08A   \n",
       "\n",
       "                                DOHMH VIOLATION DESCRIPTION  \\\n",
       "CAMIS                                                         \n",
       "41301857  Facility not vermin proof. Harborage or condit...   \n",
       "\n",
       "         DOHMH CRITICAL FLAG  DOHMH SCORE DOHMH GRADE DOHMH GRADE DATE  \\\n",
       "CAMIS                                                                    \n",
       "41301857        Not Critical         15.0         NaN              NaN   \n",
       "\n",
       "         DOHMH RECORD DATE          DOHMH INITIAL INSPECTION TYPE  \\\n",
       "CAMIS                                                               \n",
       "41301857        09/24/2016  Cycle Inspection / Initial Inspection   \n",
       "\n",
       "         DOHMH LATEST INSPECTION DATE  \n",
       "CAMIS                                  \n",
       "41301857                   2016-09-19  "
      ]
     },
     "execution_count": 4,
     "metadata": {},
     "output_type": "execute_result"
    }
   ],
   "source": [
    "inspections.sample(1)"
   ]
  }
 ],
 "metadata": {
  "anaconda-cloud": {},
  "kernelspec": {
   "display_name": "Python [conda env:nyc-restaurant-trends]",
   "language": "python",
   "name": "conda-env-nyc-restaurant-trends-py"
  },
  "language_info": {
   "codemirror_mode": {
    "name": "ipython",
    "version": 3
   },
   "file_extension": ".py",
   "mimetype": "text/x-python",
   "name": "python",
   "nbconvert_exporter": "python",
   "pygments_lexer": "ipython3",
   "version": "3.5.2"
  }
 },
 "nbformat": 4,
 "nbformat_minor": 1
}
