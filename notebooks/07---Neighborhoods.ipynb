{
 "cells": [
  {
   "cell_type": "code",
   "execution_count": 1,
   "metadata": {
    "collapsed": false
   },
   "outputs": [
    {
     "data": {
      "text/html": [
       "<div>\n",
       "<table border=\"1\" class=\"dataframe\">\n",
       "  <thead>\n",
       "    <tr style=\"text-align: right;\">\n",
       "      <th></th>\n",
       "      <th>DOHMH DBA</th>\n",
       "      <th>DOHMH BORO</th>\n",
       "      <th>DOHMH BUILDING</th>\n",
       "      <th>DOHMH STREET</th>\n",
       "      <th>DOHMH ZIPCODE</th>\n",
       "      <th>DOHMH PHONE</th>\n",
       "      <th>DOHMH CUISINE DESCRIPTION</th>\n",
       "      <th>DOHMH INITIAL INSPECTION DATE</th>\n",
       "      <th>DOHMH ACTION</th>\n",
       "      <th>DOHMH VIOLATION CODE</th>\n",
       "      <th>DOHMH VIOLATION DESCRIPTION</th>\n",
       "      <th>DOHMH CRITICAL FLAG</th>\n",
       "      <th>DOHMH SCORE</th>\n",
       "      <th>DOHMH GRADE</th>\n",
       "      <th>DOHMH GRADE DATE</th>\n",
       "      <th>DOHMH RECORD DATE</th>\n",
       "      <th>DOHMH INITIAL INSPECTION TYPE</th>\n",
       "      <th>DOHMH LATEST INSPECTION DATE</th>\n",
       "      <th>YELP IS CLOSED</th>\n",
       "      <th>YELP LATITUDE</th>\n",
       "      <th>YELP ADDRESS</th>\n",
       "      <th>YELP ID</th>\n",
       "      <th>YELP RATING</th>\n",
       "      <th>YELP REVIEW COUNT</th>\n",
       "      <th>YELP IS CLAIMED</th>\n",
       "      <th>YELP LONGITUDE</th>\n",
       "      <th>YELP NEIGHBORHOODS</th>\n",
       "      <th>YELP CATEGORIES</th>\n",
       "      <th>YELP NAME</th>\n",
       "    </tr>\n",
       "    <tr>\n",
       "      <th>CAMIS</th>\n",
       "      <th></th>\n",
       "      <th></th>\n",
       "      <th></th>\n",
       "      <th></th>\n",
       "      <th></th>\n",
       "      <th></th>\n",
       "      <th></th>\n",
       "      <th></th>\n",
       "      <th></th>\n",
       "      <th></th>\n",
       "      <th></th>\n",
       "      <th></th>\n",
       "      <th></th>\n",
       "      <th></th>\n",
       "      <th></th>\n",
       "      <th></th>\n",
       "      <th></th>\n",
       "      <th></th>\n",
       "      <th></th>\n",
       "      <th></th>\n",
       "      <th></th>\n",
       "      <th></th>\n",
       "      <th></th>\n",
       "      <th></th>\n",
       "      <th></th>\n",
       "      <th></th>\n",
       "      <th></th>\n",
       "      <th></th>\n",
       "      <th></th>\n",
       "    </tr>\n",
       "  </thead>\n",
       "  <tbody>\n",
       "    <tr>\n",
       "      <th>30075445</th>\n",
       "      <td>MORRIS PARK BAKE SHOP</td>\n",
       "      <td>BRONX</td>\n",
       "      <td>1007.0</td>\n",
       "      <td>MORRIS PARK AVE</td>\n",
       "      <td>10462</td>\n",
       "      <td>7.188925e+09</td>\n",
       "      <td>Bakery</td>\n",
       "      <td>2013-06-01</td>\n",
       "      <td>Violations were cited in the following area(s).</td>\n",
       "      <td>16B</td>\n",
       "      <td>The original nutritional fact labels and/or in...</td>\n",
       "      <td>Not Critical</td>\n",
       "      <td>NaN</td>\n",
       "      <td>NaN</td>\n",
       "      <td>NaN</td>\n",
       "      <td>09/27/2016</td>\n",
       "      <td>Trans Fat / Compliance Inspection</td>\n",
       "      <td>2016-02-18</td>\n",
       "      <td>False</td>\n",
       "      <td>40.848446</td>\n",
       "      <td>1007 Morris Park Avenue</td>\n",
       "      <td>morris-pk-bake-shop-bronx</td>\n",
       "      <td>4.5</td>\n",
       "      <td>27.0</td>\n",
       "      <td>False</td>\n",
       "      <td>-73.856079</td>\n",
       "      <td>Morris Park</td>\n",
       "      <td>Bakeries|Desserts</td>\n",
       "      <td>Morris Pk Bake Shop</td>\n",
       "    </tr>\n",
       "    <tr>\n",
       "      <th>30112340</th>\n",
       "      <td>WENDY'S</td>\n",
       "      <td>BROOKLYN</td>\n",
       "      <td>469.0</td>\n",
       "      <td>FLATBUSH AVENUE</td>\n",
       "      <td>11225</td>\n",
       "      <td>7.182875e+09</td>\n",
       "      <td>Hamburgers</td>\n",
       "      <td>2014-06-05</td>\n",
       "      <td>Violations were cited in the following area(s).</td>\n",
       "      <td>10B</td>\n",
       "      <td>Plumbing not properly installed or maintained;...</td>\n",
       "      <td>Not Critical</td>\n",
       "      <td>13.0</td>\n",
       "      <td>NaN</td>\n",
       "      <td>NaN</td>\n",
       "      <td>09/27/2016</td>\n",
       "      <td>Cycle Inspection / Initial Inspection</td>\n",
       "      <td>2016-04-30</td>\n",
       "      <td>False</td>\n",
       "      <td>40.662952</td>\n",
       "      <td>469 Flatbush Ave</td>\n",
       "      <td>wendys-brooklyn-4</td>\n",
       "      <td>2.0</td>\n",
       "      <td>23.0</td>\n",
       "      <td>False</td>\n",
       "      <td>-73.961753</td>\n",
       "      <td>Prospect Heights|Prospect Lefferts Gardens</td>\n",
       "      <td>Fast Food|Burgers</td>\n",
       "      <td>Wendy's</td>\n",
       "    </tr>\n",
       "    <tr>\n",
       "      <th>30191841</th>\n",
       "      <td>DJ REYNOLDS PUB AND RESTAURANT</td>\n",
       "      <td>MANHATTAN</td>\n",
       "      <td>351.0</td>\n",
       "      <td>WEST   57 STREET</td>\n",
       "      <td>10019</td>\n",
       "      <td>2.122453e+09</td>\n",
       "      <td>Irish</td>\n",
       "      <td>2013-07-22</td>\n",
       "      <td>Violations were cited in the following area(s).</td>\n",
       "      <td>10B</td>\n",
       "      <td>Plumbing not properly installed or maintained;...</td>\n",
       "      <td>Not Critical</td>\n",
       "      <td>11.0</td>\n",
       "      <td>A</td>\n",
       "      <td>07/22/2013</td>\n",
       "      <td>09/27/2016</td>\n",
       "      <td>Cycle Inspection / Initial Inspection</td>\n",
       "      <td>2016-05-31</td>\n",
       "      <td>False</td>\n",
       "      <td>40.767750</td>\n",
       "      <td>351 W 57th St</td>\n",
       "      <td>dj-reynolds-new-york-3</td>\n",
       "      <td>3.0</td>\n",
       "      <td>75.0</td>\n",
       "      <td>False</td>\n",
       "      <td>-73.984870</td>\n",
       "      <td>Midtown West|Hell's Kitchen</td>\n",
       "      <td>Irish|Pubs</td>\n",
       "      <td>DJ Reynolds</td>\n",
       "    </tr>\n",
       "    <tr>\n",
       "      <th>40356018</th>\n",
       "      <td>RIVIERA CATERER</td>\n",
       "      <td>BROOKLYN</td>\n",
       "      <td>2780.0</td>\n",
       "      <td>STILLWELL AVENUE</td>\n",
       "      <td>11224</td>\n",
       "      <td>7.183723e+09</td>\n",
       "      <td>American</td>\n",
       "      <td>2013-06-05</td>\n",
       "      <td>Violations were cited in the following area(s).</td>\n",
       "      <td>10F</td>\n",
       "      <td>Non-food contact surface improperly constructe...</td>\n",
       "      <td>Not Critical</td>\n",
       "      <td>7.0</td>\n",
       "      <td>A</td>\n",
       "      <td>06/05/2013</td>\n",
       "      <td>09/27/2016</td>\n",
       "      <td>Cycle Inspection / Initial Inspection</td>\n",
       "      <td>2016-05-16</td>\n",
       "      <td>False</td>\n",
       "      <td>40.579521</td>\n",
       "      <td>2780 Stillwell Ave</td>\n",
       "      <td>riviera-caterers-brooklyn</td>\n",
       "      <td>4.0</td>\n",
       "      <td>23.0</td>\n",
       "      <td>True</td>\n",
       "      <td>-73.982430</td>\n",
       "      <td>Coney Island</td>\n",
       "      <td>Caterers</td>\n",
       "      <td>Riviera Caterers</td>\n",
       "    </tr>\n",
       "    <tr>\n",
       "      <th>40356151</th>\n",
       "      <td>BRUNOS ON THE BOULEVARD</td>\n",
       "      <td>QUEENS</td>\n",
       "      <td>8825.0</td>\n",
       "      <td>ASTORIA BOULEVARD</td>\n",
       "      <td>11369</td>\n",
       "      <td>7.183351e+09</td>\n",
       "      <td>American</td>\n",
       "      <td>2014-04-11</td>\n",
       "      <td>Violations were cited in the following area(s).</td>\n",
       "      <td>04J</td>\n",
       "      <td>Appropriately scaled metal stem-type thermomet...</td>\n",
       "      <td>Critical</td>\n",
       "      <td>50.0</td>\n",
       "      <td>NaN</td>\n",
       "      <td>NaN</td>\n",
       "      <td>09/27/2016</td>\n",
       "      <td>Cycle Inspection / Initial Inspection</td>\n",
       "      <td>2016-05-14</td>\n",
       "      <td>False</td>\n",
       "      <td>40.764240</td>\n",
       "      <td>8825 Astoria Blvd</td>\n",
       "      <td>events-by-brunos-jackson-heights</td>\n",
       "      <td>4.0</td>\n",
       "      <td>15.0</td>\n",
       "      <td>True</td>\n",
       "      <td>-73.880410</td>\n",
       "      <td>East Elmhurst</td>\n",
       "      <td>Caterers|Venues &amp; Event Spaces</td>\n",
       "      <td>Events By Bruno's</td>\n",
       "    </tr>\n",
       "  </tbody>\n",
       "</table>\n",
       "</div>"
      ],
      "text/plain": [
       "                               DOHMH DBA DOHMH BORO  DOHMH BUILDING  \\\n",
       "CAMIS                                                                 \n",
       "30075445           MORRIS PARK BAKE SHOP      BRONX          1007.0   \n",
       "30112340                         WENDY'S   BROOKLYN           469.0   \n",
       "30191841  DJ REYNOLDS PUB AND RESTAURANT  MANHATTAN           351.0   \n",
       "40356018                 RIVIERA CATERER   BROOKLYN          2780.0   \n",
       "40356151         BRUNOS ON THE BOULEVARD     QUEENS          8825.0   \n",
       "\n",
       "               DOHMH STREET  DOHMH ZIPCODE   DOHMH PHONE  \\\n",
       "CAMIS                                                      \n",
       "30075445    MORRIS PARK AVE          10462  7.188925e+09   \n",
       "30112340    FLATBUSH AVENUE          11225  7.182875e+09   \n",
       "30191841   WEST   57 STREET          10019  2.122453e+09   \n",
       "40356018   STILLWELL AVENUE          11224  7.183723e+09   \n",
       "40356151  ASTORIA BOULEVARD          11369  7.183351e+09   \n",
       "\n",
       "         DOHMH CUISINE DESCRIPTION DOHMH INITIAL INSPECTION DATE  \\\n",
       "CAMIS                                                              \n",
       "30075445                    Bakery                    2013-06-01   \n",
       "30112340                Hamburgers                    2014-06-05   \n",
       "30191841                     Irish                    2013-07-22   \n",
       "40356018                  American                    2013-06-05   \n",
       "40356151                  American                    2014-04-11   \n",
       "\n",
       "                                             DOHMH ACTION  \\\n",
       "CAMIS                                                       \n",
       "30075445  Violations were cited in the following area(s).   \n",
       "30112340  Violations were cited in the following area(s).   \n",
       "30191841  Violations were cited in the following area(s).   \n",
       "40356018  Violations were cited in the following area(s).   \n",
       "40356151  Violations were cited in the following area(s).   \n",
       "\n",
       "         DOHMH VIOLATION CODE  \\\n",
       "CAMIS                           \n",
       "30075445                  16B   \n",
       "30112340                  10B   \n",
       "30191841                  10B   \n",
       "40356018                  10F   \n",
       "40356151                  04J   \n",
       "\n",
       "                                DOHMH VIOLATION DESCRIPTION  \\\n",
       "CAMIS                                                         \n",
       "30075445  The original nutritional fact labels and/or in...   \n",
       "30112340  Plumbing not properly installed or maintained;...   \n",
       "30191841  Plumbing not properly installed or maintained;...   \n",
       "40356018  Non-food contact surface improperly constructe...   \n",
       "40356151  Appropriately scaled metal stem-type thermomet...   \n",
       "\n",
       "         DOHMH CRITICAL FLAG  DOHMH SCORE DOHMH GRADE DOHMH GRADE DATE  \\\n",
       "CAMIS                                                                    \n",
       "30075445        Not Critical          NaN         NaN              NaN   \n",
       "30112340        Not Critical         13.0         NaN              NaN   \n",
       "30191841        Not Critical         11.0           A       07/22/2013   \n",
       "40356018        Not Critical          7.0           A       06/05/2013   \n",
       "40356151            Critical         50.0         NaN              NaN   \n",
       "\n",
       "         DOHMH RECORD DATE          DOHMH INITIAL INSPECTION TYPE  \\\n",
       "CAMIS                                                               \n",
       "30075445        09/27/2016      Trans Fat / Compliance Inspection   \n",
       "30112340        09/27/2016  Cycle Inspection / Initial Inspection   \n",
       "30191841        09/27/2016  Cycle Inspection / Initial Inspection   \n",
       "40356018        09/27/2016  Cycle Inspection / Initial Inspection   \n",
       "40356151        09/27/2016  Cycle Inspection / Initial Inspection   \n",
       "\n",
       "         DOHMH LATEST INSPECTION DATE YELP IS CLOSED  YELP LATITUDE  \\\n",
       "CAMIS                                                                 \n",
       "30075445                   2016-02-18          False      40.848446   \n",
       "30112340                   2016-04-30          False      40.662952   \n",
       "30191841                   2016-05-31          False      40.767750   \n",
       "40356018                   2016-05-16          False      40.579521   \n",
       "40356151                   2016-05-14          False      40.764240   \n",
       "\n",
       "                     YELP ADDRESS                           YELP ID  \\\n",
       "CAMIS                                                                 \n",
       "30075445  1007 Morris Park Avenue         morris-pk-bake-shop-bronx   \n",
       "30112340         469 Flatbush Ave                 wendys-brooklyn-4   \n",
       "30191841            351 W 57th St            dj-reynolds-new-york-3   \n",
       "40356018       2780 Stillwell Ave         riviera-caterers-brooklyn   \n",
       "40356151        8825 Astoria Blvd  events-by-brunos-jackson-heights   \n",
       "\n",
       "          YELP RATING  YELP REVIEW COUNT YELP IS CLAIMED  YELP LONGITUDE  \\\n",
       "CAMIS                                                                      \n",
       "30075445          4.5               27.0           False      -73.856079   \n",
       "30112340          2.0               23.0           False      -73.961753   \n",
       "30191841          3.0               75.0           False      -73.984870   \n",
       "40356018          4.0               23.0            True      -73.982430   \n",
       "40356151          4.0               15.0            True      -73.880410   \n",
       "\n",
       "                                  YELP NEIGHBORHOODS  \\\n",
       "CAMIS                                                  \n",
       "30075445                                 Morris Park   \n",
       "30112340  Prospect Heights|Prospect Lefferts Gardens   \n",
       "30191841                 Midtown West|Hell's Kitchen   \n",
       "40356018                                Coney Island   \n",
       "40356151                               East Elmhurst   \n",
       "\n",
       "                         YELP CATEGORIES            YELP NAME  \n",
       "CAMIS                                                          \n",
       "30075445               Bakeries|Desserts  Morris Pk Bake Shop  \n",
       "30112340               Fast Food|Burgers              Wendy's  \n",
       "30191841                      Irish|Pubs          DJ Reynolds  \n",
       "40356018                        Caterers     Riviera Caterers  \n",
       "40356151  Caterers|Venues & Event Spaces    Events By Bruno's  "
      ]
     },
     "execution_count": 1,
     "metadata": {},
     "output_type": "execute_result"
    }
   ],
   "source": [
    "import pandas as pd\n",
    "pd.set_option(\"max_columns\", None)\n",
    "restaurants = pd.read_csv(\"../data/yelp_dohmh_agg_data.csv\", index_col=0)\n",
    "restaurants.head()"
   ]
  },
  {
   "cell_type": "code",
   "execution_count": 7,
   "metadata": {
    "collapsed": false
   },
   "outputs": [
    {
     "data": {
      "text/plain": [
       "CAMIS\n",
       "30075445                                    [Morris Park]\n",
       "30112340    [Prospect Heights, Prospect Lefferts Gardens]\n",
       "30191841                   [Midtown West, Hell's Kitchen]\n",
       "40356018                                   [Coney Island]\n",
       "40356151                                  [East Elmhurst]\n",
       "Name: YELP NEIGHBORHOODS, dtype: object"
      ]
     },
     "execution_count": 7,
     "metadata": {},
     "output_type": "execute_result"
    }
   ],
   "source": [
    "restaurants_geo = restaurants[(pd.notnull(restaurants['YELP NEIGHBORHOODS'])) &\n",
    "                              (pd.notnull(restaurants['YELP LATITUDE'])) &\n",
    "                              (pd.notnull(restaurants['YELP LONGITUDE']))]\n",
    "neighborhoods = restaurants_geo['YELP NEIGHBORHOODS'].map(lambda n: n.split(\"|\") if pd.notnull(n) else None)\n",
    "neighborhoods.head()"
   ]
  },
  {
   "cell_type": "code",
   "execution_count": 10,
   "metadata": {
    "collapsed": false
   },
   "outputs": [
    {
     "data": {
      "text/html": [
       "<div>\n",
       "<table border=\"1\" class=\"dataframe\">\n",
       "  <thead>\n",
       "    <tr style=\"text-align: right;\">\n",
       "      <th></th>\n",
       "      <th>YELP LATITUDE</th>\n",
       "      <th>YELP LONGITUDE</th>\n",
       "    </tr>\n",
       "    <tr>\n",
       "      <th>CAMIS</th>\n",
       "      <th></th>\n",
       "      <th></th>\n",
       "    </tr>\n",
       "  </thead>\n",
       "  <tbody>\n",
       "    <tr>\n",
       "      <th>30075445</th>\n",
       "      <td>40.848446</td>\n",
       "      <td>-73.856079</td>\n",
       "    </tr>\n",
       "    <tr>\n",
       "      <th>30112340</th>\n",
       "      <td>40.662952</td>\n",
       "      <td>-73.961753</td>\n",
       "    </tr>\n",
       "    <tr>\n",
       "      <th>30191841</th>\n",
       "      <td>40.767750</td>\n",
       "      <td>-73.984870</td>\n",
       "    </tr>\n",
       "    <tr>\n",
       "      <th>40356018</th>\n",
       "      <td>40.579521</td>\n",
       "      <td>-73.982430</td>\n",
       "    </tr>\n",
       "    <tr>\n",
       "      <th>40356151</th>\n",
       "      <td>40.764240</td>\n",
       "      <td>-73.880410</td>\n",
       "    </tr>\n",
       "  </tbody>\n",
       "</table>\n",
       "</div>"
      ],
      "text/plain": [
       "          YELP LATITUDE  YELP LONGITUDE\n",
       "CAMIS                                  \n",
       "30075445      40.848446      -73.856079\n",
       "30112340      40.662952      -73.961753\n",
       "30191841      40.767750      -73.984870\n",
       "40356018      40.579521      -73.982430\n",
       "40356151      40.764240      -73.880410"
      ]
     },
     "execution_count": 10,
     "metadata": {},
     "output_type": "execute_result"
    }
   ],
   "source": [
    "restaurants_geo[['YELP LATITUDE', 'YELP LONGITUDE']].head()"
   ]
  },
  {
   "cell_type": "code",
   "execution_count": 12,
   "metadata": {
    "collapsed": false
   },
   "outputs": [
    {
     "data": {
      "text/plain": [
       "array([['Morris Park'], ['Prospect Heights', 'Prospect Lefferts Gardens'],\n",
       "       ['Midtown West', \"Hell's Kitchen\"], ..., ['Manhattan Valley'],\n",
       "       ['Flushing', 'Downtown Flushing'], ['Jamaica']], dtype=object)"
      ]
     },
     "execution_count": 12,
     "metadata": {},
     "output_type": "execute_result"
    }
   ],
   "source": [
    "import numpy as np\n",
    "neighborhoods.values"
   ]
  },
  {
   "cell_type": "code",
   "execution_count": 34,
   "metadata": {
    "collapsed": true
   },
   "outputs": [],
   "source": [
    "neighborhoods_list = []\n",
    "for ns in neighborhoods.values:\n",
    "    for n in ns:\n",
    "        neighborhoods_list.append(n)\n",
    "neighborhoods_list = np.array(neighborhoods_list)"
   ]
  },
  {
   "cell_type": "code",
   "execution_count": 37,
   "metadata": {
    "collapsed": false
   },
   "outputs": [],
   "source": [
    "neighborhood_observation_counts = pd.Series(neighborhoods_list).value_counts()"
   ]
  },
  {
   "cell_type": "code",
   "execution_count": 41,
   "metadata": {
    "collapsed": false
   },
   "outputs": [
    {
     "data": {
      "text/plain": [
       "<matplotlib.axes._subplots.AxesSubplot at 0xc9e9438>"
      ]
     },
     "execution_count": 41,
     "metadata": {},
     "output_type": "execute_result"
    },
    {
     "data": {
      "image/png": "[encoded data removed]",
      "text/plain": [
       "<matplotlib.figure.Figure at 0xca4f668>"
      ]
     },
     "metadata": {},
     "output_type": "display_data"
    }
   ],
   "source": [
    "%matplotlib inline\n",
    "neighborhood_observation_counts.plot()"
   ]
  },
  {
   "cell_type": "code",
   "execution_count": 45,
   "metadata": {
    "collapsed": false
   },
   "outputs": [
    {
     "data": {
      "text/plain": [
       "5"
      ]
     },
     "execution_count": 45,
     "metadata": {},
     "output_type": "execute_result"
    }
   ],
   "source": [
    "max([len(n) for n in neighborhoods.values])"
   ]
  },
  {
   "cell_type": "code",
   "execution_count": 46,
   "metadata": {
    "collapsed": false
   },
   "outputs": [
    {
     "data": {
      "text/plain": [
       "8003"
      ]
     },
     "execution_count": 46,
     "metadata": {},
     "output_type": "execute_result"
    }
   ],
   "source": [
    "np.argmax([len(n) for n in neighborhoods.values])"
   ]
  },
  {
   "cell_type": "code",
   "execution_count": 48,
   "metadata": {
    "collapsed": false
   },
   "outputs": [
    {
     "data": {
      "text/plain": [
       "['Flatiron', 'Union Square', 'Gramercy', 'East Village', 'Greenwich Village']"
      ]
     },
     "execution_count": 48,
     "metadata": {},
     "output_type": "execute_result"
    }
   ],
   "source": [
    "neighborhoods.iloc[8003]"
   ]
  },
  {
   "cell_type": "code",
   "execution_count": 50,
   "metadata": {
    "collapsed": false
   },
   "outputs": [
    {
     "data": {
      "text/plain": [
       "DOHMH DBA                                                                   SUBWAY\n",
       "DOHMH BORO                                                               MANHATTAN\n",
       "DOHMH BUILDING                                                                   1\n",
       "DOHMH STREET                                                          IRVING PLACE\n",
       "DOHMH ZIPCODE                                                                10003\n",
       "DOHMH PHONE                                                            2.12778e+09\n",
       "DOHMH CUISINE DESCRIPTION                                               Sandwiches\n",
       "DOHMH INITIAL INSPECTION DATE                                           2013-09-25\n",
       "DOHMH ACTION                       Violations were cited in the following area(s).\n",
       "DOHMH VIOLATION CODE                                                           08A\n",
       "DOHMH VIOLATION DESCRIPTION      Facility not vermin proof. Harborage or condit...\n",
       "DOHMH CRITICAL FLAG                                                   Not Critical\n",
       "DOHMH SCORE                                                                     13\n",
       "DOHMH GRADE                                                                      A\n",
       "DOHMH GRADE DATE                                                        09/25/2013\n",
       "DOHMH RECORD DATE                                                       09/27/2016\n",
       "DOHMH INITIAL INSPECTION TYPE                Cycle Inspection / Initial Inspection\n",
       "DOHMH LATEST INSPECTION DATE                                            2016-05-27\n",
       "YELP IS CLOSED                                                               False\n",
       "YELP LATITUDE                                                              40.7342\n",
       "YELP ADDRESS                                                         113 E 14th St\n",
       "YELP ID                                                        subway-new-york-126\n",
       "YELP RATING                                                                    2.5\n",
       "YELP REVIEW COUNT                                                               10\n",
       "YELP IS CLAIMED                                                              False\n",
       "YELP LONGITUDE                                                            -73.9892\n",
       "YELP NEIGHBORHOODS               Flatiron|Union Square|Gramercy|East Village|Gr...\n",
       "YELP CATEGORIES                                               Fast Food|Sandwiches\n",
       "YELP NAME                                                                   Subway\n",
       "Name: 41494859, dtype: object"
      ]
     },
     "execution_count": 50,
     "metadata": {},
     "output_type": "execute_result"
    }
   ],
   "source": [
    "restaurants_geo.iloc[8003]"
   ]
  },
  {
   "cell_type": "code",
   "execution_count": 54,
   "metadata": {
    "collapsed": false
   },
   "outputs": [],
   "source": [
    "neighborhoods_fived = np.asarray([n + [None]*(5 - len(n)) for n in neighborhoods.values])"
   ]
  },
  {
   "cell_type": "code",
   "execution_count": 57,
   "metadata": {
    "collapsed": false
   },
   "outputs": [
    {
     "name": "stderr",
     "output_type": "stream",
     "text": [
      "C:\\Users\\Alex\\Anaconda3\\envs\\nyc-restaurant-trends\\lib\\site-packages\\ipykernel\\__main__.py:2: SettingWithCopyWarning: \n",
      "A value is trying to be set on a copy of a slice from a DataFrame.\n",
      "Try using .loc[row_indexer,col_indexer] = value instead\n",
      "\n",
      "See the caveats in the documentation: http://pandas.pydata.org/pandas-docs/stable/indexing.html#indexing-view-versus-copy\n",
      "  from ipykernel import kernelapp as app\n",
      "C:\\Users\\Alex\\Anaconda3\\envs\\nyc-restaurant-trends\\lib\\site-packages\\ipykernel\\__main__.py:3: SettingWithCopyWarning: \n",
      "A value is trying to be set on a copy of a slice from a DataFrame.\n",
      "Try using .loc[row_indexer,col_indexer] = value instead\n",
      "\n",
      "See the caveats in the documentation: http://pandas.pydata.org/pandas-docs/stable/indexing.html#indexing-view-versus-copy\n",
      "  app.launch_new_instance()\n",
      "C:\\Users\\Alex\\Anaconda3\\envs\\nyc-restaurant-trends\\lib\\site-packages\\ipykernel\\__main__.py:4: SettingWithCopyWarning: \n",
      "A value is trying to be set on a copy of a slice from a DataFrame.\n",
      "Try using .loc[row_indexer,col_indexer] = value instead\n",
      "\n",
      "See the caveats in the documentation: http://pandas.pydata.org/pandas-docs/stable/indexing.html#indexing-view-versus-copy\n",
      "C:\\Users\\Alex\\Anaconda3\\envs\\nyc-restaurant-trends\\lib\\site-packages\\ipykernel\\__main__.py:5: SettingWithCopyWarning: \n",
      "A value is trying to be set on a copy of a slice from a DataFrame.\n",
      "Try using .loc[row_indexer,col_indexer] = value instead\n",
      "\n",
      "See the caveats in the documentation: http://pandas.pydata.org/pandas-docs/stable/indexing.html#indexing-view-versus-copy\n",
      "C:\\Users\\Alex\\Anaconda3\\envs\\nyc-restaurant-trends\\lib\\site-packages\\ipykernel\\__main__.py:6: SettingWithCopyWarning: \n",
      "A value is trying to be set on a copy of a slice from a DataFrame.\n",
      "Try using .loc[row_indexer,col_indexer] = value instead\n",
      "\n",
      "See the caveats in the documentation: http://pandas.pydata.org/pandas-docs/stable/indexing.html#indexing-view-versus-copy\n"
     ]
    }
   ],
   "source": [
    "geo = restaurants_geo[['YELP LATITUDE', 'YELP LONGITUDE']]\n",
    "geo['NEIGHBORHOOD 1'] = neighborhoods_fived[:,0]\n",
    "geo['NEIGHBORHOOD 2'] = neighborhoods_fived[:,1]\n",
    "geo['NEIGHBORHOOD 3'] = neighborhoods_fived[:,2]\n",
    "geo['NEIGHBORHOOD 4'] = neighborhoods_fived[:,3]\n",
    "geo['NEIGHBORHOOD 5'] = neighborhoods_fived[:,4]"
   ]
  },
  {
   "cell_type": "code",
   "execution_count": 59,
   "metadata": {
    "collapsed": false
   },
   "outputs": [
    {
     "data": {
      "text/html": [
       "<div>\n",
       "<table border=\"1\" class=\"dataframe\">\n",
       "  <thead>\n",
       "    <tr style=\"text-align: right;\">\n",
       "      <th></th>\n",
       "      <th>YELP LATITUDE</th>\n",
       "      <th>YELP LONGITUDE</th>\n",
       "      <th>NEIGHBORHOOD 1</th>\n",
       "      <th>NEIGHBORHOOD 2</th>\n",
       "      <th>NEIGHBORHOOD 3</th>\n",
       "      <th>NEIGHBORHOOD 4</th>\n",
       "      <th>NEIGHBORHOOD 5</th>\n",
       "    </tr>\n",
       "    <tr>\n",
       "      <th>CAMIS</th>\n",
       "      <th></th>\n",
       "      <th></th>\n",
       "      <th></th>\n",
       "      <th></th>\n",
       "      <th></th>\n",
       "      <th></th>\n",
       "      <th></th>\n",
       "    </tr>\n",
       "  </thead>\n",
       "  <tbody>\n",
       "    <tr>\n",
       "      <th>30075445</th>\n",
       "      <td>40.848446</td>\n",
       "      <td>-73.856079</td>\n",
       "      <td>Morris Park</td>\n",
       "      <td>None</td>\n",
       "      <td>None</td>\n",
       "      <td>None</td>\n",
       "      <td>None</td>\n",
       "    </tr>\n",
       "    <tr>\n",
       "      <th>30112340</th>\n",
       "      <td>40.662952</td>\n",
       "      <td>-73.961753</td>\n",
       "      <td>Prospect Heights</td>\n",
       "      <td>Prospect Lefferts Gardens</td>\n",
       "      <td>None</td>\n",
       "      <td>None</td>\n",
       "      <td>None</td>\n",
       "    </tr>\n",
       "    <tr>\n",
       "      <th>30191841</th>\n",
       "      <td>40.767750</td>\n",
       "      <td>-73.984870</td>\n",
       "      <td>Midtown West</td>\n",
       "      <td>Hell's Kitchen</td>\n",
       "      <td>None</td>\n",
       "      <td>None</td>\n",
       "      <td>None</td>\n",
       "    </tr>\n",
       "    <tr>\n",
       "      <th>40356018</th>\n",
       "      <td>40.579521</td>\n",
       "      <td>-73.982430</td>\n",
       "      <td>Coney Island</td>\n",
       "      <td>None</td>\n",
       "      <td>None</td>\n",
       "      <td>None</td>\n",
       "      <td>None</td>\n",
       "    </tr>\n",
       "    <tr>\n",
       "      <th>40356151</th>\n",
       "      <td>40.764240</td>\n",
       "      <td>-73.880410</td>\n",
       "      <td>East Elmhurst</td>\n",
       "      <td>None</td>\n",
       "      <td>None</td>\n",
       "      <td>None</td>\n",
       "      <td>None</td>\n",
       "    </tr>\n",
       "  </tbody>\n",
       "</table>\n",
       "</div>"
      ],
      "text/plain": [
       "          YELP LATITUDE  YELP LONGITUDE    NEIGHBORHOOD 1  \\\n",
       "CAMIS                                                       \n",
       "30075445      40.848446      -73.856079       Morris Park   \n",
       "30112340      40.662952      -73.961753  Prospect Heights   \n",
       "30191841      40.767750      -73.984870      Midtown West   \n",
       "40356018      40.579521      -73.982430      Coney Island   \n",
       "40356151      40.764240      -73.880410     East Elmhurst   \n",
       "\n",
       "                     NEIGHBORHOOD 2 NEIGHBORHOOD 3 NEIGHBORHOOD 4  \\\n",
       "CAMIS                                                               \n",
       "30075445                       None           None           None   \n",
       "30112340  Prospect Lefferts Gardens           None           None   \n",
       "30191841             Hell's Kitchen           None           None   \n",
       "40356018                       None           None           None   \n",
       "40356151                       None           None           None   \n",
       "\n",
       "         NEIGHBORHOOD 5  \n",
       "CAMIS                    \n",
       "30075445           None  \n",
       "30112340           None  \n",
       "30191841           None  \n",
       "40356018           None  \n",
       "40356151           None  "
      ]
     },
     "execution_count": 59,
     "metadata": {},
     "output_type": "execute_result"
    }
   ],
   "source": [
    "geo.head()"
   ]
  },
  {
   "cell_type": "code",
   "execution_count": 61,
   "metadata": {
    "collapsed": false
   },
   "outputs": [],
   "source": [
    "import mplleaflet\n",
    "import matplotlib.pyplot as plt"
   ]
  },
  {
   "cell_type": "code",
   "execution_count": 71,
   "metadata": {
    "collapsed": false
   },
   "outputs": [],
   "source": [
    "midtown_west_coords = geo[(geo['NEIGHBORHOOD 1'] == 'Midtown West') |\n",
    "                          (geo['NEIGHBORHOOD 2'] == 'Midtown West') |\n",
    "                          (geo['NEIGHBORHOOD 3'] == 'Midtown West') |\n",
    "                          (geo['NEIGHBORHOOD 4'] == 'Midtown West') |\n",
    "                          (geo['NEIGHBORHOOD 5'] == 'Midtown West')][['YELP LATITUDE', 'YELP LONGITUDE']].values"
   ]
  },
  {
   "cell_type": "code",
   "execution_count": 76,
   "metadata": {
    "collapsed": false
   },
   "outputs": [],
   "source": [
    "plt.scatter(midtown_west_coords[:,1], midtown_west_coords[:,0])\n",
    "mplleaflet.show()"
   ]
  },
  {
   "cell_type": "code",
   "execution_count": 77,
   "metadata": {
    "collapsed": false
   },
   "outputs": [
    {
     "data": {
      "text/plain": [
       "279"
      ]
     },
     "execution_count": 77,
     "metadata": {},
     "output_type": "execute_result"
    }
   ],
   "source": [
    "len(neighborhood_observation_counts)"
   ]
  },
  {
   "cell_type": "code",
   "execution_count": 82,
   "metadata": {
    "collapsed": false
   },
   "outputs": [
    {
     "data": {
      "text/plain": [
       "('Morningside Heights', 55)"
      ]
     },
     "execution_count": 82,
     "metadata": {},
     "output_type": "execute_result"
    }
   ],
   "source": [
    "neighborhood_observation_counts.index[100], neighborhood_observation_counts[100]"
   ]
  },
  {
   "cell_type": "code",
   "execution_count": 83,
   "metadata": {
    "collapsed": true
   },
   "outputs": [],
   "source": [
    "morningside_coords = geo[(geo['NEIGHBORHOOD 1'] == 'Morningside Heights') |\n",
    "                         (geo['NEIGHBORHOOD 2'] == 'Morningside Heights') |\n",
    "                         (geo['NEIGHBORHOOD 3'] == 'Morningside Heights') |\n",
    "                         (geo['NEIGHBORHOOD 4'] == 'Morningside Heights') |\n",
    "                         (geo['NEIGHBORHOOD 5'] == 'Morningside Heights')][['YELP LATITUDE', 'YELP LONGITUDE']].values\n",
    "plt.scatter(morningside_coords[:,1], morningside_coords[:,0])\n",
    "mplleaflet.show()"
   ]
  },
  {
   "cell_type": "code",
   "execution_count": 85,
   "metadata": {
    "collapsed": false
   },
   "outputs": [
    {
     "data": {
      "text/plain": [
       "('Wakefield', 12)"
      ]
     },
     "execution_count": 85,
     "metadata": {},
     "output_type": "execute_result"
    }
   ],
   "source": [
    "neighborhood_observation_counts.index[200], neighborhood_observation_counts[200]"
   ]
  },
  {
   "cell_type": "code",
   "execution_count": 86,
   "metadata": {
    "collapsed": true
   },
   "outputs": [],
   "source": [
    "wakefield_coords = geo[(geo['NEIGHBORHOOD 1'] == 'Wakefield') |\n",
    "                       (geo['NEIGHBORHOOD 2'] == 'Wakefield') |\n",
    "                       (geo['NEIGHBORHOOD 3'] == 'Wakefield') |\n",
    "                       (geo['NEIGHBORHOOD 4'] == 'Wakefield') |\n",
    "                       (geo['NEIGHBORHOOD 5'] == 'Wakefield')][['YELP LATITUDE', 'YELP LONGITUDE']].values\n",
    "plt.scatter(wakefield_coords[:,1], wakefield_coords[:,0])\n",
    "mplleaflet.show()"
   ]
  },
  {
   "cell_type": "code",
   "execution_count": null,
   "metadata": {
    "collapsed": true
   },
   "outputs": [],
   "source": []
  }
 ],
 "metadata": {
  "anaconda-cloud": {},
  "kernelspec": {
   "display_name": "Python [conda env:nyc-restaurant-trends]",
   "language": "python",
   "name": "conda-env-nyc-restaurant-trends-py"
  },
  "language_info": {
   "codemirror_mode": {
    "name": "ipython",
    "version": 3
   },
   "file_extension": ".py",
   "mimetype": "text/x-python",
   "name": "python",
   "nbconvert_exporter": "python",
   "pygments_lexer": "ipython3",
   "version": "3.5.2"
  }
 },
 "nbformat": 4,
 "nbformat_minor": 1
}
